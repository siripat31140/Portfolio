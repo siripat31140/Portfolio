{
 "cells": [
  {
   "cell_type": "code",
   "execution_count": 1,
   "id": "3b88dc78",
   "metadata": {},
   "outputs": [],
   "source": [
    "import pandas as pd\n",
    "import numpy as np\n",
    "from pandas.api.types import CategoricalDtype\n",
    "from sklearn.impute import KNNImputer\n",
    "import matplotlib.pyplot as plt\n"
   ]
  },
  {
   "cell_type": "markdown",
   "id": "2a795341",
   "metadata": {},
   "source": [
    "# df1"
   ]
  },
  {
   "cell_type": "code",
   "execution_count": 2,
   "id": "7c81d7c5",
   "metadata": {},
   "outputs": [],
   "source": [
    "df1 = pd.read_excel('EXP2022-01_STATSTD.xlsx' , sheet_name=0)"
   ]
  },
  {
   "cell_type": "code",
   "execution_count": 3,
   "id": "208286ab",
   "metadata": {},
   "outputs": [],
   "source": [
    "df1[df1.STATUSTEXT == 'มารายงานตัวแล้ว'].index\n",
    "df1.drop(index=df1[df1.STATUSTEXT == 'มารายงานตัวแล้ว'].index.tolist(), inplace=True)"
   ]
  },
  {
   "cell_type": "code",
   "execution_count": 4,
   "id": "7e4eee3c",
   "metadata": {},
   "outputs": [],
   "source": [
    "df1.drop([ 'PROGRAMID' , 'STUDENTSTATUS', 'SCHOOLNAME','GRADUATEYEAR' ] , axis=1, inplace=True)"
   ]
  },
  {
   "cell_type": "code",
   "execution_count": 5,
   "id": "b9c8dc15",
   "metadata": {},
   "outputs": [],
   "source": [
    "df1.replace('-', np.nan, inplace=True)"
   ]
  },
  {
   "cell_type": "code",
   "execution_count": 6,
   "id": "3c1ddf5e",
   "metadata": {},
   "outputs": [
    {
     "data": {
      "text/plain": [
       "Index(['สารสนเทศสถิติ', 'สถิติ',\n",
       "       'สถิติและวิทยาการข้อมูล สาขาวิชาเอกสารสนเทศสถิติและวิทยาการข้อมูล',\n",
       "       'สถิติและวิทยาการข้อมูล สาขาวิชาเอกสถิติศาสตร์'],\n",
       "      dtype='object')"
      ]
     },
     "execution_count": 6,
     "metadata": {},
     "output_type": "execute_result"
    }
   ],
   "source": [
    "df1['PROGRAMNAME'].value_counts().index"
   ]
  },
  {
   "cell_type": "code",
   "execution_count": 7,
   "id": "624535ff",
   "metadata": {},
   "outputs": [
    {
     "data": {
      "text/plain": [
       "Index(['นักศึกษาปัจจุบัน สถานะปกติ', 'สำเร็จการศึกษา', 'พ้นสภาพเนื่องจากลาออก',\n",
       "       'พ้นสภาพเนื่องจากไม่ชำระค่าต่อทะเบียนนักศึกษา', 'พ้นสภาพเนื่องจากตกออก',\n",
       "       'พ้นสภาพเนื่องจากไม่ลงทะเบียนตามเวลากำหนด', 'ลาพักการเรียน'],\n",
       "      dtype='object')"
      ]
     },
     "execution_count": 7,
     "metadata": {},
     "output_type": "execute_result"
    }
   ],
   "source": [
    "df1['STATUSTEXT'].value_counts().index"
   ]
  },
  {
   "cell_type": "code",
   "execution_count": 8,
   "id": "ef5633f6",
   "metadata": {},
   "outputs": [
    {
     "data": {
      "text/plain": [
       "(718, 15)"
      ]
     },
     "execution_count": 8,
     "metadata": {},
     "output_type": "execute_result"
    }
   ],
   "source": [
    "#df1 =df1[df1['ADMITACADYEAR'] != 2564]\n",
    "#df1.to_csv(r'datavisul.csv',encoding='utf-8-sig')\n",
    "df1.shape"
   ]
  },
  {
   "cell_type": "code",
   "execution_count": 9,
   "id": "ca26be84",
   "metadata": {},
   "outputs": [],
   "source": [
    "df1.STATUSTEXT.replace({'นักศึกษาปัจจุบัน สถานะปกติ' : 0, 'สำเร็จการศึกษา' :0,\n",
    "                       'พ้นสภาพเนื่องจากลาออก':1,\n",
    "      'พ้นสภาพเนื่องจากไม่ชำระค่าต่อทะเบียนนักศึกษา':1, 'พ้นสภาพเนื่องจากตกออก':1,\n",
    "    'พ้นสภาพเนื่องจากไม่ลงทะเบียนตามเวลากำหนด':1, 'ลาพักการเรียน':0}, inplace=True)\n",
    "\n",
    "df1.STUDENTSEX.replace({'หญิง':0, 'ชาย':1}, inplace=True)\n"
   ]
  },
  {
   "cell_type": "code",
   "execution_count": 10,
   "id": "09bf3b4f",
   "metadata": {},
   "outputs": [],
   "source": [
    "\n",
    "df1['PROGRAMNAME'] = df1['PROGRAMNAME'].astype( CategoricalDtype([ 'สารสนเทศสถิติ', 'สถิติ',\n",
    "       'สถิติและวิทยาการข้อมูล สาขาวิชาเอกสารสนเทศสถิติและวิทยาการข้อมูล',\n",
    "       'สถิติและวิทยาการข้อมูล สาขาวิชาเอกสถิติศาสตร์' ], ordered=True))\n",
    "\n",
    "df1['Type_Exam'] = df1['Type_Exam'].astype( CategoricalDtype([ 'สอบคัดเลือกจากระบบกลาง(Admissions)',\n",
    "       'สอบคัดเลือกประเภทโควตาภาคตะวันออกเฉียงเหนือ', 'โควตาทั่วประเทศ',\n",
    "       'โครงการรับนักเรียนที่เป็นผู้มีคุณธรรม จริยธรรม และบริการสังคม',\n",
    "       'โครงการร่วมรับนักศึกษาภาคใต้กับมหาวิทยาลัยสงขลานครินทร์ โดยวิธีรับตรง',\n",
    "       'การคัดเลือกโดยวิธีพิเศษ',\n",
    "       'โครงการร่วมรับนักศึกษาภาคเหนือกับมหาวิทยาลัยเชียงใหม่ โดยวิธีรับตรง',\n",
    "       'โครงการมูลนิธิส่งเสริมโอลิมปิกวิชาการฯ (สอวน.)' ], ordered=True))\n",
    "\n",
    "df1['STATUSOFTHFATHER'] = df1['STATUSOFTHFATHER'].astype( CategoricalDtype([ 'อยู่ด้วยกัน', 'หย่าขาดจากกัน', 'บิดาถึงแก่กรรม',\n",
    "       'แยกกันอยู่เพราะเหตุผลอื่นๆ', 'แยกกันอยู่เพราะความจำเป็นเกี่ยวกับอาชีพ',\n",
    "       'มารดาถึงแก่กรรม', 'บิดามารดาถึงแก่กรรม' ], ordered=True))\n",
    "        "
   ]
  },
  {
   "cell_type": "code",
   "execution_count": 11,
   "id": "f6ce3d39",
   "metadata": {},
   "outputs": [],
   "source": [
    "df1['PROGRAMNAME']=df1.PROGRAMNAME.cat.codes\n",
    "df1['Type_Exam']=df1['Type_Exam'].cat.codes\n",
    "df1['STATUSOFTHFATHER']=df1.STATUSOFTHFATHER.cat.codes"
   ]
  },
  {
   "cell_type": "code",
   "execution_count": 12,
   "id": "4c690f90",
   "metadata": {},
   "outputs": [
    {
     "data": {
      "text/html": [
       "<div><div id=6b6d13f5-cc98-457c-b9a6-83f3c1e1d830 style=\"display:none; background-color:#9D6CFF; color:white; width:200px; height:30px; padding-left:5px; border-radius:4px; flex-direction:row; justify-content:space-around; align-items:center;\" onmouseover=\"this.style.backgroundColor='#BA9BF8'\" onmouseout=\"this.style.backgroundColor='#9D6CFF'\" onclick=\"window.commands?.execute('create-mitosheet-from-dataframe-output');\">See Full Dataframe in Mito</div> <script> if (window.commands.hasCommand('create-mitosheet-from-dataframe-output')) document.getElementById('6b6d13f5-cc98-457c-b9a6-83f3c1e1d830').style.display = 'flex' </script> <table border=\"1\" class=\"dataframe\">\n",
       "  <thead>\n",
       "    <tr style=\"text-align: right;\">\n",
       "      <th></th>\n",
       "      <th>HSID</th>\n",
       "      <th>PROGRAMNAME</th>\n",
       "      <th>ADMITACADYEAR</th>\n",
       "      <th>STATUSTEXT</th>\n",
       "      <th>GPA</th>\n",
       "      <th>ENTRYGPA</th>\n",
       "      <th>Type_Exam</th>\n",
       "      <th>STUDENTSEX</th>\n",
       "      <th>STATUSOFTHFATHER</th>\n",
       "      <th>FATHERINCOME</th>\n",
       "      <th>YEARFATHER</th>\n",
       "      <th>MOTHERINCOME</th>\n",
       "      <th>YEARMOTHER</th>\n",
       "      <th>บุตรคนที่</th>\n",
       "      <th>จำนวนพี่น้อง</th>\n",
       "    </tr>\n",
       "  </thead>\n",
       "  <tbody>\n",
       "    <tr>\n",
       "      <th>0</th>\n",
       "      <td>10B25D084BD9221E9DD46E0FEBC078F2</td>\n",
       "      <td>1</td>\n",
       "      <td>2558</td>\n",
       "      <td>1</td>\n",
       "      <td>1.21</td>\n",
       "      <td>3.26</td>\n",
       "      <td>1</td>\n",
       "      <td>0</td>\n",
       "      <td>0</td>\n",
       "      <td>100000</td>\n",
       "      <td>44</td>\n",
       "      <td>100000</td>\n",
       "      <td>45</td>\n",
       "      <td>1.0</td>\n",
       "      <td>4</td>\n",
       "    </tr>\n",
       "    <tr>\n",
       "      <th>1</th>\n",
       "      <td>52A85071146F727402AF928F6A000913</td>\n",
       "      <td>1</td>\n",
       "      <td>2558</td>\n",
       "      <td>1</td>\n",
       "      <td>2.74</td>\n",
       "      <td>3.65</td>\n",
       "      <td>1</td>\n",
       "      <td>0</td>\n",
       "      <td>0</td>\n",
       "      <td>20000</td>\n",
       "      <td>59</td>\n",
       "      <td>15000</td>\n",
       "      <td>54</td>\n",
       "      <td>1.0</td>\n",
       "      <td>2</td>\n",
       "    </tr>\n",
       "    <tr>\n",
       "      <th>2</th>\n",
       "      <td>4841685FB7535D94D69C041D01236E33</td>\n",
       "      <td>1</td>\n",
       "      <td>2558</td>\n",
       "      <td>0</td>\n",
       "      <td>2.60</td>\n",
       "      <td>3.38</td>\n",
       "      <td>1</td>\n",
       "      <td>0</td>\n",
       "      <td>0</td>\n",
       "      <td>10000</td>\n",
       "      <td>43</td>\n",
       "      <td>9000</td>\n",
       "      <td>37</td>\n",
       "      <td>1.0</td>\n",
       "      <td>2</td>\n",
       "    </tr>\n",
       "    <tr>\n",
       "      <th>3</th>\n",
       "      <td>D9F4ADF1492A801669E02957367B4800</td>\n",
       "      <td>1</td>\n",
       "      <td>2558</td>\n",
       "      <td>0</td>\n",
       "      <td>2.44</td>\n",
       "      <td>3.82</td>\n",
       "      <td>1</td>\n",
       "      <td>0</td>\n",
       "      <td>0</td>\n",
       "      <td>30000</td>\n",
       "      <td>49</td>\n",
       "      <td>30000</td>\n",
       "      <td>48</td>\n",
       "      <td>3.0</td>\n",
       "      <td>3</td>\n",
       "    </tr>\n",
       "    <tr>\n",
       "      <th>4</th>\n",
       "      <td>2A5133DDDC8B468E22C6623C39FEB299</td>\n",
       "      <td>1</td>\n",
       "      <td>2558</td>\n",
       "      <td>0</td>\n",
       "      <td>2.29</td>\n",
       "      <td>3.16</td>\n",
       "      <td>1</td>\n",
       "      <td>0</td>\n",
       "      <td>0</td>\n",
       "      <td>53080</td>\n",
       "      <td>59</td>\n",
       "      <td>47660</td>\n",
       "      <td>54</td>\n",
       "      <td>3.0</td>\n",
       "      <td>3</td>\n",
       "    </tr>\n",
       "  </tbody>\n",
       "</table></div>"
      ],
      "text/plain": [
       "                               HSID  PROGRAMNAME  ADMITACADYEAR  STATUSTEXT  \\\n",
       "0  10B25D084BD9221E9DD46E0FEBC078F2            1           2558           1   \n",
       "1  52A85071146F727402AF928F6A000913            1           2558           1   \n",
       "2  4841685FB7535D94D69C041D01236E33            1           2558           0   \n",
       "3  D9F4ADF1492A801669E02957367B4800            1           2558           0   \n",
       "4  2A5133DDDC8B468E22C6623C39FEB299            1           2558           0   \n",
       "\n",
       "    GPA  ENTRYGPA  Type_Exam  STUDENTSEX  STATUSOFTHFATHER FATHERINCOME  \\\n",
       "0  1.21      3.26          1           0                 0       100000   \n",
       "1  2.74      3.65          1           0                 0        20000   \n",
       "2  2.60      3.38          1           0                 0        10000   \n",
       "3  2.44      3.82          1           0                 0        30000   \n",
       "4  2.29      3.16          1           0                 0        53080   \n",
       "\n",
       "  YEARFATHER MOTHERINCOME YEARMOTHER  บุตรคนที่ จำนวนพี่น้อง  \n",
       "0         44       100000         45        1.0            4  \n",
       "1         59        15000         54        1.0            2  \n",
       "2         43         9000         37        1.0            2  \n",
       "3         49        30000         48        3.0            3  \n",
       "4         59        47660         54        3.0            3  "
      ]
     },
     "execution_count": 12,
     "metadata": {},
     "output_type": "execute_result"
    }
   ],
   "source": [
    "df1.head()"
   ]
  },
  {
   "cell_type": "code",
   "execution_count": 13,
   "id": "af39c7c6",
   "metadata": {},
   "outputs": [],
   "source": [
    "df1['YEARFATHER'].replace(regex=True,inplace=True,to_replace=r'\\D',value= np.nan)\n",
    "df1['FATHERINCOME'].replace(regex=True,inplace=True,to_replace=r'\\D',value= np.nan)\n",
    "df1['MOTHERINCOME'].replace(regex=True,inplace=True,to_replace=r'\\D',value= np.nan)\n",
    "df1['YEARMOTHER'].replace(regex=True,inplace=True,to_replace=r'\\D',value= np.nan)\n",
    "df1['บุตรคนที่'].replace(regex=True,inplace=True,to_replace=r'\\D',value= np.nan)\n",
    "df1['จำนวนพี่น้อง'].replace(regex=True,inplace=True,to_replace=r'\\D',value= np.nan)"
   ]
  },
  {
   "cell_type": "code",
   "execution_count": 14,
   "id": "448bd9b1",
   "metadata": {},
   "outputs": [],
   "source": [
    "imputer = KNNImputer(n_neighbors=2, weights=\"uniform\")\n",
    "df1[['FATHERINCOME', 'YEARFATHER', 'MOTHERINCOME', 'YEARMOTHER']] = imputer.fit_transform(df1[['FATHERINCOME', 'YEARFATHER', 'MOTHERINCOME', 'YEARMOTHER']])"
   ]
  },
  {
   "cell_type": "code",
   "execution_count": 15,
   "id": "c00a6801",
   "metadata": {},
   "outputs": [],
   "source": [
    "df1.dropna(inplace=True)"
   ]
  },
  {
   "cell_type": "code",
   "execution_count": 16,
   "id": "ced99c0f",
   "metadata": {},
   "outputs": [
    {
     "data": {
      "text/html": [
       "<div><div id=1e2506bb-3188-4b9c-adcc-1c96a502a004 style=\"display:none; background-color:#9D6CFF; color:white; width:200px; height:30px; padding-left:5px; border-radius:4px; flex-direction:row; justify-content:space-around; align-items:center;\" onmouseover=\"this.style.backgroundColor='#BA9BF8'\" onmouseout=\"this.style.backgroundColor='#9D6CFF'\" onclick=\"window.commands?.execute('create-mitosheet-from-dataframe-output');\">See Full Dataframe in Mito</div> <script> if (window.commands.hasCommand('create-mitosheet-from-dataframe-output')) document.getElementById('1e2506bb-3188-4b9c-adcc-1c96a502a004').style.display = 'flex' </script> <table border=\"1\" class=\"dataframe\">\n",
       "  <thead>\n",
       "    <tr style=\"text-align: right;\">\n",
       "      <th></th>\n",
       "      <th>HSID</th>\n",
       "      <th>PROGRAMNAME</th>\n",
       "      <th>ADMITACADYEAR</th>\n",
       "      <th>STATUSTEXT</th>\n",
       "      <th>GPA</th>\n",
       "      <th>ENTRYGPA</th>\n",
       "      <th>Type_Exam</th>\n",
       "      <th>STUDENTSEX</th>\n",
       "      <th>STATUSOFTHFATHER</th>\n",
       "      <th>FATHERINCOME</th>\n",
       "      <th>YEARFATHER</th>\n",
       "      <th>MOTHERINCOME</th>\n",
       "      <th>YEARMOTHER</th>\n",
       "      <th>บุตรคนที่</th>\n",
       "      <th>จำนวนพี่น้อง</th>\n",
       "    </tr>\n",
       "  </thead>\n",
       "  <tbody>\n",
       "    <tr>\n",
       "      <th>0</th>\n",
       "      <td>10B25D084BD9221E9DD46E0FEBC078F2</td>\n",
       "      <td>1</td>\n",
       "      <td>2558</td>\n",
       "      <td>1</td>\n",
       "      <td>1.21</td>\n",
       "      <td>3.26</td>\n",
       "      <td>1</td>\n",
       "      <td>0</td>\n",
       "      <td>0</td>\n",
       "      <td>100000.0</td>\n",
       "      <td>44.0</td>\n",
       "      <td>100000.0</td>\n",
       "      <td>45.0</td>\n",
       "      <td>1.0</td>\n",
       "      <td>4</td>\n",
       "    </tr>\n",
       "    <tr>\n",
       "      <th>1</th>\n",
       "      <td>52A85071146F727402AF928F6A000913</td>\n",
       "      <td>1</td>\n",
       "      <td>2558</td>\n",
       "      <td>1</td>\n",
       "      <td>2.74</td>\n",
       "      <td>3.65</td>\n",
       "      <td>1</td>\n",
       "      <td>0</td>\n",
       "      <td>0</td>\n",
       "      <td>20000.0</td>\n",
       "      <td>59.0</td>\n",
       "      <td>15000.0</td>\n",
       "      <td>54.0</td>\n",
       "      <td>1.0</td>\n",
       "      <td>2</td>\n",
       "    </tr>\n",
       "    <tr>\n",
       "      <th>2</th>\n",
       "      <td>4841685FB7535D94D69C041D01236E33</td>\n",
       "      <td>1</td>\n",
       "      <td>2558</td>\n",
       "      <td>0</td>\n",
       "      <td>2.60</td>\n",
       "      <td>3.38</td>\n",
       "      <td>1</td>\n",
       "      <td>0</td>\n",
       "      <td>0</td>\n",
       "      <td>10000.0</td>\n",
       "      <td>43.0</td>\n",
       "      <td>9000.0</td>\n",
       "      <td>37.0</td>\n",
       "      <td>1.0</td>\n",
       "      <td>2</td>\n",
       "    </tr>\n",
       "    <tr>\n",
       "      <th>3</th>\n",
       "      <td>D9F4ADF1492A801669E02957367B4800</td>\n",
       "      <td>1</td>\n",
       "      <td>2558</td>\n",
       "      <td>0</td>\n",
       "      <td>2.44</td>\n",
       "      <td>3.82</td>\n",
       "      <td>1</td>\n",
       "      <td>0</td>\n",
       "      <td>0</td>\n",
       "      <td>30000.0</td>\n",
       "      <td>49.0</td>\n",
       "      <td>30000.0</td>\n",
       "      <td>48.0</td>\n",
       "      <td>3.0</td>\n",
       "      <td>3</td>\n",
       "    </tr>\n",
       "    <tr>\n",
       "      <th>4</th>\n",
       "      <td>2A5133DDDC8B468E22C6623C39FEB299</td>\n",
       "      <td>1</td>\n",
       "      <td>2558</td>\n",
       "      <td>0</td>\n",
       "      <td>2.29</td>\n",
       "      <td>3.16</td>\n",
       "      <td>1</td>\n",
       "      <td>0</td>\n",
       "      <td>0</td>\n",
       "      <td>53080.0</td>\n",
       "      <td>59.0</td>\n",
       "      <td>47660.0</td>\n",
       "      <td>54.0</td>\n",
       "      <td>3.0</td>\n",
       "      <td>3</td>\n",
       "    </tr>\n",
       "  </tbody>\n",
       "</table></div>"
      ],
      "text/plain": [
       "                               HSID  PROGRAMNAME  ADMITACADYEAR  STATUSTEXT  \\\n",
       "0  10B25D084BD9221E9DD46E0FEBC078F2            1           2558           1   \n",
       "1  52A85071146F727402AF928F6A000913            1           2558           1   \n",
       "2  4841685FB7535D94D69C041D01236E33            1           2558           0   \n",
       "3  D9F4ADF1492A801669E02957367B4800            1           2558           0   \n",
       "4  2A5133DDDC8B468E22C6623C39FEB299            1           2558           0   \n",
       "\n",
       "    GPA  ENTRYGPA  Type_Exam  STUDENTSEX  STATUSOFTHFATHER  FATHERINCOME  \\\n",
       "0  1.21      3.26          1           0                 0      100000.0   \n",
       "1  2.74      3.65          1           0                 0       20000.0   \n",
       "2  2.60      3.38          1           0                 0       10000.0   \n",
       "3  2.44      3.82          1           0                 0       30000.0   \n",
       "4  2.29      3.16          1           0                 0       53080.0   \n",
       "\n",
       "   YEARFATHER  MOTHERINCOME  YEARMOTHER  บุตรคนที่ จำนวนพี่น้อง  \n",
       "0        44.0      100000.0        45.0        1.0            4  \n",
       "1        59.0       15000.0        54.0        1.0            2  \n",
       "2        43.0        9000.0        37.0        1.0            2  \n",
       "3        49.0       30000.0        48.0        3.0            3  \n",
       "4        59.0       47660.0        54.0        3.0            3  "
      ]
     },
     "execution_count": 16,
     "metadata": {},
     "output_type": "execute_result"
    }
   ],
   "source": [
    "df1.head()"
   ]
  },
  {
   "cell_type": "markdown",
   "id": "baa426bb",
   "metadata": {},
   "source": [
    "# df2"
   ]
  },
  {
   "cell_type": "code",
   "execution_count": 17,
   "id": "84691658",
   "metadata": {},
   "outputs": [],
   "source": [
    "df2 = pd.read_excel('EXP2022-01_STATSTD.xlsx' , sheet_name=1)"
   ]
  },
  {
   "cell_type": "code",
   "execution_count": 18,
   "id": "987914d8",
   "metadata": {},
   "outputs": [],
   "source": [
    "df2.dropna(inplace=True)"
   ]
  },
  {
   "cell_type": "code",
   "execution_count": 19,
   "id": "4a8c14a8",
   "metadata": {},
   "outputs": [
    {
     "name": "stdout",
     "output_type": "stream",
     "text": [
      "<class 'pandas.core.frame.DataFrame'>\n",
      "Int64Index: 24491 entries, 0 to 26631\n",
      "Data columns (total 4 columns):\n",
      " #   Column         Non-Null Count  Dtype \n",
      "---  ------         --------------  ----- \n",
      " 0   HSID           24491 non-null  object\n",
      " 1   COURSECODE     24491 non-null  object\n",
      " 2   COURSENAMEENG  24491 non-null  object\n",
      " 3   GRADE          24491 non-null  object\n",
      "dtypes: object(4)\n",
      "memory usage: 956.7+ KB\n"
     ]
    }
   ],
   "source": [
    "df2.info()"
   ]
  },
  {
   "cell_type": "code",
   "execution_count": 20,
   "id": "6747686d",
   "metadata": {},
   "outputs": [
    {
     "data": {
      "text/html": [
       "<div><div id=fb6748a3-50dd-4ea3-8999-e8f74aece5bc style=\"display:none; background-color:#9D6CFF; color:white; width:200px; height:30px; padding-left:5px; border-radius:4px; flex-direction:row; justify-content:space-around; align-items:center;\" onmouseover=\"this.style.backgroundColor='#BA9BF8'\" onmouseout=\"this.style.backgroundColor='#9D6CFF'\" onclick=\"window.commands?.execute('create-mitosheet-from-dataframe-output');\">See Full Dataframe in Mito</div> <script> if (window.commands.hasCommand('create-mitosheet-from-dataframe-output')) document.getElementById('fb6748a3-50dd-4ea3-8999-e8f74aece5bc').style.display = 'flex' </script> <table border=\"1\" class=\"dataframe\">\n",
       "  <thead>\n",
       "    <tr style=\"text-align: right;\">\n",
       "      <th></th>\n",
       "      <th>HSID</th>\n",
       "      <th>COURSECODE</th>\n",
       "      <th>COURSENAMEENG</th>\n",
       "      <th>GRADE</th>\n",
       "    </tr>\n",
       "  </thead>\n",
       "  <tbody>\n",
       "    <tr>\n",
       "      <th>0</th>\n",
       "      <td>10B25D084BD9221E9DD46E0FEBC078F2</td>\n",
       "      <td>311112</td>\n",
       "      <td>BIOLOGY FOR PHYSICAL SCIENCE LABORATORY</td>\n",
       "      <td>D</td>\n",
       "    </tr>\n",
       "    <tr>\n",
       "      <th>1</th>\n",
       "      <td>10B25D084BD9221E9DD46E0FEBC078F2</td>\n",
       "      <td>311111</td>\n",
       "      <td>BIOLOGY FOR PHYSICAL SCIENCE</td>\n",
       "      <td>D+</td>\n",
       "    </tr>\n",
       "    <tr>\n",
       "      <th>2</th>\n",
       "      <td>10B25D084BD9221E9DD46E0FEBC078F2</td>\n",
       "      <td>315106</td>\n",
       "      <td>ELEMENTARY PHYSICS</td>\n",
       "      <td>D+</td>\n",
       "    </tr>\n",
       "    <tr>\n",
       "      <th>3</th>\n",
       "      <td>10B25D084BD9221E9DD46E0FEBC078F2</td>\n",
       "      <td>322161</td>\n",
       "      <td>INTRODUCTION TO INFORMATION AND COMMUNICATION TECHNOLOGY</td>\n",
       "      <td>D+</td>\n",
       "    </tr>\n",
       "    <tr>\n",
       "      <th>4</th>\n",
       "      <td>10B25D084BD9221E9DD46E0FEBC078F2</td>\n",
       "      <td>312108</td>\n",
       "      <td>FUNDAMENTAL CHEMISTRY</td>\n",
       "      <td>F</td>\n",
       "    </tr>\n",
       "  </tbody>\n",
       "</table></div>"
      ],
      "text/plain": [
       "                               HSID COURSECODE  \\\n",
       "0  10B25D084BD9221E9DD46E0FEBC078F2     311112   \n",
       "1  10B25D084BD9221E9DD46E0FEBC078F2     311111   \n",
       "2  10B25D084BD9221E9DD46E0FEBC078F2     315106   \n",
       "3  10B25D084BD9221E9DD46E0FEBC078F2     322161   \n",
       "4  10B25D084BD9221E9DD46E0FEBC078F2     312108   \n",
       "\n",
       "                                       COURSENAMEENG GRADE  \n",
       "0            BIOLOGY FOR PHYSICAL SCIENCE LABORATORY     D  \n",
       "1                       BIOLOGY FOR PHYSICAL SCIENCE    D+  \n",
       "2                                 ELEMENTARY PHYSICS    D+  \n",
       "3  INTRODUCTION TO INFORMATION AND COMMUNICATION ...    D+  \n",
       "4                              FUNDAMENTAL CHEMISTRY     F  "
      ]
     },
     "execution_count": 20,
     "metadata": {},
     "output_type": "execute_result"
    }
   ],
   "source": [
    "df2.head()"
   ]
  },
  {
   "cell_type": "code",
   "execution_count": 21,
   "id": "f45edec0",
   "metadata": {},
   "outputs": [
    {
     "data": {
      "text/plain": [
       "Index(['A', 'B', 'B+', 'C+', 'C', 'D+', 'D', 'F', 'S', 'W', 'S AU', 'U'], dtype='object')"
      ]
     },
     "execution_count": 21,
     "metadata": {},
     "output_type": "execute_result"
    }
   ],
   "source": [
    "df2.GRADE.value_counts().index"
   ]
  },
  {
   "cell_type": "code",
   "execution_count": 22,
   "id": "16cda138",
   "metadata": {},
   "outputs": [
    {
     "name": "stderr",
     "output_type": "stream",
     "text": [
      "C:\\Users\\SIRIPAT JANKHUANG\\anaconda3\\envs\\pycaret\\lib\\site-packages\\ipykernel_launcher.py:3: FutureWarning: In a future version of pandas all arguments of DataFrame.drop except for the argument 'labels' will be keyword-only\n",
      "  This is separate from the ipykernel package so we can avoid doing imports until\n"
     ]
    }
   ],
   "source": [
    "df2['COURSE_GRADE'] = df2.COURSENAMEENG + '_' +df2.GRADE\n",
    "dummy_df = pd.get_dummies(df2,columns = ['COURSE_GRADE'])\n",
    "dummy_df.drop(['COURSECODE', 'COURSENAMEENG'],1,inplace=True)\n",
    "dummy_df.dropna(inplace=True)"
   ]
  },
  {
   "cell_type": "code",
   "execution_count": 23,
   "id": "aaa829b6",
   "metadata": {},
   "outputs": [],
   "source": [
    "data_final = dummy_df.groupby('HSID').sum().reset_index()"
   ]
  },
  {
   "cell_type": "code",
   "execution_count": 24,
   "id": "11cfd254",
   "metadata": {},
   "outputs": [
    {
     "name": "stdout",
     "output_type": "stream",
     "text": [
      "<class 'pandas.core.frame.DataFrame'>\n",
      "RangeIndex: 699 entries, 0 to 698\n",
      "Columns: 1085 entries, HSID to COURSE_GRADE_WORLD CIVILIZATION_B+\n",
      "dtypes: object(1), uint8(1084)\n",
      "memory usage: 745.5+ KB\n"
     ]
    }
   ],
   "source": [
    "data_final.info()"
   ]
  },
  {
   "cell_type": "code",
   "execution_count": 25,
   "id": "97b94fef",
   "metadata": {},
   "outputs": [
    {
     "data": {
      "text/plain": [
       "105"
      ]
     },
     "execution_count": 25,
     "metadata": {},
     "output_type": "execute_result"
    }
   ],
   "source": [
    "df_selec_F = pd.DataFrame(data_final.columns.str.split('_').tolist(),\n",
    "                                 columns = ['a', 'b', 'c','d'])\n",
    "\n",
    "df_selec_F = df_selec_F[df_selec_F['d'] == 'F']\n",
    "\n",
    "df_selec_F['E'] = df_selec_F['a']+ '_'+df_selec_F['b']+'_'+df_selec_F['c']+'_'+df_selec_F['d']\n",
    "len(df_selec_F.E.values)\n",
    "\n"
   ]
  },
  {
   "cell_type": "code",
   "execution_count": 26,
   "id": "9234c5df",
   "metadata": {},
   "outputs": [
    {
     "name": "stdout",
     "output_type": "stream",
     "text": [
      "<class 'pandas.core.frame.DataFrame'>\n",
      "RangeIndex: 699 entries, 0 to 698\n",
      "Columns: 106 entries, HSID to COURSE_GRADE_Statistical Analysis I_F\n",
      "dtypes: object(1), uint8(105)\n",
      "memory usage: 77.3+ KB\n"
     ]
    },
    {
     "name": "stderr",
     "output_type": "stream",
     "text": [
      "C:\\Users\\SIRIPAT JANKHUANG\\anaconda3\\envs\\pycaret\\lib\\site-packages\\ipykernel_launcher.py:1: FutureWarning: In a future version of pandas all arguments of concat except for the argument 'objs' will be keyword-only\n",
      "  \"\"\"Entry point for launching an IPython kernel.\n"
     ]
    }
   ],
   "source": [
    "data_final = pd.concat((data_final['HSID'] , data_final[df_selec_F.E.values]) , 1)\n",
    "data_final.info()"
   ]
  },
  {
   "cell_type": "code",
   "execution_count": 27,
   "id": "a6d5cd66",
   "metadata": {},
   "outputs": [],
   "source": [
    "data = df1.merge(data_final, how='left', on='HSID')"
   ]
  },
  {
   "cell_type": "code",
   "execution_count": 28,
   "id": "6ecbf2a7",
   "metadata": {},
   "outputs": [
    {
     "name": "stderr",
     "output_type": "stream",
     "text": [
      "C:\\Users\\SIRIPAT JANKHUANG\\anaconda3\\envs\\pycaret\\lib\\site-packages\\ipykernel_launcher.py:1: FutureWarning: In a future version of pandas all arguments of DataFrame.drop except for the argument 'labels' will be keyword-only\n",
      "  \"\"\"Entry point for launching an IPython kernel.\n"
     ]
    }
   ],
   "source": [
    "data.drop('HSID',1,inplace=True)"
   ]
  },
  {
   "cell_type": "code",
   "execution_count": 29,
   "id": "dba1a093",
   "metadata": {},
   "outputs": [
    {
     "name": "stdout",
     "output_type": "stream",
     "text": [
      "<class 'pandas.core.frame.DataFrame'>\n",
      "Int64Index: 707 entries, 0 to 706\n",
      "Columns: 119 entries, PROGRAMNAME to COURSE_GRADE_Statistical Analysis I_F\n",
      "dtypes: float64(112), int64(3), int8(3), object(1)\n",
      "memory usage: 648.3+ KB\n"
     ]
    }
   ],
   "source": [
    "data.info()"
   ]
  },
  {
   "cell_type": "code",
   "execution_count": 30,
   "id": "55d2a55b",
   "metadata": {},
   "outputs": [
    {
     "data": {
      "text/plain": [
       "(707, 119)"
      ]
     },
     "execution_count": 30,
     "metadata": {},
     "output_type": "execute_result"
    }
   ],
   "source": [
    "data.shape"
   ]
  },
  {
   "cell_type": "code",
   "execution_count": 31,
   "id": "cdd1c8ae",
   "metadata": {},
   "outputs": [
    {
     "data": {
      "text/html": [
       "<div><div id=e82a7e05-d5a3-4c94-8138-c2062bd00473 style=\"display:none; background-color:#9D6CFF; color:white; width:200px; height:30px; padding-left:5px; border-radius:4px; flex-direction:row; justify-content:space-around; align-items:center;\" onmouseover=\"this.style.backgroundColor='#BA9BF8'\" onmouseout=\"this.style.backgroundColor='#9D6CFF'\" onclick=\"window.commands?.execute('create-mitosheet-from-dataframe-output');\">See Full Dataframe in Mito</div> <script> if (window.commands.hasCommand('create-mitosheet-from-dataframe-output')) document.getElementById('e82a7e05-d5a3-4c94-8138-c2062bd00473').style.display = 'flex' </script> <table border=\"1\" class=\"dataframe\">\n",
       "  <thead>\n",
       "    <tr style=\"text-align: right;\">\n",
       "      <th></th>\n",
       "      <th>PROGRAMNAME</th>\n",
       "      <th>ADMITACADYEAR</th>\n",
       "      <th>STATUSTEXT</th>\n",
       "      <th>GPA</th>\n",
       "      <th>ENTRYGPA</th>\n",
       "      <th>Type_Exam</th>\n",
       "      <th>STUDENTSEX</th>\n",
       "      <th>STATUSOFTHFATHER</th>\n",
       "      <th>FATHERINCOME</th>\n",
       "      <th>YEARFATHER</th>\n",
       "      <th>...</th>\n",
       "      <th>COURSE_GRADE_STATISTICAL ANALYSIS I_F</th>\n",
       "      <th>COURSE_GRADE_STATISTICAL DATA PROCESSING_F</th>\n",
       "      <th>COURSE_GRADE_STATISTICAL INFORMATION FOR STRATEGIC MANAGEMENT_F</th>\n",
       "      <th>COURSE_GRADE_STATISTICAL INFORMATION PROJECT II_F</th>\n",
       "      <th>COURSE_GRADE_STATISTICAL MODEL_F</th>\n",
       "      <th>COURSE_GRADE_STATISTICAL QUALITY CONTROL_F</th>\n",
       "      <th>COURSE_GRADE_STATISTICAL THEORY II_F</th>\n",
       "      <th>COURSE_GRADE_STATISTICAL THEORY I_F</th>\n",
       "      <th>COURSE_GRADE_Statistical Analysis II_F</th>\n",
       "      <th>COURSE_GRADE_Statistical Analysis I_F</th>\n",
       "    </tr>\n",
       "  </thead>\n",
       "  <tbody>\n",
       "    <tr>\n",
       "      <th>0</th>\n",
       "      <td>1</td>\n",
       "      <td>2558</td>\n",
       "      <td>1</td>\n",
       "      <td>1.21</td>\n",
       "      <td>3.26</td>\n",
       "      <td>1</td>\n",
       "      <td>0</td>\n",
       "      <td>0</td>\n",
       "      <td>100000.0</td>\n",
       "      <td>44.0</td>\n",
       "      <td>...</td>\n",
       "      <td>1.0</td>\n",
       "      <td>0.0</td>\n",
       "      <td>0.0</td>\n",
       "      <td>0.0</td>\n",
       "      <td>0.0</td>\n",
       "      <td>0.0</td>\n",
       "      <td>0.0</td>\n",
       "      <td>0.0</td>\n",
       "      <td>0.0</td>\n",
       "      <td>0.0</td>\n",
       "    </tr>\n",
       "    <tr>\n",
       "      <th>1</th>\n",
       "      <td>1</td>\n",
       "      <td>2558</td>\n",
       "      <td>1</td>\n",
       "      <td>2.74</td>\n",
       "      <td>3.65</td>\n",
       "      <td>1</td>\n",
       "      <td>0</td>\n",
       "      <td>0</td>\n",
       "      <td>20000.0</td>\n",
       "      <td>59.0</td>\n",
       "      <td>...</td>\n",
       "      <td>0.0</td>\n",
       "      <td>0.0</td>\n",
       "      <td>0.0</td>\n",
       "      <td>0.0</td>\n",
       "      <td>0.0</td>\n",
       "      <td>0.0</td>\n",
       "      <td>0.0</td>\n",
       "      <td>0.0</td>\n",
       "      <td>0.0</td>\n",
       "      <td>0.0</td>\n",
       "    </tr>\n",
       "    <tr>\n",
       "      <th>2</th>\n",
       "      <td>1</td>\n",
       "      <td>2558</td>\n",
       "      <td>0</td>\n",
       "      <td>2.60</td>\n",
       "      <td>3.38</td>\n",
       "      <td>1</td>\n",
       "      <td>0</td>\n",
       "      <td>0</td>\n",
       "      <td>10000.0</td>\n",
       "      <td>43.0</td>\n",
       "      <td>...</td>\n",
       "      <td>0.0</td>\n",
       "      <td>0.0</td>\n",
       "      <td>0.0</td>\n",
       "      <td>0.0</td>\n",
       "      <td>0.0</td>\n",
       "      <td>0.0</td>\n",
       "      <td>0.0</td>\n",
       "      <td>0.0</td>\n",
       "      <td>0.0</td>\n",
       "      <td>0.0</td>\n",
       "    </tr>\n",
       "    <tr>\n",
       "      <th>3</th>\n",
       "      <td>1</td>\n",
       "      <td>2558</td>\n",
       "      <td>0</td>\n",
       "      <td>2.44</td>\n",
       "      <td>3.82</td>\n",
       "      <td>1</td>\n",
       "      <td>0</td>\n",
       "      <td>0</td>\n",
       "      <td>30000.0</td>\n",
       "      <td>49.0</td>\n",
       "      <td>...</td>\n",
       "      <td>0.0</td>\n",
       "      <td>0.0</td>\n",
       "      <td>0.0</td>\n",
       "      <td>0.0</td>\n",
       "      <td>0.0</td>\n",
       "      <td>0.0</td>\n",
       "      <td>0.0</td>\n",
       "      <td>0.0</td>\n",
       "      <td>0.0</td>\n",
       "      <td>0.0</td>\n",
       "    </tr>\n",
       "    <tr>\n",
       "      <th>4</th>\n",
       "      <td>1</td>\n",
       "      <td>2558</td>\n",
       "      <td>0</td>\n",
       "      <td>2.29</td>\n",
       "      <td>3.16</td>\n",
       "      <td>1</td>\n",
       "      <td>0</td>\n",
       "      <td>0</td>\n",
       "      <td>53080.0</td>\n",
       "      <td>59.0</td>\n",
       "      <td>...</td>\n",
       "      <td>0.0</td>\n",
       "      <td>0.0</td>\n",
       "      <td>0.0</td>\n",
       "      <td>0.0</td>\n",
       "      <td>0.0</td>\n",
       "      <td>0.0</td>\n",
       "      <td>0.0</td>\n",
       "      <td>0.0</td>\n",
       "      <td>0.0</td>\n",
       "      <td>0.0</td>\n",
       "    </tr>\n",
       "  </tbody>\n",
       "</table></div>"
      ],
      "text/plain": [
       "   PROGRAMNAME  ADMITACADYEAR  STATUSTEXT   GPA  ENTRYGPA  Type_Exam  \\\n",
       "0            1           2558           1  1.21      3.26          1   \n",
       "1            1           2558           1  2.74      3.65          1   \n",
       "2            1           2558           0  2.60      3.38          1   \n",
       "3            1           2558           0  2.44      3.82          1   \n",
       "4            1           2558           0  2.29      3.16          1   \n",
       "\n",
       "   STUDENTSEX  STATUSOFTHFATHER  FATHERINCOME  YEARFATHER  ...  \\\n",
       "0           0                 0      100000.0        44.0  ...   \n",
       "1           0                 0       20000.0        59.0  ...   \n",
       "2           0                 0       10000.0        43.0  ...   \n",
       "3           0                 0       30000.0        49.0  ...   \n",
       "4           0                 0       53080.0        59.0  ...   \n",
       "\n",
       "   COURSE_GRADE_STATISTICAL ANALYSIS I_F  \\\n",
       "0                                    1.0   \n",
       "1                                    0.0   \n",
       "2                                    0.0   \n",
       "3                                    0.0   \n",
       "4                                    0.0   \n",
       "\n",
       "   COURSE_GRADE_STATISTICAL DATA PROCESSING_F  \\\n",
       "0                                         0.0   \n",
       "1                                         0.0   \n",
       "2                                         0.0   \n",
       "3                                         0.0   \n",
       "4                                         0.0   \n",
       "\n",
       "   COURSE_GRADE_STATISTICAL INFORMATION FOR STRATEGIC MANAGEMENT_F  \\\n",
       "0                                                0.0                 \n",
       "1                                                0.0                 \n",
       "2                                                0.0                 \n",
       "3                                                0.0                 \n",
       "4                                                0.0                 \n",
       "\n",
       "  COURSE_GRADE_STATISTICAL INFORMATION PROJECT II_F  \\\n",
       "0                                               0.0   \n",
       "1                                               0.0   \n",
       "2                                               0.0   \n",
       "3                                               0.0   \n",
       "4                                               0.0   \n",
       "\n",
       "   COURSE_GRADE_STATISTICAL MODEL_F  \\\n",
       "0                               0.0   \n",
       "1                               0.0   \n",
       "2                               0.0   \n",
       "3                               0.0   \n",
       "4                               0.0   \n",
       "\n",
       "   COURSE_GRADE_STATISTICAL QUALITY CONTROL_F  \\\n",
       "0                                         0.0   \n",
       "1                                         0.0   \n",
       "2                                         0.0   \n",
       "3                                         0.0   \n",
       "4                                         0.0   \n",
       "\n",
       "   COURSE_GRADE_STATISTICAL THEORY II_F  COURSE_GRADE_STATISTICAL THEORY I_F  \\\n",
       "0                                   0.0                                  0.0   \n",
       "1                                   0.0                                  0.0   \n",
       "2                                   0.0                                  0.0   \n",
       "3                                   0.0                                  0.0   \n",
       "4                                   0.0                                  0.0   \n",
       "\n",
       "   COURSE_GRADE_Statistical Analysis II_F  \\\n",
       "0                                     0.0   \n",
       "1                                     0.0   \n",
       "2                                     0.0   \n",
       "3                                     0.0   \n",
       "4                                     0.0   \n",
       "\n",
       "   COURSE_GRADE_Statistical Analysis I_F  \n",
       "0                                    0.0  \n",
       "1                                    0.0  \n",
       "2                                    0.0  \n",
       "3                                    0.0  \n",
       "4                                    0.0  \n",
       "\n",
       "[5 rows x 119 columns]"
      ]
     },
     "execution_count": 31,
     "metadata": {},
     "output_type": "execute_result"
    }
   ],
   "source": [
    "data.head()"
   ]
  },
  {
   "cell_type": "code",
   "execution_count": null,
   "id": "ced24d38",
   "metadata": {},
   "outputs": [],
   "source": []
  },
  {
   "cell_type": "code",
   "execution_count": 32,
   "id": "9274d1eb",
   "metadata": {},
   "outputs": [],
   "source": [
    "data_2564 =data[data['ADMITACADYEAR'] == 2564]\n",
    "data =data[data['ADMITACADYEAR'] != 2564]"
   ]
  },
  {
   "cell_type": "code",
   "execution_count": 33,
   "id": "8a0d8732",
   "metadata": {},
   "outputs": [
    {
     "name": "stderr",
     "output_type": "stream",
     "text": [
      "C:\\Users\\SIRIPAT JANKHUANG\\anaconda3\\envs\\pycaret\\lib\\site-packages\\ipykernel_launcher.py:1: FutureWarning: In a future version of pandas all arguments of DataFrame.drop except for the argument 'labels' will be keyword-only\n",
      "  \"\"\"Entry point for launching an IPython kernel.\n"
     ]
    }
   ],
   "source": [
    "data_2564.drop('ADMITACADYEAR',1, inplace=True)"
   ]
  },
  {
   "cell_type": "code",
   "execution_count": 34,
   "id": "27fa7218",
   "metadata": {},
   "outputs": [
    {
     "name": "stderr",
     "output_type": "stream",
     "text": [
      "C:\\Users\\SIRIPAT JANKHUANG\\anaconda3\\envs\\pycaret\\lib\\site-packages\\ipykernel_launcher.py:1: FutureWarning: In a future version of pandas all arguments of DataFrame.drop except for the argument 'labels' will be keyword-only\n",
      "  \"\"\"Entry point for launching an IPython kernel.\n"
     ]
    }
   ],
   "source": [
    "data.drop('ADMITACADYEAR',1, inplace=True)"
   ]
  },
  {
   "cell_type": "markdown",
   "id": "ff19ad87",
   "metadata": {},
   "source": [
    "# Feature selection"
   ]
  },
  {
   "cell_type": "code",
   "execution_count": 35,
   "id": "9d53a974",
   "metadata": {},
   "outputs": [
    {
     "data": {
      "text/html": [
       "<div><div id=e3e4b2d1-f80b-4231-9b59-2bd91fbb0c19 style=\"display:none; background-color:#9D6CFF; color:white; width:200px; height:30px; padding-left:5px; border-radius:4px; flex-direction:row; justify-content:space-around; align-items:center;\" onmouseover=\"this.style.backgroundColor='#BA9BF8'\" onmouseout=\"this.style.backgroundColor='#9D6CFF'\" onclick=\"window.commands?.execute('create-mitosheet-from-dataframe-output');\">See Full Dataframe in Mito</div> <script> if (window.commands.hasCommand('create-mitosheet-from-dataframe-output')) document.getElementById('e3e4b2d1-f80b-4231-9b59-2bd91fbb0c19').style.display = 'flex' </script> <table border=\"1\" class=\"dataframe\">\n",
       "  <thead>\n",
       "    <tr style=\"text-align: right;\">\n",
       "      <th></th>\n",
       "      <th>Attribute</th>\n",
       "      <th>P-value</th>\n",
       "    </tr>\n",
       "  </thead>\n",
       "  <tbody>\n",
       "    <tr>\n",
       "      <th>1</th>\n",
       "      <td>PROGRAMNAME</td>\n",
       "      <td>0.05650</td>\n",
       "    </tr>\n",
       "    <tr>\n",
       "      <th>2</th>\n",
       "      <td>Type_Exam</td>\n",
       "      <td>0.46326</td>\n",
       "    </tr>\n",
       "    <tr>\n",
       "      <th>3</th>\n",
       "      <td>STATUSOFTHFATHER</td>\n",
       "      <td>0.39503</td>\n",
       "    </tr>\n",
       "  </tbody>\n",
       "</table></div>"
      ],
      "text/plain": [
       "          Attribute  P-value\n",
       "1       PROGRAMNAME  0.05650\n",
       "2         Type_Exam  0.46326\n",
       "3  STATUSOFTHFATHER  0.39503"
      ]
     },
     "execution_count": 35,
     "metadata": {},
     "output_type": "execute_result"
    }
   ],
   "source": [
    "from scipy import stats # chi-sq test\n",
    "categorical_features=['STUDENTSEX','PROGRAMNAME' ,'Type_Exam' ,'STATUSOFTHFATHER']\n",
    "\n",
    "#loop test chi- sq test\n",
    "stat_sig = []\n",
    "for i in categorical_features:\n",
    "    data_count = pd.crosstab(data[i] , data['STATUSTEXT'])\n",
    "    obs = data_count.values\n",
    "    #print(obs)\n",
    "    chi2 , p , dof , expected = stats.chi2_contingency(obs)\n",
    "    #print(p)\n",
    "    stat_sig.append([i , round(p , 5)])\n",
    "\n",
    "#print(stat_sig)\n",
    "\n",
    "stat_sig = pd.DataFrame(stat_sig)\n",
    "stat_sig.columns = ['Attribute' , 'P-value']\n",
    "stat_sig[stat_sig['P-value'] > 0.05]"
   ]
  },
  {
   "cell_type": "code",
   "execution_count": 36,
   "id": "8386dd09",
   "metadata": {},
   "outputs": [
    {
     "name": "stderr",
     "output_type": "stream",
     "text": [
      "C:\\Users\\SIRIPAT JANKHUANG\\anaconda3\\envs\\pycaret\\lib\\site-packages\\ipykernel_launcher.py:1: FutureWarning: In a future version of pandas all arguments of DataFrame.drop except for the argument 'labels' will be keyword-only\n",
      "  \"\"\"Entry point for launching an IPython kernel.\n"
     ]
    }
   ],
   "source": [
    "data.drop(np.array(stat_sig[stat_sig['P-value'] > 0.05].Attribute) ,1 , inplace=True)"
   ]
  },
  {
   "cell_type": "code",
   "execution_count": null,
   "id": "b0bba8a9",
   "metadata": {},
   "outputs": [],
   "source": []
  },
  {
   "cell_type": "code",
   "execution_count": 37,
   "id": "9aef7651",
   "metadata": {},
   "outputs": [
    {
     "data": {
      "text/html": [
       "<div><div id=709f88ab-8034-43c3-bc41-6e3cbb84de6b style=\"display:none; background-color:#9D6CFF; color:white; width:200px; height:30px; padding-left:5px; border-radius:4px; flex-direction:row; justify-content:space-around; align-items:center;\" onmouseover=\"this.style.backgroundColor='#BA9BF8'\" onmouseout=\"this.style.backgroundColor='#9D6CFF'\" onclick=\"window.commands?.execute('create-mitosheet-from-dataframe-output');\">See Full Dataframe in Mito</div> <script> if (window.commands.hasCommand('create-mitosheet-from-dataframe-output')) document.getElementById('709f88ab-8034-43c3-bc41-6e3cbb84de6b').style.display = 'flex' </script> <table border=\"1\" class=\"dataframe\">\n",
       "  <thead>\n",
       "    <tr style=\"text-align: right;\">\n",
       "      <th></th>\n",
       "      <th>Attribute</th>\n",
       "      <th>P-value</th>\n",
       "    </tr>\n",
       "  </thead>\n",
       "  <tbody>\n",
       "    <tr>\n",
       "      <th>0</th>\n",
       "      <td>COURSE_GRADE_\\tBUSINESS INFORMATION SYSTEMS ANALYSIS AND DESIGN_F</td>\n",
       "      <td>0.45207</td>\n",
       "    </tr>\n",
       "    <tr>\n",
       "      <th>1</th>\n",
       "      <td>COURSE_GRADE_\\tDATA MANAGEMENT_F</td>\n",
       "      <td>0.05114</td>\n",
       "    </tr>\n",
       "    <tr>\n",
       "      <th>2</th>\n",
       "      <td>COURSE_GRADE_\\tEXPERIMENTAL DESIGNS I_F</td>\n",
       "      <td>0.85841</td>\n",
       "    </tr>\n",
       "    <tr>\n",
       "      <th>3</th>\n",
       "      <td>COURSE_GRADE_\\tSAMPLING TECHNIQUES_F</td>\n",
       "      <td>0.45207</td>\n",
       "    </tr>\n",
       "    <tr>\n",
       "      <th>4</th>\n",
       "      <td>COURSE_GRADE_\\tSTATISTICAL ANALYSIS II_F</td>\n",
       "      <td>0.29116</td>\n",
       "    </tr>\n",
       "    <tr>\n",
       "      <th>...</th>\n",
       "      <td>...</td>\n",
       "      <td>...</td>\n",
       "    </tr>\n",
       "    <tr>\n",
       "      <th>100</th>\n",
       "      <td>COURSE_GRADE_STATISTICAL QUALITY CONTROL_F</td>\n",
       "      <td>1.00000</td>\n",
       "    </tr>\n",
       "    <tr>\n",
       "      <th>101</th>\n",
       "      <td>COURSE_GRADE_STATISTICAL THEORY II_F</td>\n",
       "      <td>0.45207</td>\n",
       "    </tr>\n",
       "    <tr>\n",
       "      <th>102</th>\n",
       "      <td>COURSE_GRADE_STATISTICAL THEORY I_F</td>\n",
       "      <td>0.37871</td>\n",
       "    </tr>\n",
       "    <tr>\n",
       "      <th>103</th>\n",
       "      <td>COURSE_GRADE_Statistical Analysis II_F</td>\n",
       "      <td>0.85841</td>\n",
       "    </tr>\n",
       "    <tr>\n",
       "      <th>104</th>\n",
       "      <td>COURSE_GRADE_Statistical Analysis I_F</td>\n",
       "      <td>0.85841</td>\n",
       "    </tr>\n",
       "  </tbody>\n",
       "</table></div>"
      ],
      "text/plain": [
       "                                             Attribute  P-value\n",
       "0    COURSE_GRADE_\\tBUSINESS INFORMATION SYSTEMS AN...  0.45207\n",
       "1                     COURSE_GRADE_\\tDATA MANAGEMENT_F  0.05114\n",
       "2              COURSE_GRADE_\\tEXPERIMENTAL DESIGNS I_F  0.85841\n",
       "3                 COURSE_GRADE_\\tSAMPLING TECHNIQUES_F  0.45207\n",
       "4             COURSE_GRADE_\\tSTATISTICAL ANALYSIS II_F  0.29116\n",
       "..                                                 ...      ...\n",
       "100         COURSE_GRADE_STATISTICAL QUALITY CONTROL_F  1.00000\n",
       "101               COURSE_GRADE_STATISTICAL THEORY II_F  0.45207\n",
       "102                COURSE_GRADE_STATISTICAL THEORY I_F  0.37871\n",
       "103             COURSE_GRADE_Statistical Analysis II_F  0.85841\n",
       "104              COURSE_GRADE_Statistical Analysis I_F  0.85841\n",
       "\n",
       "[76 rows x 2 columns]"
      ]
     },
     "execution_count": 37,
     "metadata": {},
     "output_type": "execute_result"
    }
   ],
   "source": [
    "stat_sig = []\n",
    "for i in df_selec_F.E.values:\n",
    "    data_count = pd.crosstab(data[i] , data['STATUSTEXT'])\n",
    "    obs = data_count.values\n",
    "    #print(obs)\n",
    "    chi2 , p , dof , expected = stats.chi2_contingency(obs)\n",
    "    #print(p)\n",
    "    stat_sig.append([i , round(p , 5)])\n",
    "\n",
    "#print(stat_sig)\n",
    "\n",
    "stat_sig = pd.DataFrame(stat_sig)\n",
    "stat_sig.columns = ['Attribute' , 'P-value']\n",
    "stat_sig[stat_sig['P-value'] > 0.05]"
   ]
  },
  {
   "cell_type": "code",
   "execution_count": 38,
   "id": "689a89c1",
   "metadata": {},
   "outputs": [
    {
     "name": "stderr",
     "output_type": "stream",
     "text": [
      "C:\\Users\\SIRIPAT JANKHUANG\\anaconda3\\envs\\pycaret\\lib\\site-packages\\ipykernel_launcher.py:1: FutureWarning: In a future version of pandas all arguments of DataFrame.drop except for the argument 'labels' will be keyword-only\n",
      "  \"\"\"Entry point for launching an IPython kernel.\n"
     ]
    }
   ],
   "source": [
    "data.drop(np.array(stat_sig[stat_sig['P-value'] > 0.05].Attribute) ,1 , inplace=True)"
   ]
  },
  {
   "cell_type": "code",
   "execution_count": 39,
   "id": "3f99c753",
   "metadata": {},
   "outputs": [
    {
     "name": "stdout",
     "output_type": "stream",
     "text": [
      "<class 'pandas.core.frame.DataFrame'>\n",
      "Int64Index: 604 entries, 0 to 603\n",
      "Data columns (total 39 columns):\n",
      " #   Column                                                                   Non-Null Count  Dtype  \n",
      "---  ------                                                                   --------------  -----  \n",
      " 0   STATUSTEXT                                                               604 non-null    int64  \n",
      " 1   GPA                                                                      604 non-null    float64\n",
      " 2   ENTRYGPA                                                                 604 non-null    float64\n",
      " 3   STUDENTSEX                                                               604 non-null    int64  \n",
      " 4   FATHERINCOME                                                             604 non-null    float64\n",
      " 5   YEARFATHER                                                               604 non-null    float64\n",
      " 6   MOTHERINCOME                                                             604 non-null    float64\n",
      " 7   YEARMOTHER                                                               604 non-null    float64\n",
      " 8   บุตรคนที่                                                                604 non-null    float64\n",
      " 9   จำนวนพี่น้อง                                                             604 non-null    object \n",
      " 10  COURSE_GRADE_BASICS OF STAGE ACTING_F                                    586 non-null    float64\n",
      " 11  COURSE_GRADE_BIOLOGY FOR PHYSICAL SCIENCE LABORATORY_F                   586 non-null    float64\n",
      " 12  COURSE_GRADE_BIOLOGY FOR PHYSICAL SCIENCE_F                              586 non-null    float64\n",
      " 13  COURSE_GRADE_CALCULUS  FOR PHYSICAL SCIENCE II_F                         586 non-null    float64\n",
      " 14  COURSE_GRADE_CALCULUS FOR PHYSICAL SCIENCE I_F                           586 non-null    float64\n",
      " 15  COURSE_GRADE_CALCULUS_F                                                  586 non-null    float64\n",
      " 16  COURSE_GRADE_COMPUTER PROGRAMMING I_F                                    586 non-null    float64\n",
      " 17  COURSE_GRADE_ELEMENTARY PHYSICS_F                                        586 non-null    float64\n",
      " 18  COURSE_GRADE_ELEMENTARY TO BUSINESS AND ENTREPRENEURSHIP_F               586 non-null    float64\n",
      " 19  COURSE_GRADE_ENERGY AND ENVIRONMENT_F                                    586 non-null    float64\n",
      " 20  COURSE_GRADE_ENGLISH FOR ACADEMIC PURPOSE I (EAP I)_F                    586 non-null    float64\n",
      " 21  COURSE_GRADE_ENGLISH FOR ACADEMIC PURPOSES I_F                           586 non-null    float64\n",
      " 22  COURSE_GRADE_ENGLISH FOR COMMUNICATION_F                                 586 non-null    float64\n",
      " 23  COURSE_GRADE_ENGLISH II_F                                                586 non-null    float64\n",
      " 24  COURSE_GRADE_ENGLISH I_F                                                 586 non-null    float64\n",
      " 25  COURSE_GRADE_FUNDAMENTAL CHEMISTRY_F                                     586 non-null    float64\n",
      " 26  COURSE_GRADE_GENERAL CHEMISTRY LABORATORY_F                              586 non-null    float64\n",
      " 27  COURSE_GRADE_GENERAL MATHEMATICS_F                                       586 non-null    float64\n",
      " 28  COURSE_GRADE_GENERAL PHYSICS LABORATORY I_F                              586 non-null    float64\n",
      " 29  COURSE_GRADE_HAPPINESS OF LIFE_F                                         586 non-null    float64\n",
      " 30  COURSE_GRADE_INFORMATION LITERACY SKILLS_F                               586 non-null    float64\n",
      " 31  COURSE_GRADE_INTRODUCTION TO INFORMATION AND COMMUNICATION TECHNOLOGY_F  586 non-null    float64\n",
      " 32  COURSE_GRADE_LEARNING SKILLS_F                                           586 non-null    float64\n",
      " 33  COURSE_GRADE_LOCAL WISDOM_F                                              586 non-null    float64\n",
      " 34  COURSE_GRADE_MEDITATION FOR LIFE DEVELOPMENT_F                           586 non-null    float64\n",
      " 35  COURSE_GRADE_MULTICULTURALISM_F                                          586 non-null    float64\n",
      " 36  COURSE_GRADE_OPERATIONS RESEARCH_F                                       586 non-null    float64\n",
      " 37  COURSE_GRADE_STATISTICAL ANALYSIS I_F                                    586 non-null    float64\n",
      " 38  COURSE_GRADE_STATISTICAL MODEL_F                                         586 non-null    float64\n",
      "dtypes: float64(36), int64(2), object(1)\n",
      "memory usage: 188.8+ KB\n"
     ]
    }
   ],
   "source": [
    "data.info()"
   ]
  },
  {
   "cell_type": "code",
   "execution_count": 40,
   "id": "60b509f9",
   "metadata": {},
   "outputs": [],
   "source": [
    "data.to_csv(r'Data_DropOutALL.csv',encoding='utf-8-sig')"
   ]
  },
  {
   "cell_type": "code",
   "execution_count": 41,
   "id": "17fca8ba",
   "metadata": {},
   "outputs": [
    {
     "data": {
      "text/html": [
       "<div><div id=0aebd85e-276f-43c4-b9f4-a85af6d70118 style=\"display:none; background-color:#9D6CFF; color:white; width:200px; height:30px; padding-left:5px; border-radius:4px; flex-direction:row; justify-content:space-around; align-items:center;\" onmouseover=\"this.style.backgroundColor='#BA9BF8'\" onmouseout=\"this.style.backgroundColor='#9D6CFF'\" onclick=\"window.commands?.execute('create-mitosheet-from-dataframe-output');\">See Full Dataframe in Mito</div> <script> if (window.commands.hasCommand('create-mitosheet-from-dataframe-output')) document.getElementById('0aebd85e-276f-43c4-b9f4-a85af6d70118').style.display = 'flex' </script> <table border=\"1\" class=\"dataframe\">\n",
       "  <thead>\n",
       "    <tr style=\"text-align: right;\">\n",
       "      <th></th>\n",
       "      <th>STATUSTEXT</th>\n",
       "      <th>GPA</th>\n",
       "      <th>ENTRYGPA</th>\n",
       "      <th>STUDENTSEX</th>\n",
       "      <th>FATHERINCOME</th>\n",
       "      <th>YEARFATHER</th>\n",
       "      <th>MOTHERINCOME</th>\n",
       "      <th>YEARMOTHER</th>\n",
       "      <th>บุตรคนที่</th>\n",
       "      <th>จำนวนพี่น้อง</th>\n",
       "      <th>...</th>\n",
       "      <th>COURSE_GRADE_HAPPINESS OF LIFE_F</th>\n",
       "      <th>COURSE_GRADE_INFORMATION LITERACY SKILLS_F</th>\n",
       "      <th>COURSE_GRADE_INTRODUCTION TO INFORMATION AND COMMUNICATION TECHNOLOGY_F</th>\n",
       "      <th>COURSE_GRADE_LEARNING SKILLS_F</th>\n",
       "      <th>COURSE_GRADE_LOCAL WISDOM_F</th>\n",
       "      <th>COURSE_GRADE_MEDITATION FOR LIFE DEVELOPMENT_F</th>\n",
       "      <th>COURSE_GRADE_MULTICULTURALISM_F</th>\n",
       "      <th>COURSE_GRADE_OPERATIONS RESEARCH_F</th>\n",
       "      <th>COURSE_GRADE_STATISTICAL ANALYSIS I_F</th>\n",
       "      <th>COURSE_GRADE_STATISTICAL MODEL_F</th>\n",
       "    </tr>\n",
       "  </thead>\n",
       "  <tbody>\n",
       "    <tr>\n",
       "      <th>0</th>\n",
       "      <td>1</td>\n",
       "      <td>1.21</td>\n",
       "      <td>3.26</td>\n",
       "      <td>0</td>\n",
       "      <td>100000.0</td>\n",
       "      <td>44.0</td>\n",
       "      <td>100000.0</td>\n",
       "      <td>45.0</td>\n",
       "      <td>1.0</td>\n",
       "      <td>4</td>\n",
       "      <td>...</td>\n",
       "      <td>0.0</td>\n",
       "      <td>0.0</td>\n",
       "      <td>0.0</td>\n",
       "      <td>0.0</td>\n",
       "      <td>0.0</td>\n",
       "      <td>0.0</td>\n",
       "      <td>0.0</td>\n",
       "      <td>0.0</td>\n",
       "      <td>1.0</td>\n",
       "      <td>0.0</td>\n",
       "    </tr>\n",
       "    <tr>\n",
       "      <th>1</th>\n",
       "      <td>1</td>\n",
       "      <td>2.74</td>\n",
       "      <td>3.65</td>\n",
       "      <td>0</td>\n",
       "      <td>20000.0</td>\n",
       "      <td>59.0</td>\n",
       "      <td>15000.0</td>\n",
       "      <td>54.0</td>\n",
       "      <td>1.0</td>\n",
       "      <td>2</td>\n",
       "      <td>...</td>\n",
       "      <td>0.0</td>\n",
       "      <td>0.0</td>\n",
       "      <td>0.0</td>\n",
       "      <td>0.0</td>\n",
       "      <td>0.0</td>\n",
       "      <td>0.0</td>\n",
       "      <td>0.0</td>\n",
       "      <td>0.0</td>\n",
       "      <td>0.0</td>\n",
       "      <td>0.0</td>\n",
       "    </tr>\n",
       "    <tr>\n",
       "      <th>2</th>\n",
       "      <td>0</td>\n",
       "      <td>2.60</td>\n",
       "      <td>3.38</td>\n",
       "      <td>0</td>\n",
       "      <td>10000.0</td>\n",
       "      <td>43.0</td>\n",
       "      <td>9000.0</td>\n",
       "      <td>37.0</td>\n",
       "      <td>1.0</td>\n",
       "      <td>2</td>\n",
       "      <td>...</td>\n",
       "      <td>0.0</td>\n",
       "      <td>0.0</td>\n",
       "      <td>0.0</td>\n",
       "      <td>0.0</td>\n",
       "      <td>0.0</td>\n",
       "      <td>0.0</td>\n",
       "      <td>0.0</td>\n",
       "      <td>0.0</td>\n",
       "      <td>0.0</td>\n",
       "      <td>0.0</td>\n",
       "    </tr>\n",
       "    <tr>\n",
       "      <th>3</th>\n",
       "      <td>0</td>\n",
       "      <td>2.44</td>\n",
       "      <td>3.82</td>\n",
       "      <td>0</td>\n",
       "      <td>30000.0</td>\n",
       "      <td>49.0</td>\n",
       "      <td>30000.0</td>\n",
       "      <td>48.0</td>\n",
       "      <td>3.0</td>\n",
       "      <td>3</td>\n",
       "      <td>...</td>\n",
       "      <td>0.0</td>\n",
       "      <td>0.0</td>\n",
       "      <td>0.0</td>\n",
       "      <td>0.0</td>\n",
       "      <td>0.0</td>\n",
       "      <td>0.0</td>\n",
       "      <td>0.0</td>\n",
       "      <td>0.0</td>\n",
       "      <td>0.0</td>\n",
       "      <td>0.0</td>\n",
       "    </tr>\n",
       "    <tr>\n",
       "      <th>4</th>\n",
       "      <td>0</td>\n",
       "      <td>2.29</td>\n",
       "      <td>3.16</td>\n",
       "      <td>0</td>\n",
       "      <td>53080.0</td>\n",
       "      <td>59.0</td>\n",
       "      <td>47660.0</td>\n",
       "      <td>54.0</td>\n",
       "      <td>3.0</td>\n",
       "      <td>3</td>\n",
       "      <td>...</td>\n",
       "      <td>0.0</td>\n",
       "      <td>0.0</td>\n",
       "      <td>0.0</td>\n",
       "      <td>0.0</td>\n",
       "      <td>0.0</td>\n",
       "      <td>0.0</td>\n",
       "      <td>0.0</td>\n",
       "      <td>0.0</td>\n",
       "      <td>0.0</td>\n",
       "      <td>0.0</td>\n",
       "    </tr>\n",
       "  </tbody>\n",
       "</table></div>"
      ],
      "text/plain": [
       "   STATUSTEXT   GPA  ENTRYGPA  STUDENTSEX  FATHERINCOME  YEARFATHER  \\\n",
       "0           1  1.21      3.26           0      100000.0        44.0   \n",
       "1           1  2.74      3.65           0       20000.0        59.0   \n",
       "2           0  2.60      3.38           0       10000.0        43.0   \n",
       "3           0  2.44      3.82           0       30000.0        49.0   \n",
       "4           0  2.29      3.16           0       53080.0        59.0   \n",
       "\n",
       "   MOTHERINCOME  YEARMOTHER  บุตรคนที่ จำนวนพี่น้อง  ...  \\\n",
       "0      100000.0        45.0        1.0            4  ...   \n",
       "1       15000.0        54.0        1.0            2  ...   \n",
       "2        9000.0        37.0        1.0            2  ...   \n",
       "3       30000.0        48.0        3.0            3  ...   \n",
       "4       47660.0        54.0        3.0            3  ...   \n",
       "\n",
       "   COURSE_GRADE_HAPPINESS OF LIFE_F  \\\n",
       "0                               0.0   \n",
       "1                               0.0   \n",
       "2                               0.0   \n",
       "3                               0.0   \n",
       "4                               0.0   \n",
       "\n",
       "   COURSE_GRADE_INFORMATION LITERACY SKILLS_F  \\\n",
       "0                                         0.0   \n",
       "1                                         0.0   \n",
       "2                                         0.0   \n",
       "3                                         0.0   \n",
       "4                                         0.0   \n",
       "\n",
       "   COURSE_GRADE_INTRODUCTION TO INFORMATION AND COMMUNICATION TECHNOLOGY_F  \\\n",
       "0                                                0.0                         \n",
       "1                                                0.0                         \n",
       "2                                                0.0                         \n",
       "3                                                0.0                         \n",
       "4                                                0.0                         \n",
       "\n",
       "   COURSE_GRADE_LEARNING SKILLS_F  COURSE_GRADE_LOCAL WISDOM_F  \\\n",
       "0                             0.0                          0.0   \n",
       "1                             0.0                          0.0   \n",
       "2                             0.0                          0.0   \n",
       "3                             0.0                          0.0   \n",
       "4                             0.0                          0.0   \n",
       "\n",
       "   COURSE_GRADE_MEDITATION FOR LIFE DEVELOPMENT_F  \\\n",
       "0                                             0.0   \n",
       "1                                             0.0   \n",
       "2                                             0.0   \n",
       "3                                             0.0   \n",
       "4                                             0.0   \n",
       "\n",
       "   COURSE_GRADE_MULTICULTURALISM_F  COURSE_GRADE_OPERATIONS RESEARCH_F  \\\n",
       "0                              0.0                                 0.0   \n",
       "1                              0.0                                 0.0   \n",
       "2                              0.0                                 0.0   \n",
       "3                              0.0                                 0.0   \n",
       "4                              0.0                                 0.0   \n",
       "\n",
       "   COURSE_GRADE_STATISTICAL ANALYSIS I_F  COURSE_GRADE_STATISTICAL MODEL_F  \n",
       "0                                    1.0                               0.0  \n",
       "1                                    0.0                               0.0  \n",
       "2                                    0.0                               0.0  \n",
       "3                                    0.0                               0.0  \n",
       "4                                    0.0                               0.0  \n",
       "\n",
       "[5 rows x 39 columns]"
      ]
     },
     "execution_count": 41,
     "metadata": {},
     "output_type": "execute_result"
    }
   ],
   "source": [
    "data.head()"
   ]
  },
  {
   "cell_type": "code",
   "execution_count": null,
   "id": "54846b5f",
   "metadata": {},
   "outputs": [],
   "source": []
  },
  {
   "cell_type": "code",
   "execution_count": null,
   "id": "e135a4ca",
   "metadata": {},
   "outputs": [],
   "source": []
  },
  {
   "cell_type": "code",
   "execution_count": null,
   "id": "a354e6d3",
   "metadata": {},
   "outputs": [],
   "source": []
  },
  {
   "cell_type": "code",
   "execution_count": null,
   "id": "3f98566d",
   "metadata": {},
   "outputs": [],
   "source": []
  },
  {
   "cell_type": "code",
   "execution_count": null,
   "id": "69bbcbe0",
   "metadata": {},
   "outputs": [],
   "source": []
  },
  {
   "cell_type": "code",
   "execution_count": null,
   "id": "7dc847e3",
   "metadata": {},
   "outputs": [],
   "source": []
  },
  {
   "cell_type": "code",
   "execution_count": null,
   "id": "c1947be0",
   "metadata": {},
   "outputs": [],
   "source": []
  },
  {
   "cell_type": "code",
   "execution_count": 42,
   "id": "a9df77cd",
   "metadata": {},
   "outputs": [],
   "source": [
    "data_2564 = data_2564[data.columns]"
   ]
  },
  {
   "cell_type": "code",
   "execution_count": 43,
   "id": "f5b3c5e3",
   "metadata": {},
   "outputs": [],
   "source": [
    "data_2564.to_csv(r'Data_2564_DropOutALL.csv',encoding='utf-8-sig')"
   ]
  },
  {
   "cell_type": "code",
   "execution_count": 45,
   "id": "3c13b6a0",
   "metadata": {},
   "outputs": [
    {
     "data": {
      "text/plain": [
       "(103, 39)"
      ]
     },
     "execution_count": 45,
     "metadata": {},
     "output_type": "execute_result"
    }
   ],
   "source": [
    "data_2564.shape"
   ]
  },
  {
   "cell_type": "code",
   "execution_count": null,
   "id": "07eaf4a9",
   "metadata": {},
   "outputs": [],
   "source": []
  }
 ],
 "metadata": {
  "kernelspec": {
   "display_name": "pycaret",
   "language": "python",
   "name": "pycaret"
  },
  "language_info": {
   "codemirror_mode": {
    "name": "ipython",
    "version": 3
   },
   "file_extension": ".py",
   "mimetype": "text/x-python",
   "name": "python",
   "nbconvert_exporter": "python",
   "pygments_lexer": "ipython3",
   "version": "3.7.12"
  }
 },
 "nbformat": 4,
 "nbformat_minor": 5
}
