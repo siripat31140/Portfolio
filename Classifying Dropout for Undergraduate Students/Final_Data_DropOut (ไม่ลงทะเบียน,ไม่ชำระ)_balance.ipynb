{
 "cells": [
  {
   "cell_type": "code",
   "execution_count": 1,
   "id": "98a2540a",
   "metadata": {},
   "outputs": [],
   "source": [
    "import pandas as pd \n",
    "from sklearn.feature_selection import SelectKBest, chi2\n",
    "import numpy as np\n",
    "from imblearn.over_sampling import RandomOverSampler\n",
    "from collections import Counter\n",
    "from sklearn.preprocessing import MinMaxScaler\n",
    "import matplotlib.pyplot as plt\n",
    "plt.style.use('fivethirtyeight')\n",
    "\n",
    "\n",
    "\n",
    "import warnings\n",
    "warnings.filterwarnings(\"ignore\")\n",
    "from sklearn.metrics import confusion_matrix\n",
    "\n",
    "from sklearn.datasets import make_classification\n",
    "from sklearn.model_selection import train_test_split\n",
    "from sklearn.model_selection import GridSearchCV , RandomizedSearchCV\n",
    "from sklearn.model_selection import RepeatedStratifiedKFold\n",
    "from sklearn.metrics import classification_report \n",
    "from sklearn.model_selection import KFold\n",
    "\n",
    "\n",
    "# single model\n",
    "from sklearn.ensemble import RandomForestClassifier\n",
    "from sklearn.tree import DecisionTreeClassifier\n",
    "from sklearn.svm import SVC\n",
    "\n",
    "#Ensemble Learning\n",
    "from sklearn.ensemble import VotingClassifier\n",
    "from sklearn.ensemble import BaggingClassifier\n",
    "from sklearn.ensemble import AdaBoostClassifier\n",
    "from sklearn.metrics import roc_curve, roc_auc_score"
   ]
  },
  {
   "cell_type": "markdown",
   "id": "a5e2454f",
   "metadata": {},
   "source": [
    "# feature selection"
   ]
  },
  {
   "cell_type": "code",
   "execution_count": 2,
   "id": "b6f57593",
   "metadata": {},
   "outputs": [
    {
     "data": {
      "text/html": [
       "<div><div id=30bc1938-7f6b-4fb9-a49f-fdd00f274acf style=\"display:none; background-color:#9D6CFF; color:white; width:200px; height:30px; padding-left:5px; border-radius:4px; flex-direction:row; justify-content:space-around; align-items:center;\" onmouseover=\"this.style.backgroundColor='#BA9BF8'\" onmouseout=\"this.style.backgroundColor='#9D6CFF'\" onclick=\"window.commands?.execute('create-mitosheet-from-dataframe-output');\">See Full Dataframe in Mito</div> <script> if (window.commands.hasCommand('create-mitosheet-from-dataframe-output')) document.getElementById('30bc1938-7f6b-4fb9-a49f-fdd00f274acf').style.display = 'flex' </script> <table border=\"1\" class=\"dataframe\">\n",
       "  <thead>\n",
       "    <tr style=\"text-align: right;\">\n",
       "      <th></th>\n",
       "      <th>STATUSTEXT</th>\n",
       "      <th>GPA</th>\n",
       "      <th>ENTRYGPA</th>\n",
       "      <th>FATHERINCOME</th>\n",
       "      <th>YEARFATHER</th>\n",
       "      <th>MOTHERINCOME</th>\n",
       "      <th>YEARMOTHER</th>\n",
       "      <th>บุตรคนที่</th>\n",
       "      <th>จำนวนพี่น้อง</th>\n",
       "      <th>COURSE_GRADE_BIOLOGY FOR PHYSICAL SCIENCE LABORATORY_F</th>\n",
       "      <th>...</th>\n",
       "      <th>COURSE_GRADE_ENGLISH FOR COMMUNICATION_F</th>\n",
       "      <th>COURSE_GRADE_ENGLISH I_F</th>\n",
       "      <th>COURSE_GRADE_GENERAL MATHEMATICS_F</th>\n",
       "      <th>COURSE_GRADE_GENERAL PHYSICS LABORATORY I_F</th>\n",
       "      <th>COURSE_GRADE_HAPPINESS OF LIFE_F</th>\n",
       "      <th>COURSE_GRADE_INTRODUCTION TO INFORMATION AND COMMUNICATION TECHNOLOGY_F</th>\n",
       "      <th>COURSE_GRADE_MULTICULTURALISM_F</th>\n",
       "      <th>COURSE_GRADE_OPERATIONS RESEARCH_F</th>\n",
       "      <th>COURSE_GRADE_STATISTICAL ANALYSIS I_F</th>\n",
       "      <th>COURSE_GRADE_STATISTICAL INFORMATION PROJECT II_F</th>\n",
       "    </tr>\n",
       "  </thead>\n",
       "  <tbody>\n",
       "    <tr>\n",
       "      <th>0</th>\n",
       "      <td>1</td>\n",
       "      <td>2.74</td>\n",
       "      <td>3.65</td>\n",
       "      <td>20000.0</td>\n",
       "      <td>59.0</td>\n",
       "      <td>15000.0</td>\n",
       "      <td>54.0</td>\n",
       "      <td>1.0</td>\n",
       "      <td>2</td>\n",
       "      <td>0.0</td>\n",
       "      <td>...</td>\n",
       "      <td>0.0</td>\n",
       "      <td>0.0</td>\n",
       "      <td>0.0</td>\n",
       "      <td>0.0</td>\n",
       "      <td>0.0</td>\n",
       "      <td>0.0</td>\n",
       "      <td>0.0</td>\n",
       "      <td>0.0</td>\n",
       "      <td>0.0</td>\n",
       "      <td>0.0</td>\n",
       "    </tr>\n",
       "    <tr>\n",
       "      <th>1</th>\n",
       "      <td>0</td>\n",
       "      <td>2.60</td>\n",
       "      <td>3.38</td>\n",
       "      <td>10000.0</td>\n",
       "      <td>43.0</td>\n",
       "      <td>9000.0</td>\n",
       "      <td>37.0</td>\n",
       "      <td>1.0</td>\n",
       "      <td>2</td>\n",
       "      <td>0.0</td>\n",
       "      <td>...</td>\n",
       "      <td>0.0</td>\n",
       "      <td>0.0</td>\n",
       "      <td>0.0</td>\n",
       "      <td>0.0</td>\n",
       "      <td>0.0</td>\n",
       "      <td>0.0</td>\n",
       "      <td>0.0</td>\n",
       "      <td>0.0</td>\n",
       "      <td>0.0</td>\n",
       "      <td>0.0</td>\n",
       "    </tr>\n",
       "    <tr>\n",
       "      <th>2</th>\n",
       "      <td>0</td>\n",
       "      <td>2.44</td>\n",
       "      <td>3.82</td>\n",
       "      <td>30000.0</td>\n",
       "      <td>49.0</td>\n",
       "      <td>30000.0</td>\n",
       "      <td>48.0</td>\n",
       "      <td>3.0</td>\n",
       "      <td>3</td>\n",
       "      <td>0.0</td>\n",
       "      <td>...</td>\n",
       "      <td>0.0</td>\n",
       "      <td>0.0</td>\n",
       "      <td>0.0</td>\n",
       "      <td>0.0</td>\n",
       "      <td>0.0</td>\n",
       "      <td>0.0</td>\n",
       "      <td>0.0</td>\n",
       "      <td>0.0</td>\n",
       "      <td>0.0</td>\n",
       "      <td>0.0</td>\n",
       "    </tr>\n",
       "    <tr>\n",
       "      <th>3</th>\n",
       "      <td>0</td>\n",
       "      <td>2.29</td>\n",
       "      <td>3.16</td>\n",
       "      <td>53080.0</td>\n",
       "      <td>59.0</td>\n",
       "      <td>47660.0</td>\n",
       "      <td>54.0</td>\n",
       "      <td>3.0</td>\n",
       "      <td>3</td>\n",
       "      <td>0.0</td>\n",
       "      <td>...</td>\n",
       "      <td>0.0</td>\n",
       "      <td>0.0</td>\n",
       "      <td>0.0</td>\n",
       "      <td>0.0</td>\n",
       "      <td>0.0</td>\n",
       "      <td>0.0</td>\n",
       "      <td>0.0</td>\n",
       "      <td>0.0</td>\n",
       "      <td>0.0</td>\n",
       "      <td>0.0</td>\n",
       "    </tr>\n",
       "    <tr>\n",
       "      <th>4</th>\n",
       "      <td>0</td>\n",
       "      <td>3.23</td>\n",
       "      <td>3.56</td>\n",
       "      <td>27000.0</td>\n",
       "      <td>58.0</td>\n",
       "      <td>10000.0</td>\n",
       "      <td>50.0</td>\n",
       "      <td>2.0</td>\n",
       "      <td>2</td>\n",
       "      <td>0.0</td>\n",
       "      <td>...</td>\n",
       "      <td>0.0</td>\n",
       "      <td>0.0</td>\n",
       "      <td>0.0</td>\n",
       "      <td>0.0</td>\n",
       "      <td>0.0</td>\n",
       "      <td>0.0</td>\n",
       "      <td>0.0</td>\n",
       "      <td>0.0</td>\n",
       "      <td>0.0</td>\n",
       "      <td>0.0</td>\n",
       "    </tr>\n",
       "  </tbody>\n",
       "</table></div>"
      ],
      "text/plain": [
       "   STATUSTEXT   GPA  ENTRYGPA  FATHERINCOME  YEARFATHER  MOTHERINCOME  \\\n",
       "0           1  2.74      3.65       20000.0        59.0       15000.0   \n",
       "1           0  2.60      3.38       10000.0        43.0        9000.0   \n",
       "2           0  2.44      3.82       30000.0        49.0       30000.0   \n",
       "3           0  2.29      3.16       53080.0        59.0       47660.0   \n",
       "4           0  3.23      3.56       27000.0        58.0       10000.0   \n",
       "\n",
       "   YEARMOTHER  บุตรคนที่  จำนวนพี่น้อง  \\\n",
       "0        54.0        1.0             2   \n",
       "1        37.0        1.0             2   \n",
       "2        48.0        3.0             3   \n",
       "3        54.0        3.0             3   \n",
       "4        50.0        2.0             2   \n",
       "\n",
       "   COURSE_GRADE_BIOLOGY FOR PHYSICAL SCIENCE LABORATORY_F  ...  \\\n",
       "0                                                0.0       ...   \n",
       "1                                                0.0       ...   \n",
       "2                                                0.0       ...   \n",
       "3                                                0.0       ...   \n",
       "4                                                0.0       ...   \n",
       "\n",
       "   COURSE_GRADE_ENGLISH FOR COMMUNICATION_F  COURSE_GRADE_ENGLISH I_F  \\\n",
       "0                                       0.0                       0.0   \n",
       "1                                       0.0                       0.0   \n",
       "2                                       0.0                       0.0   \n",
       "3                                       0.0                       0.0   \n",
       "4                                       0.0                       0.0   \n",
       "\n",
       "   COURSE_GRADE_GENERAL MATHEMATICS_F  \\\n",
       "0                                 0.0   \n",
       "1                                 0.0   \n",
       "2                                 0.0   \n",
       "3                                 0.0   \n",
       "4                                 0.0   \n",
       "\n",
       "   COURSE_GRADE_GENERAL PHYSICS LABORATORY I_F  \\\n",
       "0                                          0.0   \n",
       "1                                          0.0   \n",
       "2                                          0.0   \n",
       "3                                          0.0   \n",
       "4                                          0.0   \n",
       "\n",
       "   COURSE_GRADE_HAPPINESS OF LIFE_F  \\\n",
       "0                               0.0   \n",
       "1                               0.0   \n",
       "2                               0.0   \n",
       "3                               0.0   \n",
       "4                               0.0   \n",
       "\n",
       "   COURSE_GRADE_INTRODUCTION TO INFORMATION AND COMMUNICATION TECHNOLOGY_F  \\\n",
       "0                                                0.0                         \n",
       "1                                                0.0                         \n",
       "2                                                0.0                         \n",
       "3                                                0.0                         \n",
       "4                                                0.0                         \n",
       "\n",
       "   COURSE_GRADE_MULTICULTURALISM_F  COURSE_GRADE_OPERATIONS RESEARCH_F  \\\n",
       "0                              0.0                                 0.0   \n",
       "1                              0.0                                 0.0   \n",
       "2                              0.0                                 0.0   \n",
       "3                              0.0                                 0.0   \n",
       "4                              0.0                                 0.0   \n",
       "\n",
       "   COURSE_GRADE_STATISTICAL ANALYSIS I_F  \\\n",
       "0                                    0.0   \n",
       "1                                    0.0   \n",
       "2                                    0.0   \n",
       "3                                    0.0   \n",
       "4                                    0.0   \n",
       "\n",
       "   COURSE_GRADE_STATISTICAL INFORMATION PROJECT II_F  \n",
       "0                                                0.0  \n",
       "1                                                0.0  \n",
       "2                                                0.0  \n",
       "3                                                0.0  \n",
       "4                                                0.0  \n",
       "\n",
       "[5 rows x 27 columns]"
      ]
     },
     "execution_count": 2,
     "metadata": {},
     "output_type": "execute_result"
    }
   ],
   "source": [
    "data = pd.read_csv('Data_DropOut(ไม่ลงทะเบียน,ไม่ชำระ).csv', index_col=0)\n",
    "data.head()"
   ]
  },
  {
   "cell_type": "code",
   "execution_count": 3,
   "id": "b0420629",
   "metadata": {},
   "outputs": [],
   "source": [
    "data.dropna(inplace=True)"
   ]
  },
  {
   "cell_type": "code",
   "execution_count": 4,
   "id": "f6664d3e",
   "metadata": {},
   "outputs": [
    {
     "data": {
      "text/plain": [
       "(500, 27)"
      ]
     },
     "execution_count": 4,
     "metadata": {},
     "output_type": "execute_result"
    }
   ],
   "source": [
    "data.shape"
   ]
  },
  {
   "cell_type": "code",
   "execution_count": 5,
   "id": "bed510c8",
   "metadata": {},
   "outputs": [],
   "source": [
    "data.rename(columns={\"บุตรคนที่\": \"NumberOfSon\", \"จำนวนพี่น้อง\": \"NumberOfSiblings\"}, inplace=True)"
   ]
  },
  {
   "cell_type": "code",
   "execution_count": 7,
   "id": "899e800d",
   "metadata": {},
   "outputs": [
    {
     "name": "stdout",
     "output_type": "stream",
     "text": [
      "<class 'pandas.core.frame.DataFrame'>\n",
      "Int64Index: 500 entries, 0 to 516\n",
      "Data columns (total 27 columns):\n",
      " #   Column                                                                   Non-Null Count  Dtype  \n",
      "---  ------                                                                   --------------  -----  \n",
      " 0   STATUSTEXT                                                               500 non-null    int64  \n",
      " 1   GPA                                                                      500 non-null    float64\n",
      " 2   ENTRYGPA                                                                 500 non-null    float64\n",
      " 3   FATHERINCOME                                                             500 non-null    float64\n",
      " 4   YEARFATHER                                                               500 non-null    float64\n",
      " 5   MOTHERINCOME                                                             500 non-null    float64\n",
      " 6   YEARMOTHER                                                               500 non-null    float64\n",
      " 7   NumberOfSon                                                              500 non-null    float64\n",
      " 8   NumberOfSiblings                                                         500 non-null    int64  \n",
      " 9   COURSE_GRADE_BIOLOGY FOR PHYSICAL SCIENCE LABORATORY_F                   500 non-null    float64\n",
      " 10  COURSE_GRADE_BIOLOGY FOR PHYSICAL SCIENCE_F                              500 non-null    float64\n",
      " 11  COURSE_GRADE_CALCULUS FOR PHYSICAL SCIENCE I_F                           500 non-null    float64\n",
      " 12  COURSE_GRADE_CALCULUS_F                                                  500 non-null    float64\n",
      " 13  COURSE_GRADE_ELEMENTARY PHYSICS_F                                        500 non-null    float64\n",
      " 14  COURSE_GRADE_ENGLISH FOR  SCIENCES_F                                     500 non-null    float64\n",
      " 15  COURSE_GRADE_ENGLISH FOR ACADEMIC PURPOSES I_F                           500 non-null    float64\n",
      " 16  COURSE_GRADE_ENGLISH FOR COMMUNICATIONS_F                                500 non-null    float64\n",
      " 17  COURSE_GRADE_ENGLISH FOR COMMUNICATION_F                                 500 non-null    float64\n",
      " 18  COURSE_GRADE_ENGLISH I_F                                                 500 non-null    float64\n",
      " 19  COURSE_GRADE_GENERAL MATHEMATICS_F                                       500 non-null    float64\n",
      " 20  COURSE_GRADE_GENERAL PHYSICS LABORATORY I_F                              500 non-null    float64\n",
      " 21  COURSE_GRADE_HAPPINESS OF LIFE_F                                         500 non-null    float64\n",
      " 22  COURSE_GRADE_INTRODUCTION TO INFORMATION AND COMMUNICATION TECHNOLOGY_F  500 non-null    float64\n",
      " 23  COURSE_GRADE_MULTICULTURALISM_F                                          500 non-null    float64\n",
      " 24  COURSE_GRADE_OPERATIONS RESEARCH_F                                       500 non-null    float64\n",
      " 25  COURSE_GRADE_STATISTICAL ANALYSIS I_F                                    500 non-null    float64\n",
      " 26  COURSE_GRADE_STATISTICAL INFORMATION PROJECT II_F                        500 non-null    float64\n",
      "dtypes: float64(25), int64(2)\n",
      "memory usage: 109.4 KB\n"
     ]
    }
   ],
   "source": [
    "data.info()"
   ]
  },
  {
   "cell_type": "code",
   "execution_count": 8,
   "id": "54363b9f",
   "metadata": {},
   "outputs": [],
   "source": [
    "X = data.drop('STATUSTEXT' , axis = 1)\n",
    "y = data['STATUSTEXT']"
   ]
  },
  {
   "cell_type": "markdown",
   "id": "6a523690",
   "metadata": {},
   "source": [
    "# oversampling"
   ]
  },
  {
   "cell_type": "code",
   "execution_count": 9,
   "id": "580f8f9e",
   "metadata": {},
   "outputs": [
    {
     "name": "stdout",
     "output_type": "stream",
     "text": [
      "Counter({0: 469, 1: 31})\n"
     ]
    }
   ],
   "source": [
    "print(Counter(y))"
   ]
  },
  {
   "cell_type": "code",
   "execution_count": 10,
   "id": "17bb2cdb",
   "metadata": {},
   "outputs": [],
   "source": [
    "oversample = RandomOverSampler(sampling_strategy='minority')"
   ]
  },
  {
   "cell_type": "code",
   "execution_count": 11,
   "id": "10d0bd70",
   "metadata": {},
   "outputs": [],
   "source": [
    "X_over, y_over = oversample.fit_resample(X, y)"
   ]
  },
  {
   "cell_type": "code",
   "execution_count": 12,
   "id": "1460074b",
   "metadata": {},
   "outputs": [
    {
     "name": "stdout",
     "output_type": "stream",
     "text": [
      "Counter({1: 469, 0: 469})\n"
     ]
    }
   ],
   "source": [
    "print(Counter(y_over))"
   ]
  },
  {
   "cell_type": "markdown",
   "id": "5e6c834c",
   "metadata": {},
   "source": [
    "# scaling"
   ]
  },
  {
   "cell_type": "code",
   "execution_count": 13,
   "id": "9c092a56",
   "metadata": {},
   "outputs": [],
   "source": [
    "scaler = MinMaxScaler()"
   ]
  },
  {
   "cell_type": "code",
   "execution_count": 14,
   "id": "8f2ce269",
   "metadata": {},
   "outputs": [],
   "source": [
    "#X[np.array(X.columns)] = scaler.fit_transform(X)\n",
    "#X_train, X_test, y_train, y_test = train_test_split(X, y, test_size=0.25, stratify=y , random_state = 123)\n"
   ]
  },
  {
   "cell_type": "code",
   "execution_count": 15,
   "id": "ed4ec717",
   "metadata": {},
   "outputs": [],
   "source": [
    "X_over[np.array(X_over.columns)] = scaler.fit_transform(X_over)"
   ]
  },
  {
   "cell_type": "markdown",
   "id": "1f9adada",
   "metadata": {},
   "source": [
    "# train test"
   ]
  },
  {
   "cell_type": "code",
   "execution_count": 16,
   "id": "ee954721",
   "metadata": {},
   "outputs": [],
   "source": [
    "X_train, X_test, y_train, y_test = train_test_split(X_over, y_over, test_size=0.20, stratify=y_over , random_state = 123)\n"
   ]
  },
  {
   "cell_type": "markdown",
   "id": "4913158c",
   "metadata": {},
   "source": [
    "# single model"
   ]
  },
  {
   "cell_type": "code",
   "execution_count": 17,
   "id": "f6f56350",
   "metadata": {},
   "outputs": [],
   "source": [
    "rt = RandomForestClassifier(random_state=123)\n",
    "dt = DecisionTreeClassifier(random_state=123)\n",
    "svm = SVC(probability=True,random_state=123)"
   ]
  },
  {
   "cell_type": "code",
   "execution_count": 18,
   "id": "4472d7b8",
   "metadata": {},
   "outputs": [],
   "source": [
    "# turning model\n",
    "# parameter model \n",
    "\n",
    "param_grid_svm = {'C': [0.1,1, 10, 100], 'gamma': [1,0.1,0.01,0.001],'kernel': ['rbf', 'poly', 'sigmoid']}\n",
    "\n",
    "\n",
    "\n",
    "param_grid_rt = {'max_depth': [3, 5, 10, 20, 30],\n",
    "                 'criterion' :['gini', 'entropy'],\n",
    "                 'max_features': ['auto', 'sqrt', 'log2'],\n",
    "                 'min_samples_split': [2, 5, 10]}\n",
    "\n",
    "\n",
    "\n",
    "param_grid_dt = {\"max_depth\": np.random.randint(1, (len(data.columns)*.85),20),\n",
    "          \"max_features\": np.random.randint(1, len(data.columns),20),\n",
    "          \"min_samples_leaf\": [2,3,4,5,6],\n",
    "          \"criterion\": [\"gini\", \"entropy\"]\n",
    "          }\n",
    "\n",
    "# K-fold\n",
    "cv = KFold(n_splits=5, shuffle=True, random_state=1)\n",
    "\n",
    "# optimize paremeter\n",
    "clf_1 = GridSearchCV(rt,param_grid_rt, cv=cv , refit=True )\n",
    "clf_2 = GridSearchCV(dt,param_grid_dt , cv=cv , refit=True)\n",
    "clf_3 = GridSearchCV(svm,param_grid_svm , cv=cv , refit=True)"
   ]
  },
  {
   "cell_type": "markdown",
   "id": "26f491fc",
   "metadata": {},
   "source": [
    "## DecisionTreeClassifier"
   ]
  },
  {
   "cell_type": "code",
   "execution_count": 19,
   "id": "4ae74301",
   "metadata": {},
   "outputs": [
    {
     "name": "stdout",
     "output_type": "stream",
     "text": [
      "Best parameters {'criterion': 'gini', 'max_depth': 18, 'max_features': 8, 'min_samples_leaf': 2}\n",
      "[[92  2]\n",
      " [ 0 94]]\n",
      "              precision    recall  f1-score   support\n",
      "\n",
      "           0       1.00      0.98      0.99        94\n",
      "           1       0.98      1.00      0.99        94\n",
      "\n",
      "    accuracy                           0.99       188\n",
      "   macro avg       0.99      0.99      0.99       188\n",
      "weighted avg       0.99      0.99      0.99       188\n",
      "\n",
      "-----------------------------------------------------\n"
     ]
    }
   ],
   "source": [
    "clf_2.fit(X_train , y_train)\n",
    "y_pred_acc = clf_2.predict(X_test)\n",
    "print('Best parameters' ,clf_2.best_params_)\n",
    "print(confusion_matrix(y_test,y_pred_acc))\n",
    "print(classification_report(y_test,y_pred_acc))\n",
    "print('-----------------------------------------------------')"
   ]
  },
  {
   "cell_type": "code",
   "execution_count": 20,
   "id": "fb41ea4f",
   "metadata": {},
   "outputs": [
    {
     "data": {
      "text/plain": [
       "0.9940583974649162"
      ]
     },
     "execution_count": 20,
     "metadata": {},
     "output_type": "execute_result"
    }
   ],
   "source": [
    "pred_prob2 = clf_2.predict_proba(X_test)\n",
    "fpr2, tpr2, thresh2 = roc_curve(y_test, pred_prob2[:,1], pos_label=1)\n",
    "auc_clf_2 = roc_auc_score(y_test, pred_prob2[:,1])\n",
    "auc_clf_2"
   ]
  },
  {
   "cell_type": "markdown",
   "id": "cd7d4249",
   "metadata": {},
   "source": [
    "## SVM"
   ]
  },
  {
   "cell_type": "code",
   "execution_count": 21,
   "id": "05537df5",
   "metadata": {},
   "outputs": [
    {
     "name": "stdout",
     "output_type": "stream",
     "text": [
      "Best parameters {'C': 100, 'gamma': 1, 'kernel': 'rbf'}\n",
      "[[87  7]\n",
      " [ 0 94]]\n",
      "              precision    recall  f1-score   support\n",
      "\n",
      "           0       1.00      0.93      0.96        94\n",
      "           1       0.93      1.00      0.96        94\n",
      "\n",
      "    accuracy                           0.96       188\n",
      "   macro avg       0.97      0.96      0.96       188\n",
      "weighted avg       0.97      0.96      0.96       188\n",
      "\n",
      "-----------------------------------------------------\n"
     ]
    }
   ],
   "source": [
    "clf_3.fit(X_train , y_train)\n",
    "y_pred_acc = clf_3.predict(X_test)\n",
    "print('Best parameters' ,clf_3.best_params_)\n",
    "print(confusion_matrix(y_test,y_pred_acc))\n",
    "print(classification_report(y_test,y_pred_acc))\n",
    "print('-----------------------------------------------------')"
   ]
  },
  {
   "cell_type": "code",
   "execution_count": 22,
   "id": "0f22600b",
   "metadata": {},
   "outputs": [
    {
     "data": {
      "text/plain": [
       "0.9894748755092803"
      ]
     },
     "execution_count": 22,
     "metadata": {},
     "output_type": "execute_result"
    }
   ],
   "source": [
    "pred_prob3 = clf_3.predict_proba(X_test )\n",
    "fpr3, tpr3, thresh3 = roc_curve(y_test, pred_prob3[:,1], pos_label=1)\n",
    "auc_clf_3 = roc_auc_score(y_test, pred_prob3[:,1])\n",
    "auc_clf_3"
   ]
  },
  {
   "cell_type": "markdown",
   "id": "630d86a8",
   "metadata": {},
   "source": [
    "## ROC single model"
   ]
  },
  {
   "cell_type": "code",
   "execution_count": 23,
   "id": "262a0443",
   "metadata": {},
   "outputs": [
    {
     "data": {
      "image/png": "[encoded data removed]",
      "text/plain": [
       "<Figure size 576x396 with 1 Axes>"
      ]
     },
     "metadata": {},
     "output_type": "display_data"
    }
   ],
   "source": [
    "# roc curve for tpr = fpr \n",
    "random_probs = [0 for i in range(len(y_test))]\n",
    "p_fpr, p_tpr, _ = roc_curve(y_test, random_probs, pos_label=1)\n",
    "\n",
    "plt.style.use('seaborn')\n",
    "\n",
    "# plot roc curves\n",
    "#plt.plot(fpr1, tpr1, linestyle='--',color='black', label='RT (AUC = %0.2f)' % auc_clf_1)\n",
    "#plt.plot(fpr2, tpr2, linestyle='--',color='green', label='DT (AUC = %0.2f)' % auc_clf_2)\n",
    "plt.plot(fpr3, tpr3, linestyle='--',color='black', label='SVM (AUC = %0.2f)' % auc_clf_3)\n",
    "plt.plot(p_fpr, p_tpr, linestyle='--', color='blue')\n",
    "# title\n",
    "plt.title('ROC curve')\n",
    "# x label\n",
    "plt.xlabel('False Positive Rate')\n",
    "# y label\n",
    "plt.ylabel('True Positive rate')\n",
    "\n",
    "plt.legend(loc='best')\n",
    "plt.savefig('ROC',dpi=300)\n",
    "plt.show();"
   ]
  },
  {
   "cell_type": "markdown",
   "id": "97200c6f",
   "metadata": {},
   "source": [
    "# Ensemble Model"
   ]
  },
  {
   "cell_type": "markdown",
   "id": "e2519ea2",
   "metadata": {},
   "source": [
    "## Bagging"
   ]
  },
  {
   "cell_type": "markdown",
   "id": "590ad163",
   "metadata": {},
   "source": [
    "### Bagging (DT base model)"
   ]
  },
  {
   "cell_type": "code",
   "execution_count": 24,
   "id": "12958494",
   "metadata": {},
   "outputs": [],
   "source": [
    "n_estimators = [10, 100, 1000]\n",
    "grid = dict(n_estimators=n_estimators)"
   ]
  },
  {
   "cell_type": "code",
   "execution_count": 25,
   "id": "0fc9d541",
   "metadata": {},
   "outputs": [
    {
     "name": "stdout",
     "output_type": "stream",
     "text": [
      "[[93  1]\n",
      " [ 0 94]]\n",
      "              precision    recall  f1-score   support\n",
      "\n",
      "           0       1.00      0.99      0.99        94\n",
      "           1       0.99      1.00      0.99        94\n",
      "\n",
      "    accuracy                           0.99       188\n",
      "   macro avg       0.99      0.99      0.99       188\n",
      "weighted avg       0.99      0.99      0.99       188\n",
      "\n",
      "-----------------------------------------------------\n"
     ]
    }
   ],
   "source": [
    "clf_bagging1 = BaggingClassifier(base_estimator=clf_2.best_estimator_, n_estimators=10, oob_score=True ,random_state=123)\n",
    "clf_bagging1.fit(X_train, y_train)\n",
    "y_pred_acc = clf_bagging1.predict(X_test)\n",
    "print(confusion_matrix(y_test,y_pred_acc))\n",
    "print(classification_report(y_test,y_pred_acc))\n",
    "print('-----------------------------------------------------')"
   ]
  },
  {
   "cell_type": "code",
   "execution_count": 26,
   "id": "6f736041",
   "metadata": {},
   "outputs": [
    {
     "data": {
      "text/plain": [
       "1.0"
      ]
     },
     "execution_count": 26,
     "metadata": {},
     "output_type": "execute_result"
    }
   ],
   "source": [
    "pred_prob4 = clf_bagging1.predict_proba(X_test)\n",
    "fpr4, tpr4, thresh4 = roc_curve(y_test, pred_prob4[:,1], pos_label=1)\n",
    "auc_clf_bagging1 = roc_auc_score(y_test, pred_prob4[:,1])\n",
    "auc_clf_bagging1"
   ]
  },
  {
   "cell_type": "markdown",
   "id": "2d5e9d62",
   "metadata": {},
   "source": [
    "### Bagging (SVM base model)"
   ]
  },
  {
   "cell_type": "code",
   "execution_count": 27,
   "id": "a2e4be53",
   "metadata": {},
   "outputs": [
    {
     "name": "stdout",
     "output_type": "stream",
     "text": [
      "[[87  7]\n",
      " [ 0 94]]\n",
      "              precision    recall  f1-score   support\n",
      "\n",
      "           0       1.00      0.93      0.96        94\n",
      "           1       0.93      1.00      0.96        94\n",
      "\n",
      "    accuracy                           0.96       188\n",
      "   macro avg       0.97      0.96      0.96       188\n",
      "weighted avg       0.97      0.96      0.96       188\n",
      "\n",
      "-----------------------------------------------------\n"
     ]
    }
   ],
   "source": [
    "clf_bagging2 = BaggingClassifier(base_estimator=clf_3.best_estimator_, n_estimators=10, oob_score=True,random_state=123)\n",
    "clf_bagging2.fit(X_train, y_train)\n",
    "y_pred_acc = clf_bagging2.predict(X_test)\n",
    "\n",
    "print(confusion_matrix(y_test,y_pred_acc))\n",
    "print(classification_report(y_test,y_pred_acc))\n",
    "print('-----------------------------------------------------')"
   ]
  },
  {
   "cell_type": "code",
   "execution_count": 28,
   "id": "af85b0aa",
   "metadata": {},
   "outputs": [
    {
     "data": {
      "text/plain": [
       "0.9805341783612495"
      ]
     },
     "execution_count": 28,
     "metadata": {},
     "output_type": "execute_result"
    }
   ],
   "source": [
    "pred_prob5 = clf_bagging2.predict_proba(X_test)\n",
    "fpr5, tpr5, thresh5 = roc_curve(y_test, pred_prob5[:,1], pos_label=1)\n",
    "auc_clf_bagging2 = roc_auc_score(y_test, pred_prob5[:,1])\n",
    "auc_clf_bagging2"
   ]
  },
  {
   "cell_type": "code",
   "execution_count": 29,
   "id": "37e01277",
   "metadata": {},
   "outputs": [
    {
     "data": {
      "image/png": "[encoded data removed]",
      "text/plain": [
       "<Figure size 576x396 with 1 Axes>"
      ]
     },
     "metadata": {},
     "output_type": "display_data"
    }
   ],
   "source": [
    "# roc curve for tpr = fpr \n",
    "random_probs = [0 for i in range(len(y_test))]\n",
    "p_fpr, p_tpr, _ = roc_curve(y_test, random_probs, pos_label=1)\n",
    "\n",
    "plt.style.use('seaborn')\n",
    "\n",
    "# plot roc curves\n",
    "#plt.plot(fpr4, tpr4, linestyle='--',color='orange', label='Bagging (DT base model) (AUC = %0.2f)' % auc_clf_bagging1)\n",
    "plt.plot(fpr5, tpr5, linestyle='--',color='green', label='Bagging (SVM base model) (AUC = %0.2f)' % auc_clf_bagging2)\n",
    "plt.plot(p_fpr, p_tpr, linestyle='--', color='blue')\n",
    "# title\n",
    "plt.title('ROC curve')\n",
    "# x label\n",
    "plt.xlabel('False Positive Rate')\n",
    "# y label\n",
    "plt.ylabel('True Positive rate')\n",
    "\n",
    "plt.legend(loc='best')\n",
    "plt.savefig('ROC',dpi=300)\n",
    "plt.show();"
   ]
  },
  {
   "cell_type": "markdown",
   "id": "cba1712d",
   "metadata": {},
   "source": [
    "## Boosting"
   ]
  },
  {
   "cell_type": "markdown",
   "id": "031f46a4",
   "metadata": {},
   "source": [
    "### Boosting (DT base model)"
   ]
  },
  {
   "cell_type": "code",
   "execution_count": 30,
   "id": "3e97f933",
   "metadata": {},
   "outputs": [],
   "source": [
    "model= AdaBoostClassifier(base_estimator= clf_2.best_estimator_ , algorithm=\"SAMME\" ,random_state=2)\n",
    "grid = dict()\n",
    "grid['n_estimators'] = [10, 50, 100, 500]\n",
    "grid['learning_rate'] = [0.0001, 0.001, 0.01, 0.1, 1.0]\n",
    "grid_search = GridSearchCV(estimator=model, param_grid=grid, n_jobs=-1, cv=cv, scoring='accuracy')\n",
    "grid_result = grid_search.fit(X_train, y_train)\n",
    "\n",
    "y_pred_acc = grid_result.predict(X_test)\n"
   ]
  },
  {
   "cell_type": "code",
   "execution_count": 31,
   "id": "2e7872e2",
   "metadata": {},
   "outputs": [
    {
     "name": "stdout",
     "output_type": "stream",
     "text": [
      "Best parameters {'learning_rate': 1.0, 'n_estimators': 100}\n",
      "[[93  1]\n",
      " [ 0 94]]\n",
      "              precision    recall  f1-score   support\n",
      "\n",
      "           0       1.00      0.99      0.99        94\n",
      "           1       0.99      1.00      0.99        94\n",
      "\n",
      "    accuracy                           0.99       188\n",
      "   macro avg       0.99      0.99      0.99       188\n",
      "weighted avg       0.99      0.99      0.99       188\n",
      "\n",
      "-----------------------------------------------------\n"
     ]
    }
   ],
   "source": [
    "print('Best parameters' ,grid_result.best_params_)\n",
    "print(confusion_matrix(y_test,y_pred_acc))\n",
    "print(classification_report(y_test,y_pred_acc))\n",
    "print('-----------------------------------------------------')"
   ]
  },
  {
   "cell_type": "code",
   "execution_count": 32,
   "id": "cdcc1e8a",
   "metadata": {},
   "outputs": [
    {
     "data": {
      "text/plain": [
       "0.9805341783612495"
      ]
     },
     "execution_count": 32,
     "metadata": {},
     "output_type": "execute_result"
    }
   ],
   "source": [
    "pred_prob6 = grid_result.predict_proba(X_test)\n",
    "fpr6, tpr6, thresh6 = roc_curve(y_test, pred_prob5[:,1], pos_label=1)\n",
    "auc_clf_boosting1 = roc_auc_score(y_test, pred_prob5[:,1])\n",
    "auc_clf_boosting1"
   ]
  },
  {
   "cell_type": "code",
   "execution_count": 33,
   "id": "e27f1122",
   "metadata": {},
   "outputs": [
    {
     "data": {
      "text/plain": [
       "array([2.40115977e-01,            nan, 9.78250064e-02, 1.41192143e-01,\n",
       "       1.07812855e-01, 7.28280502e-02,            nan, 3.73646548e-02,\n",
       "       1.28672184e-02, 1.42005071e-02, 1.48464301e-02, 1.77180750e-03,\n",
       "       2.58227024e-02, 2.74325388e-02, 9.71597572e-03, 1.11296819e-04,\n",
       "       1.60954056e-03, 1.77672706e-04, 3.00452700e-03, 3.08439098e-02,\n",
       "       2.46900662e-03, 1.02327823e-02, 1.37219927e-04, 1.34521797e-02,\n",
       "       2.61579269e-02, 2.93965785e-03])"
      ]
     },
     "execution_count": 33,
     "metadata": {},
     "output_type": "execute_result"
    }
   ],
   "source": [
    "grid_search.best_estimator_.feature_importances_"
   ]
  },
  {
   "cell_type": "markdown",
   "id": "22b5ba38",
   "metadata": {},
   "source": [
    "### Boosting (SVM base model)"
   ]
  },
  {
   "cell_type": "code",
   "execution_count": 34,
   "id": "7d147804",
   "metadata": {},
   "outputs": [],
   "source": [
    "model1 = AdaBoostClassifier(base_estimator= clf_3.best_estimator_ , algorithm=\"SAMME\" ,random_state=123)\n",
    "grid = dict()\n",
    "grid['n_estimators'] = [10, 50, 100, 500]\n",
    "grid['learning_rate'] = [0.0001, 0.001, 0.01, 0.1, 1.0]\n",
    "grid_search = GridSearchCV(estimator=model1, param_grid=grid, n_jobs=-1, cv=cv, scoring='accuracy')\n",
    "grid_result = grid_search.fit(X_train, y_train)\n",
    "y_pred_acc = grid_result.predict(X_test)\n"
   ]
  },
  {
   "cell_type": "code",
   "execution_count": 35,
   "id": "6e182f81",
   "metadata": {},
   "outputs": [
    {
     "name": "stdout",
     "output_type": "stream",
     "text": [
      "Best parameters {'learning_rate': 1.0, 'n_estimators': 50}\n",
      "[[89  5]\n",
      " [ 9 85]]\n",
      "              precision    recall  f1-score   support\n",
      "\n",
      "           0       0.91      0.95      0.93        94\n",
      "           1       0.94      0.90      0.92        94\n",
      "\n",
      "    accuracy                           0.93       188\n",
      "   macro avg       0.93      0.93      0.93       188\n",
      "weighted avg       0.93      0.93      0.93       188\n",
      "\n",
      "-----------------------------------------------------\n"
     ]
    }
   ],
   "source": [
    "print('Best parameters' ,grid_result.best_params_)\n",
    "print(confusion_matrix(y_test,y_pred_acc))\n",
    "print(classification_report(y_test,y_pred_acc))\n",
    "print('-----------------------------------------------------')"
   ]
  },
  {
   "cell_type": "code",
   "execution_count": 36,
   "id": "647a5cf7",
   "metadata": {},
   "outputs": [
    {
     "data": {
      "text/plain": [
       "0.9883431416930738"
      ]
     },
     "execution_count": 36,
     "metadata": {},
     "output_type": "execute_result"
    }
   ],
   "source": [
    "pred_prob7 = grid_result.predict_proba(X_test)\n",
    "fpr7, tpr7, thresh7 = roc_curve(y_test, pred_prob7[:,1], pos_label=1)\n",
    "auc_clf_boosting2 = roc_auc_score(y_test, pred_prob7[:,1])\n",
    "auc_clf_boosting2"
   ]
  },
  {
   "cell_type": "code",
   "execution_count": 37,
   "id": "bd724a10",
   "metadata": {},
   "outputs": [
    {
     "data": {
      "image/png": "[encoded data removed]",
      "text/plain": [
       "<Figure size 576x396 with 1 Axes>"
      ]
     },
     "metadata": {},
     "output_type": "display_data"
    }
   ],
   "source": [
    "# roc curve for tpr = fpr \n",
    "random_probs = [0 for i in range(len(y_test))]\n",
    "p_fpr, p_tpr, _ = roc_curve(y_test, random_probs, pos_label=1)\n",
    "\n",
    "plt.style.use('seaborn')\n",
    "\n",
    "# plot roc curves\n",
    "#plt.plot(fpr6, tpr6, linestyle='--',color='orange', label='Boosting (DT base model) (AUC = %0.2f)' % auc_clf_boosting1)\n",
    "plt.plot(fpr7, tpr7, linestyle='--',color='green', label='Boosting (SVM base model)(AUC = %0.2f)' % auc_clf_boosting2)\n",
    "plt.plot(p_fpr, p_tpr, linestyle='--', color='blue')\n",
    "# title\n",
    "plt.title('ROC curve')\n",
    "# x label\n",
    "plt.xlabel('False Positive Rate')\n",
    "# y label\n",
    "plt.ylabel('True Positive rate')\n",
    "\n",
    "plt.legend(loc='best')\n",
    "plt.savefig('ROC',dpi=300)\n",
    "plt.show();"
   ]
  },
  {
   "cell_type": "markdown",
   "id": "1f8a29c5",
   "metadata": {},
   "source": [
    "## RandomForestClassifier"
   ]
  },
  {
   "cell_type": "code",
   "execution_count": 38,
   "id": "6d9d20c8",
   "metadata": {},
   "outputs": [
    {
     "name": "stdout",
     "output_type": "stream",
     "text": [
      "Best parameters {'criterion': 'gini', 'max_depth': 20, 'max_features': 'log2', 'min_samples_split': 2}\n",
      "[[93  1]\n",
      " [ 0 94]]\n",
      "              precision    recall  f1-score   support\n",
      "\n",
      "           0       1.00      0.99      0.99        94\n",
      "           1       0.99      1.00      0.99        94\n",
      "\n",
      "    accuracy                           0.99       188\n",
      "   macro avg       0.99      0.99      0.99       188\n",
      "weighted avg       0.99      0.99      0.99       188\n",
      "\n",
      "-----------------------------------------------------\n"
     ]
    }
   ],
   "source": [
    "rt = RandomForestClassifier(random_state=121)\n",
    "clf_1 = GridSearchCV(rt,param_grid_rt, cv=cv , refit=True )\n",
    "clf_1.fit(X_train , y_train)\n",
    "y_pred_acc = clf_1.predict(X_test)\n",
    "print('Best parameters' ,clf_1.best_params_)\n",
    "print(confusion_matrix(y_test,y_pred_acc))\n",
    "print(classification_report(y_test,y_pred_acc))\n",
    "print('-----------------------------------------------------')"
   ]
  },
  {
   "cell_type": "code",
   "execution_count": 39,
   "id": "d8235b86",
   "metadata": {},
   "outputs": [
    {
     "data": {
      "text/plain": [
       "1.0"
      ]
     },
     "execution_count": 39,
     "metadata": {},
     "output_type": "execute_result"
    }
   ],
   "source": [
    "pred_prob1 = clf_1.predict_proba(X_test)\n",
    "fpr1, tpr1, thresh1 = roc_curve(y_test, pred_prob1[:,1], pos_label=1)\n",
    "auc_clf_1 = roc_auc_score(y_test, pred_prob1[:,1])\n",
    "auc_clf_1\n",
    "\n"
   ]
  },
  {
   "cell_type": "code",
   "execution_count": 40,
   "id": "d79e1ac4",
   "metadata": {},
   "outputs": [
    {
     "data": {
      "image/png": "[encoded data removed]",
      "text/plain": [
       "<Figure size 576x396 with 1 Axes>"
      ]
     },
     "metadata": {},
     "output_type": "display_data"
    }
   ],
   "source": [
    "# roc curve for tpr = fpr \n",
    "random_probs = [0 for i in range(len(y_test))]\n",
    "p_fpr, p_tpr, _ = roc_curve(y_test, random_probs, pos_label=1)\n",
    "\n",
    "plt.style.use('seaborn')\n",
    "\n",
    "# plot roc curves\n",
    "plt.plot(fpr2, tpr2, linestyle='--',color='red', label='DT (AUC = %0.2f)' % auc_clf_2)\n",
    "plt.plot(fpr3, tpr3, linestyle='--',color='yellow', label='SVM (AUC = %0.2f)' % auc_clf_3)\n",
    "plt.plot(fpr4, tpr4, linestyle='--',color='pink', label='Bagging (DT base model) (AUC = %0.2f)' % auc_clf_bagging1)\n",
    "plt.plot(fpr5, tpr5, linestyle='--',color='green', label='Bagging (SVM base model) (AUC = %0.2f)' % auc_clf_bagging2)\n",
    "plt.plot(fpr6, tpr6, linestyle='--',color='orange', label='Boosting (DT base model) (AUC = %0.2f)' % auc_clf_boosting1)\n",
    "plt.plot(fpr7, tpr7, linestyle='--',color='brown', label='Boosting (SVM base model)(AUC = %0.2f)' % auc_clf_boosting2)\n",
    "plt.plot(fpr1, tpr1, linestyle='--',color='black', label='RT (AUC = %0.2f)' % auc_clf_1)\n",
    "plt.plot(p_fpr, p_tpr, linestyle='--', color='blue')\n",
    "# title\n",
    "plt.title('ROC curve')\n",
    "# x label\n",
    "plt.xlabel('False Positive Rate')\n",
    "# y label\n",
    "plt.ylabel('True Positive rate')\n",
    "\n",
    "plt.legend(loc='best')\n",
    "plt.savefig('ROC',dpi=300)\n",
    "plt.show();"
   ]
  },
  {
   "cell_type": "code",
   "execution_count": 41,
   "id": "23355278",
   "metadata": {},
   "outputs": [
    {
     "data": {
      "text/plain": [
       "array([4.41594443e-01, 8.63768909e-02, 4.37461893e-02, 5.31882102e-02,\n",
       "       4.62175834e-02, 5.04604510e-02, 2.01603930e-02, 2.26162189e-02,\n",
       "       2.17968982e-02, 1.86707449e-02, 2.27884895e-02, 9.07589461e-03,\n",
       "       4.75531075e-02, 3.82814632e-03, 2.70221163e-03, 1.08043092e-03,\n",
       "       4.48075695e-03, 6.34272681e-03, 2.40855297e-03, 2.63266776e-02,\n",
       "       5.00206225e-03, 3.85322954e-02, 9.00337947e-06, 7.42036257e-03,\n",
       "       1.68202147e-02, 8.01044216e-04])"
      ]
     },
     "execution_count": 41,
     "metadata": {},
     "output_type": "execute_result"
    }
   ],
   "source": [
    "clf_1.best_estimator_.feature_importances_"
   ]
  },
  {
   "cell_type": "code",
   "execution_count": 42,
   "id": "cf6bdbc6",
   "metadata": {},
   "outputs": [
    {
     "data": {
      "text/plain": [
       "GPA                                                                        0.441594\n",
       "ENTRYGPA                                                                   0.086377\n",
       "YEARFATHER                                                                 0.053188\n",
       "YEARMOTHER                                                                 0.050460\n",
       "COURSE_GRADE_ELEMENTARY PHYSICS_F                                          0.047553\n",
       "MOTHERINCOME                                                               0.046218\n",
       "FATHERINCOME                                                               0.043746\n",
       "COURSE_GRADE_INTRODUCTION TO INFORMATION AND COMMUNICATION TECHNOLOGY_F    0.038532\n",
       "COURSE_GRADE_GENERAL PHYSICS LABORATORY I_F                                0.026327\n",
       "COURSE_GRADE_CALCULUS FOR PHYSICAL SCIENCE I_F                             0.022788\n",
       "NumberOfSiblings                                                           0.022616\n",
       "COURSE_GRADE_BIOLOGY FOR PHYSICAL SCIENCE LABORATORY_F                     0.021797\n",
       "NumberOfSon                                                                0.020160\n",
       "COURSE_GRADE_BIOLOGY FOR PHYSICAL SCIENCE_F                                0.018671\n",
       "COURSE_GRADE_STATISTICAL ANALYSIS I_F                                      0.016820\n",
       "COURSE_GRADE_CALCULUS_F                                                    0.009076\n",
       "COURSE_GRADE_OPERATIONS RESEARCH_F                                         0.007420\n",
       "COURSE_GRADE_ENGLISH I_F                                                   0.006343\n",
       "COURSE_GRADE_HAPPINESS OF LIFE_F                                           0.005002\n",
       "COURSE_GRADE_ENGLISH FOR COMMUNICATION_F                                   0.004481\n",
       "COURSE_GRADE_ENGLISH FOR  SCIENCES_F                                       0.003828\n",
       "COURSE_GRADE_ENGLISH FOR ACADEMIC PURPOSES I_F                             0.002702\n",
       "COURSE_GRADE_GENERAL MATHEMATICS_F                                         0.002409\n",
       "COURSE_GRADE_ENGLISH FOR COMMUNICATIONS_F                                  0.001080\n",
       "COURSE_GRADE_STATISTICAL INFORMATION PROJECT II_F                          0.000801\n",
       "COURSE_GRADE_MULTICULTURALISM_F                                            0.000009\n",
       "dtype: float64"
      ]
     },
     "execution_count": 42,
     "metadata": {},
     "output_type": "execute_result"
    }
   ],
   "source": [
    "forest_importances = pd.Series(clf_1.best_estimator_.feature_importances_, index=X_train.columns)\n",
    "forest_importances.sort_values(ascending=False)"
   ]
  },
  {
   "cell_type": "code",
   "execution_count": 43,
   "id": "32007229",
   "metadata": {
    "scrolled": false
   },
   "outputs": [
    {
     "data": {
      "text/plain": [
       "<AxesSubplot:>"
      ]
     },
     "execution_count": 43,
     "metadata": {},
     "output_type": "execute_result"
    },
    {
     "data": {
      "image/png": "[encoded data removed]",
      "text/plain": [
       "<Figure size 720x720 with 1 Axes>"
      ]
     },
     "metadata": {},
     "output_type": "display_data"
    }
   ],
   "source": [
    "plt.subplots(figsize=(10,10))\n",
    "forest_importances.sort_values(ascending=False).nlargest(10).plot.barh()"
   ]
  },
  {
   "cell_type": "code",
   "execution_count": 44,
   "id": "6a0a7f69",
   "metadata": {},
   "outputs": [],
   "source": [
    "import plotly.express as px\n",
    "import plotly.graph_objs as go\n",
    "import plotly.offline as py"
   ]
  },
  {
   "cell_type": "code",
   "execution_count": 45,
   "id": "1e58ff76",
   "metadata": {},
   "outputs": [
    {
     "data": {
      "text/plain": [
       "0                                                   GPA\n",
       "1                                              ENTRYGPA\n",
       "3                                            YEARFATHER\n",
       "5                                            YEARMOTHER\n",
       "11                    COURSE_GRADE_ELEMENTARY PHYSICS_F\n",
       "4                                          MOTHERINCOME\n",
       "2                                          FATHERINCOME\n",
       "13    COURSE_GRADE_INTRODUCTION TO INFORMATION AND C...\n",
       "12          COURSE_GRADE_GENERAL PHYSICS LABORATORY I_F\n",
       "10       COURSE_GRADE_CALCULUS FOR PHYSICAL SCIENCE I_F\n",
       "7                                      NumberOfSiblings\n",
       "8     COURSE_GRADE_BIOLOGY FOR PHYSICAL SCIENCE LABO...\n",
       "6                                           NumberOfSon\n",
       "9           COURSE_GRADE_BIOLOGY FOR PHYSICAL SCIENCE_F\n",
       "14                COURSE_GRADE_STATISTICAL ANALYSIS I_F\n",
       "Name: index, dtype: object"
      ]
     },
     "execution_count": 45,
     "metadata": {},
     "output_type": "execute_result"
    }
   ],
   "source": [
    "data_fea = forest_importances[forest_importances.values > 0.01]\n",
    "data_fea=data_fea.rename('Coefficient').reset_index().sort_values('Coefficient', ascending=False)\n",
    "data_fea.to_csv(r'Feature importance case 2.csv' , encoding='utf-8-sig')\n",
    "data_fea['index']"
   ]
  },
  {
   "cell_type": "code",
   "execution_count": 46,
   "id": "a86969b1",
   "metadata": {},
   "outputs": [
    {
     "data": {
      "text/html": [
       "<div><div id=2f171ac3-f3f9-411e-bab1-674f83f0d2a2 style=\"display:none; background-color:#9D6CFF; color:white; width:200px; height:30px; padding-left:5px; border-radius:4px; flex-direction:row; justify-content:space-around; align-items:center;\" onmouseover=\"this.style.backgroundColor='#BA9BF8'\" onmouseout=\"this.style.backgroundColor='#9D6CFF'\" onclick=\"window.commands?.execute('create-mitosheet-from-dataframe-output');\">See Full Dataframe in Mito</div> <script> if (window.commands.hasCommand('create-mitosheet-from-dataframe-output')) document.getElementById('2f171ac3-f3f9-411e-bab1-674f83f0d2a2').style.display = 'flex' </script> <table border=\"1\" class=\"dataframe\">\n",
       "  <thead>\n",
       "    <tr style=\"text-align: right;\">\n",
       "      <th></th>\n",
       "      <th>index</th>\n",
       "      <th>Coefficient</th>\n",
       "      <th>Feature</th>\n",
       "    </tr>\n",
       "  </thead>\n",
       "  <tbody>\n",
       "    <tr>\n",
       "      <th>0</th>\n",
       "      <td>GPA</td>\n",
       "      <td>0.441594</td>\n",
       "      <td>GPA</td>\n",
       "    </tr>\n",
       "    <tr>\n",
       "      <th>1</th>\n",
       "      <td>ENTRYGPA</td>\n",
       "      <td>0.086377</td>\n",
       "      <td>ENTRYGPA</td>\n",
       "    </tr>\n",
       "    <tr>\n",
       "      <th>3</th>\n",
       "      <td>YEARFATHER</td>\n",
       "      <td>0.053188</td>\n",
       "      <td>YEARFATHER</td>\n",
       "    </tr>\n",
       "    <tr>\n",
       "      <th>5</th>\n",
       "      <td>YEARMOTHER</td>\n",
       "      <td>0.050460</td>\n",
       "      <td>YEARMOTHER</td>\n",
       "    </tr>\n",
       "    <tr>\n",
       "      <th>11</th>\n",
       "      <td>COURSE_GRADE_ELEMENTARY PHYSICS_F</td>\n",
       "      <td>0.047553</td>\n",
       "      <td>ELEMENTARY PHYSICS_F</td>\n",
       "    </tr>\n",
       "    <tr>\n",
       "      <th>...</th>\n",
       "      <td>...</td>\n",
       "      <td>...</td>\n",
       "      <td>...</td>\n",
       "    </tr>\n",
       "    <tr>\n",
       "      <th>7</th>\n",
       "      <td>NumberOfSiblings</td>\n",
       "      <td>0.022616</td>\n",
       "      <td>NumberOfSiblings</td>\n",
       "    </tr>\n",
       "    <tr>\n",
       "      <th>8</th>\n",
       "      <td>COURSE_GRADE_BIOLOGY FOR PHYSICAL SCIENCE LABORATORY_F</td>\n",
       "      <td>0.021797</td>\n",
       "      <td>BIOLOGY FOR PHYSICAL SCIENCE LABORATORY_F</td>\n",
       "    </tr>\n",
       "    <tr>\n",
       "      <th>6</th>\n",
       "      <td>NumberOfSon</td>\n",
       "      <td>0.020160</td>\n",
       "      <td>NumberOfSon</td>\n",
       "    </tr>\n",
       "    <tr>\n",
       "      <th>9</th>\n",
       "      <td>COURSE_GRADE_BIOLOGY FOR PHYSICAL SCIENCE_F</td>\n",
       "      <td>0.018671</td>\n",
       "      <td>BIOLOGY FOR PHYSICAL SCIENCE_F</td>\n",
       "    </tr>\n",
       "    <tr>\n",
       "      <th>14</th>\n",
       "      <td>COURSE_GRADE_STATISTICAL ANALYSIS I_F</td>\n",
       "      <td>0.016820</td>\n",
       "      <td>STATISTICAL ANALYSIS I_F</td>\n",
       "    </tr>\n",
       "  </tbody>\n",
       "</table></div>"
      ],
      "text/plain": [
       "                                                index  Coefficient  \\\n",
       "0                                                 GPA     0.441594   \n",
       "1                                            ENTRYGPA     0.086377   \n",
       "3                                          YEARFATHER     0.053188   \n",
       "5                                          YEARMOTHER     0.050460   \n",
       "11                  COURSE_GRADE_ELEMENTARY PHYSICS_F     0.047553   \n",
       "4                                        MOTHERINCOME     0.046218   \n",
       "2                                        FATHERINCOME     0.043746   \n",
       "13  COURSE_GRADE_INTRODUCTION TO INFORMATION AND C...     0.038532   \n",
       "12        COURSE_GRADE_GENERAL PHYSICS LABORATORY I_F     0.026327   \n",
       "10     COURSE_GRADE_CALCULUS FOR PHYSICAL SCIENCE I_F     0.022788   \n",
       "7                                    NumberOfSiblings     0.022616   \n",
       "8   COURSE_GRADE_BIOLOGY FOR PHYSICAL SCIENCE LABO...     0.021797   \n",
       "6                                         NumberOfSon     0.020160   \n",
       "9         COURSE_GRADE_BIOLOGY FOR PHYSICAL SCIENCE_F     0.018671   \n",
       "14              COURSE_GRADE_STATISTICAL ANALYSIS I_F     0.016820   \n",
       "\n",
       "                                              Feature  \n",
       "0                                                 GPA  \n",
       "1                                            ENTRYGPA  \n",
       "3                                          YEARFATHER  \n",
       "5                                          YEARMOTHER  \n",
       "11                               ELEMENTARY PHYSICS_F  \n",
       "4                                        MOTHERINCOME  \n",
       "2                                        FATHERINCOME  \n",
       "13  INTRODUCTION TO INFORMATION AND COMMUNICATION ...  \n",
       "12                     GENERAL PHYSICS LABORATORY I_F  \n",
       "10                  CALCULUS FOR PHYSICAL SCIENCE I_F  \n",
       "7                                    NumberOfSiblings  \n",
       "8           BIOLOGY FOR PHYSICAL SCIENCE LABORATORY_F  \n",
       "6                                         NumberOfSon  \n",
       "9                      BIOLOGY FOR PHYSICAL SCIENCE_F  \n",
       "14                           STATISTICAL ANALYSIS I_F  "
      ]
     },
     "execution_count": 46,
     "metadata": {},
     "output_type": "execute_result"
    }
   ],
   "source": [
    "data_asd = pd.DataFrame(data_fea['index'].str.split('_', n=2,expand=True ))\n",
    "data_asd[data_asd[0] != 'COURSE'][0].values\n",
    "\n",
    "indices = data_asd[data_asd[0] != 'COURSE'][0].index\n",
    "data_asd.loc[indices, 2] = data_asd[data_asd[0] != 'COURSE'][0].values\n",
    "\n",
    "data_fea['Feature'] = data_asd[2]\n",
    "data_fea"
   ]
  },
  {
   "cell_type": "code",
   "execution_count": 49,
   "id": "3af8c730",
   "metadata": {},
   "outputs": [
    {
     "data": {
      "application/vnd.plotly.v1+json": {
       "config": {
        "plotlyServerURL": "https://plot.ly"
       },
       "data": [
        {
         "alignmentgroup": "True",
         "hovertemplate": "Coefficient=%{text}<br>Feature=%{y}<extra></extra>",
         "legendgroup": "",
         "marker": {
          "color": "#636efa",
          "line": {
           "color": "#28221D",
           "width": 1
          },
          "opacity": 0.75
         },
         "name": "",
         "offsetgroup": "",
         "orientation": "h",
         "showlegend": false,
         "text": [
          0.4415944428067081,
          0.08637689089160124,
          0.053188210163712696,
          0.05046045098733732,
          0.04755310752365713,
          0.04621758337889136,
          0.04374618934173057,
          0.03853229543834443,
          0.026326677559202656,
          0.02278848954729464,
          0.022616218918258064,
          0.021796898241560975,
          0.020160393015592675,
          0.018670744852857833,
          0.016820214699083912
         ],
         "textposition": "outside",
         "texttemplate": "%{text:,.3f}",
         "type": "bar",
         "x": [
          0.4415944428067081,
          0.08637689089160124,
          0.053188210163712696,
          0.05046045098733732,
          0.04755310752365713,
          0.04621758337889136,
          0.04374618934173057,
          0.03853229543834443,
          0.026326677559202656,
          0.02278848954729464,
          0.022616218918258064,
          0.021796898241560975,
          0.020160393015592675,
          0.018670744852857833,
          0.016820214699083912
         ],
         "xaxis": "x",
         "y": [
          "GPA",
          "ENTRYGPA",
          "YEARFATHER",
          "YEARMOTHER",
          "ELEMENTARY PHYSICS_F",
          "MOTHERINCOME",
          "FATHERINCOME",
          "INTRODUCTION TO INFORMATION AND COMMUNICATION TECHNOLOGY_F",
          "GENERAL PHYSICS LABORATORY I_F",
          "CALCULUS FOR PHYSICAL SCIENCE I_F",
          "NumberOfSiblings",
          "BIOLOGY FOR PHYSICAL SCIENCE LABORATORY_F",
          "NumberOfSon",
          "BIOLOGY FOR PHYSICAL SCIENCE_F",
          "STATISTICAL ANALYSIS I_F"
         ],
         "yaxis": "y"
        }
       ],
       "layout": {
        "barmode": "group",
        "font": {
         "color": "#28221D"
        },
        "legend": {
         "tracegroupgap": 0
        },
        "margin": {
         "t": 60
        },
        "template": {
         "data": {
          "bar": [
           {
            "error_x": {
             "color": "#2a3f5f"
            },
            "error_y": {
             "color": "#2a3f5f"
            },
            "marker": {
             "line": {
              "color": "#E5ECF6",
              "width": 0.5
             }
            },
            "type": "bar"
           }
          ],
          "barpolar": [
           {
            "marker": {
             "line": {
              "color": "#E5ECF6",
              "width": 0.5
             }
            },
            "type": "barpolar"
           }
          ],
          "carpet": [
           {
            "aaxis": {
             "endlinecolor": "#2a3f5f",
             "gridcolor": "white",
             "linecolor": "white",
             "minorgridcolor": "white",
             "startlinecolor": "#2a3f5f"
            },
            "baxis": {
             "endlinecolor": "#2a3f5f",
             "gridcolor": "white",
             "linecolor": "white",
             "minorgridcolor": "white",
             "startlinecolor": "#2a3f5f"
            },
            "type": "carpet"
           }
          ],
          "choropleth": [
           {
            "colorbar": {
             "outlinewidth": 0,
             "ticks": ""
            },
            "type": "choropleth"
           }
          ],
          "contour": [
           {
            "colorbar": {
             "outlinewidth": 0,
             "ticks": ""
            },
            "colorscale": [
             [
              0,
              "#0d0887"
             ],
             [
              0.1111111111111111,
              "#46039f"
             ],
             [
              0.2222222222222222,
              "#7201a8"
             ],
             [
              0.3333333333333333,
              "#9c179e"
             ],
             [
              0.4444444444444444,
              "#bd3786"
             ],
             [
              0.5555555555555556,
              "#d8576b"
             ],
             [
              0.6666666666666666,
              "#ed7953"
             ],
             [
              0.7777777777777778,
              "#fb9f3a"
             ],
             [
              0.8888888888888888,
              "#fdca26"
             ],
             [
              1,
              "#f0f921"
             ]
            ],
            "type": "contour"
           }
          ],
          "contourcarpet": [
           {
            "colorbar": {
             "outlinewidth": 0,
             "ticks": ""
            },
            "type": "contourcarpet"
           }
          ],
          "heatmap": [
           {
            "colorbar": {
             "outlinewidth": 0,
             "ticks": ""
            },
            "colorscale": [
             [
              0,
              "#0d0887"
             ],
             [
              0.1111111111111111,
              "#46039f"
             ],
             [
              0.2222222222222222,
              "#7201a8"
             ],
             [
              0.3333333333333333,
              "#9c179e"
             ],
             [
              0.4444444444444444,
              "#bd3786"
             ],
             [
              0.5555555555555556,
              "#d8576b"
             ],
             [
              0.6666666666666666,
              "#ed7953"
             ],
             [
              0.7777777777777778,
              "#fb9f3a"
             ],
             [
              0.8888888888888888,
              "#fdca26"
             ],
             [
              1,
              "#f0f921"
             ]
            ],
            "type": "heatmap"
           }
          ],
          "heatmapgl": [
           {
            "colorbar": {
             "outlinewidth": 0,
             "ticks": ""
            },
            "colorscale": [
             [
              0,
              "#0d0887"
             ],
             [
              0.1111111111111111,
              "#46039f"
             ],
             [
              0.2222222222222222,
              "#7201a8"
             ],
             [
              0.3333333333333333,
              "#9c179e"
             ],
             [
              0.4444444444444444,
              "#bd3786"
             ],
             [
              0.5555555555555556,
              "#d8576b"
             ],
             [
              0.6666666666666666,
              "#ed7953"
             ],
             [
              0.7777777777777778,
              "#fb9f3a"
             ],
             [
              0.8888888888888888,
              "#fdca26"
             ],
             [
              1,
              "#f0f921"
             ]
            ],
            "type": "heatmapgl"
           }
          ],
          "histogram": [
           {
            "marker": {
             "colorbar": {
              "outlinewidth": 0,
              "ticks": ""
             }
            },
            "type": "histogram"
           }
          ],
          "histogram2d": [
           {
            "colorbar": {
             "outlinewidth": 0,
             "ticks": ""
            },
            "colorscale": [
             [
              0,
              "#0d0887"
             ],
             [
              0.1111111111111111,
              "#46039f"
             ],
             [
              0.2222222222222222,
              "#7201a8"
             ],
             [
              0.3333333333333333,
              "#9c179e"
             ],
             [
              0.4444444444444444,
              "#bd3786"
             ],
             [
              0.5555555555555556,
              "#d8576b"
             ],
             [
              0.6666666666666666,
              "#ed7953"
             ],
             [
              0.7777777777777778,
              "#fb9f3a"
             ],
             [
              0.8888888888888888,
              "#fdca26"
             ],
             [
              1,
              "#f0f921"
             ]
            ],
            "type": "histogram2d"
           }
          ],
          "histogram2dcontour": [
           {
            "colorbar": {
             "outlinewidth": 0,
             "ticks": ""
            },
            "colorscale": [
             [
              0,
              "#0d0887"
             ],
             [
              0.1111111111111111,
              "#46039f"
             ],
             [
              0.2222222222222222,
              "#7201a8"
             ],
             [
              0.3333333333333333,
              "#9c179e"
             ],
             [
              0.4444444444444444,
              "#bd3786"
             ],
             [
              0.5555555555555556,
              "#d8576b"
             ],
             [
              0.6666666666666666,
              "#ed7953"
             ],
             [
              0.7777777777777778,
              "#fb9f3a"
             ],
             [
              0.8888888888888888,
              "#fdca26"
             ],
             [
              1,
              "#f0f921"
             ]
            ],
            "type": "histogram2dcontour"
           }
          ],
          "mesh3d": [
           {
            "colorbar": {
             "outlinewidth": 0,
             "ticks": ""
            },
            "type": "mesh3d"
           }
          ],
          "parcoords": [
           {
            "line": {
             "colorbar": {
              "outlinewidth": 0,
              "ticks": ""
             }
            },
            "type": "parcoords"
           }
          ],
          "pie": [
           {
            "automargin": true,
            "type": "pie"
           }
          ],
          "scatter": [
           {
            "marker": {
             "colorbar": {
              "outlinewidth": 0,
              "ticks": ""
             }
            },
            "type": "scatter"
           }
          ],
          "scatter3d": [
           {
            "line": {
             "colorbar": {
              "outlinewidth": 0,
              "ticks": ""
             }
            },
            "marker": {
             "colorbar": {
              "outlinewidth": 0,
              "ticks": ""
             }
            },
            "type": "scatter3d"
           }
          ],
          "scattercarpet": [
           {
            "marker": {
             "colorbar": {
              "outlinewidth": 0,
              "ticks": ""
             }
            },
            "type": "scattercarpet"
           }
          ],
          "scattergeo": [
           {
            "marker": {
             "colorbar": {
              "outlinewidth": 0,
              "ticks": ""
             }
            },
            "type": "scattergeo"
           }
          ],
          "scattergl": [
           {
            "marker": {
             "colorbar": {
              "outlinewidth": 0,
              "ticks": ""
             }
            },
            "type": "scattergl"
           }
          ],
          "scattermapbox": [
           {
            "marker": {
             "colorbar": {
              "outlinewidth": 0,
              "ticks": ""
             }
            },
            "type": "scattermapbox"
           }
          ],
          "scatterpolar": [
           {
            "marker": {
             "colorbar": {
              "outlinewidth": 0,
              "ticks": ""
             }
            },
            "type": "scatterpolar"
           }
          ],
          "scatterpolargl": [
           {
            "marker": {
             "colorbar": {
              "outlinewidth": 0,
              "ticks": ""
             }
            },
            "type": "scatterpolargl"
           }
          ],
          "scatterternary": [
           {
            "marker": {
             "colorbar": {
              "outlinewidth": 0,
              "ticks": ""
             }
            },
            "type": "scatterternary"
           }
          ],
          "surface": [
           {
            "colorbar": {
             "outlinewidth": 0,
             "ticks": ""
            },
            "colorscale": [
             [
              0,
              "#0d0887"
             ],
             [
              0.1111111111111111,
              "#46039f"
             ],
             [
              0.2222222222222222,
              "#7201a8"
             ],
             [
              0.3333333333333333,
              "#9c179e"
             ],
             [
              0.4444444444444444,
              "#bd3786"
             ],
             [
              0.5555555555555556,
              "#d8576b"
             ],
             [
              0.6666666666666666,
              "#ed7953"
             ],
             [
              0.7777777777777778,
              "#fb9f3a"
             ],
             [
              0.8888888888888888,
              "#fdca26"
             ],
             [
              1,
              "#f0f921"
             ]
            ],
            "type": "surface"
           }
          ],
          "table": [
           {
            "cells": {
             "fill": {
              "color": "#EBF0F8"
             },
             "line": {
              "color": "white"
             }
            },
            "header": {
             "fill": {
              "color": "#C8D4E3"
             },
             "line": {
              "color": "white"
             }
            },
            "type": "table"
           }
          ]
         },
         "layout": {
          "annotationdefaults": {
           "arrowcolor": "#2a3f5f",
           "arrowhead": 0,
           "arrowwidth": 1
          },
          "coloraxis": {
           "colorbar": {
            "outlinewidth": 0,
            "ticks": ""
           }
          },
          "colorscale": {
           "diverging": [
            [
             0,
             "#8e0152"
            ],
            [
             0.1,
             "#c51b7d"
            ],
            [
             0.2,
             "#de77ae"
            ],
            [
             0.3,
             "#f1b6da"
            ],
            [
             0.4,
             "#fde0ef"
            ],
            [
             0.5,
             "#f7f7f7"
            ],
            [
             0.6,
             "#e6f5d0"
            ],
            [
             0.7,
             "#b8e186"
            ],
            [
             0.8,
             "#7fbc41"
            ],
            [
             0.9,
             "#4d9221"
            ],
            [
             1,
             "#276419"
            ]
           ],
           "sequential": [
            [
             0,
             "#0d0887"
            ],
            [
             0.1111111111111111,
             "#46039f"
            ],
            [
             0.2222222222222222,
             "#7201a8"
            ],
            [
             0.3333333333333333,
             "#9c179e"
            ],
            [
             0.4444444444444444,
             "#bd3786"
            ],
            [
             0.5555555555555556,
             "#d8576b"
            ],
            [
             0.6666666666666666,
             "#ed7953"
            ],
            [
             0.7777777777777778,
             "#fb9f3a"
            ],
            [
             0.8888888888888888,
             "#fdca26"
            ],
            [
             1,
             "#f0f921"
            ]
           ],
           "sequentialminus": [
            [
             0,
             "#0d0887"
            ],
            [
             0.1111111111111111,
             "#46039f"
            ],
            [
             0.2222222222222222,
             "#7201a8"
            ],
            [
             0.3333333333333333,
             "#9c179e"
            ],
            [
             0.4444444444444444,
             "#bd3786"
            ],
            [
             0.5555555555555556,
             "#d8576b"
            ],
            [
             0.6666666666666666,
             "#ed7953"
            ],
            [
             0.7777777777777778,
             "#fb9f3a"
            ],
            [
             0.8888888888888888,
             "#fdca26"
            ],
            [
             1,
             "#f0f921"
            ]
           ]
          },
          "colorway": [
           "#636efa",
           "#EF553B",
           "#00cc96",
           "#ab63fa",
           "#FFA15A",
           "#19d3f3",
           "#FF6692",
           "#B6E880",
           "#FF97FF",
           "#FECB52"
          ],
          "font": {
           "color": "#2a3f5f"
          },
          "geo": {
           "bgcolor": "white",
           "lakecolor": "white",
           "landcolor": "#E5ECF6",
           "showlakes": true,
           "showland": true,
           "subunitcolor": "white"
          },
          "hoverlabel": {
           "align": "left"
          },
          "hovermode": "closest",
          "mapbox": {
           "style": "light"
          },
          "paper_bgcolor": "white",
          "plot_bgcolor": "#E5ECF6",
          "polar": {
           "angularaxis": {
            "gridcolor": "white",
            "linecolor": "white",
            "ticks": ""
           },
           "bgcolor": "#E5ECF6",
           "radialaxis": {
            "gridcolor": "white",
            "linecolor": "white",
            "ticks": ""
           }
          },
          "scene": {
           "xaxis": {
            "backgroundcolor": "#E5ECF6",
            "gridcolor": "white",
            "gridwidth": 2,
            "linecolor": "white",
            "showbackground": true,
            "ticks": "",
            "zerolinecolor": "white"
           },
           "yaxis": {
            "backgroundcolor": "#E5ECF6",
            "gridcolor": "white",
            "gridwidth": 2,
            "linecolor": "white",
            "showbackground": true,
            "ticks": "",
            "zerolinecolor": "white"
           },
           "zaxis": {
            "backgroundcolor": "#E5ECF6",
            "gridcolor": "white",
            "gridwidth": 2,
            "linecolor": "white",
            "showbackground": true,
            "ticks": "",
            "zerolinecolor": "white"
           }
          },
          "shapedefaults": {
           "line": {
            "color": "#2a3f5f"
           }
          },
          "ternary": {
           "aaxis": {
            "gridcolor": "white",
            "linecolor": "white",
            "ticks": ""
           },
           "baxis": {
            "gridcolor": "white",
            "linecolor": "white",
            "ticks": ""
           },
           "bgcolor": "#E5ECF6",
           "caxis": {
            "gridcolor": "white",
            "linecolor": "white",
            "ticks": ""
           }
          },
          "title": {
           "x": 0.05
          },
          "xaxis": {
           "automargin": true,
           "gridcolor": "white",
           "linecolor": "white",
           "ticks": "",
           "title": {
            "standoff": 15
           },
           "zerolinecolor": "white",
           "zerolinewidth": 2
          },
          "yaxis": {
           "automargin": true,
           "gridcolor": "white",
           "linecolor": "white",
           "ticks": "",
           "title": {
            "standoff": 15
           },
           "zerolinecolor": "white",
           "zerolinewidth": 2
          }
         }
        },
        "title": {
         "text": "feature importance (ไม่ลงทะเบียน,ไม่ชำระ)"
        },
        "xaxis": {
         "anchor": "y",
         "domain": [
          0,
          1
         ],
         "title": {
          "text": "Coefficient"
         }
        },
        "yaxis": {
         "anchor": "x",
         "domain": [
          0,
          1
         ],
         "title": {
          "text": "Feature"
         },
         "zeroline": true,
         "zerolinecolor": "#28221D",
         "zerolinewidth": 1
        }
       }
      },
      "text/html": [
       "<div>                            <div id=\"aab3d1b2-96b7-46a6-8b0f-5e726a2ac83c\" class=\"plotly-graph-div\" style=\"height:525px; width:100%;\"></div>            <script type=\"text/javascript\">                require([\"plotly\"], function(Plotly) {                    window.PLOTLYENV=window.PLOTLYENV || {};                                    if (document.getElementById(\"aab3d1b2-96b7-46a6-8b0f-5e726a2ac83c\")) {                    Plotly.newPlot(                        \"aab3d1b2-96b7-46a6-8b0f-5e726a2ac83c\",                        [{\"alignmentgroup\": \"True\", \"hovertemplate\": \"Coefficient=%{text}<br>Feature=%{y}<extra></extra>\", \"legendgroup\": \"\", \"marker\": {\"color\": \"#636efa\", \"line\": {\"color\": \"#28221D\", \"width\": 1}, \"opacity\": 0.75}, \"name\": \"\", \"offsetgroup\": \"\", \"orientation\": \"h\", \"showlegend\": false, \"text\": [0.4415944428067081, 0.08637689089160124, 0.053188210163712696, 0.05046045098733732, 0.04755310752365713, 0.04621758337889136, 0.04374618934173057, 0.03853229543834443, 0.026326677559202656, 0.02278848954729464, 0.022616218918258064, 0.021796898241560975, 0.020160393015592675, 0.018670744852857833, 0.016820214699083912], \"textposition\": \"outside\", \"texttemplate\": \"%{text:,.3f}\", \"type\": \"bar\", \"x\": [0.4415944428067081, 0.08637689089160124, 0.053188210163712696, 0.05046045098733732, 0.04755310752365713, 0.04621758337889136, 0.04374618934173057, 0.03853229543834443, 0.026326677559202656, 0.02278848954729464, 0.022616218918258064, 0.021796898241560975, 0.020160393015592675, 0.018670744852857833, 0.016820214699083912], \"xaxis\": \"x\", \"y\": [\"GPA\", \"ENTRYGPA\", \"YEARFATHER\", \"YEARMOTHER\", \"ELEMENTARY PHYSICS_F\", \"MOTHERINCOME\", \"FATHERINCOME\", \"INTRODUCTION TO INFORMATION AND COMMUNICATION TECHNOLOGY_F\", \"GENERAL PHYSICS LABORATORY I_F\", \"CALCULUS FOR PHYSICAL SCIENCE I_F\", \"NumberOfSiblings\", \"BIOLOGY FOR PHYSICAL SCIENCE LABORATORY_F\", \"NumberOfSon\", \"BIOLOGY FOR PHYSICAL SCIENCE_F\", \"STATISTICAL ANALYSIS I_F\"], \"yaxis\": \"y\"}],                        {\"barmode\": \"group\", \"font\": {\"color\": \"#28221D\"}, \"legend\": {\"tracegroupgap\": 0}, \"margin\": {\"t\": 60}, \"template\": {\"data\": {\"bar\": [{\"error_x\": {\"color\": \"#2a3f5f\"}, \"error_y\": {\"color\": \"#2a3f5f\"}, \"marker\": {\"line\": {\"color\": \"#E5ECF6\", \"width\": 0.5}}, \"type\": \"bar\"}], \"barpolar\": [{\"marker\": {\"line\": {\"color\": \"#E5ECF6\", \"width\": 0.5}}, \"type\": \"barpolar\"}], \"carpet\": [{\"aaxis\": {\"endlinecolor\": \"#2a3f5f\", \"gridcolor\": \"white\", \"linecolor\": \"white\", \"minorgridcolor\": \"white\", \"startlinecolor\": \"#2a3f5f\"}, \"baxis\": {\"endlinecolor\": \"#2a3f5f\", \"gridcolor\": \"white\", \"linecolor\": \"white\", \"minorgridcolor\": \"white\", \"startlinecolor\": \"#2a3f5f\"}, \"type\": \"carpet\"}], \"choropleth\": [{\"colorbar\": {\"outlinewidth\": 0, \"ticks\": \"\"}, \"type\": \"choropleth\"}], \"contour\": [{\"colorbar\": {\"outlinewidth\": 0, \"ticks\": \"\"}, \"colorscale\": [[0.0, \"#0d0887\"], [0.1111111111111111, \"#46039f\"], [0.2222222222222222, \"#7201a8\"], [0.3333333333333333, \"#9c179e\"], [0.4444444444444444, \"#bd3786\"], [0.5555555555555556, \"#d8576b\"], [0.6666666666666666, \"#ed7953\"], [0.7777777777777778, \"#fb9f3a\"], [0.8888888888888888, \"#fdca26\"], [1.0, \"#f0f921\"]], \"type\": \"contour\"}], \"contourcarpet\": [{\"colorbar\": {\"outlinewidth\": 0, \"ticks\": \"\"}, \"type\": \"contourcarpet\"}], \"heatmap\": [{\"colorbar\": {\"outlinewidth\": 0, \"ticks\": \"\"}, \"colorscale\": [[0.0, \"#0d0887\"], [0.1111111111111111, \"#46039f\"], [0.2222222222222222, \"#7201a8\"], [0.3333333333333333, \"#9c179e\"], [0.4444444444444444, \"#bd3786\"], [0.5555555555555556, \"#d8576b\"], [0.6666666666666666, \"#ed7953\"], [0.7777777777777778, \"#fb9f3a\"], [0.8888888888888888, \"#fdca26\"], [1.0, \"#f0f921\"]], \"type\": \"heatmap\"}], \"heatmapgl\": [{\"colorbar\": {\"outlinewidth\": 0, \"ticks\": \"\"}, \"colorscale\": [[0.0, \"#0d0887\"], [0.1111111111111111, \"#46039f\"], [0.2222222222222222, \"#7201a8\"], [0.3333333333333333, \"#9c179e\"], [0.4444444444444444, \"#bd3786\"], [0.5555555555555556, \"#d8576b\"], [0.6666666666666666, \"#ed7953\"], [0.7777777777777778, \"#fb9f3a\"], [0.8888888888888888, \"#fdca26\"], [1.0, \"#f0f921\"]], \"type\": \"heatmapgl\"}], \"histogram\": [{\"marker\": {\"colorbar\": {\"outlinewidth\": 0, \"ticks\": \"\"}}, \"type\": \"histogram\"}], \"histogram2d\": [{\"colorbar\": {\"outlinewidth\": 0, \"ticks\": \"\"}, \"colorscale\": [[0.0, \"#0d0887\"], [0.1111111111111111, \"#46039f\"], [0.2222222222222222, \"#7201a8\"], [0.3333333333333333, \"#9c179e\"], [0.4444444444444444, \"#bd3786\"], [0.5555555555555556, \"#d8576b\"], [0.6666666666666666, \"#ed7953\"], [0.7777777777777778, \"#fb9f3a\"], [0.8888888888888888, \"#fdca26\"], [1.0, \"#f0f921\"]], \"type\": \"histogram2d\"}], \"histogram2dcontour\": [{\"colorbar\": {\"outlinewidth\": 0, \"ticks\": \"\"}, \"colorscale\": [[0.0, \"#0d0887\"], [0.1111111111111111, \"#46039f\"], [0.2222222222222222, \"#7201a8\"], [0.3333333333333333, \"#9c179e\"], [0.4444444444444444, \"#bd3786\"], [0.5555555555555556, \"#d8576b\"], [0.6666666666666666, \"#ed7953\"], [0.7777777777777778, \"#fb9f3a\"], [0.8888888888888888, \"#fdca26\"], [1.0, \"#f0f921\"]], \"type\": \"histogram2dcontour\"}], \"mesh3d\": [{\"colorbar\": {\"outlinewidth\": 0, \"ticks\": \"\"}, \"type\": \"mesh3d\"}], \"parcoords\": [{\"line\": {\"colorbar\": {\"outlinewidth\": 0, \"ticks\": \"\"}}, \"type\": \"parcoords\"}], \"pie\": [{\"automargin\": true, \"type\": \"pie\"}], \"scatter\": [{\"marker\": {\"colorbar\": {\"outlinewidth\": 0, \"ticks\": \"\"}}, \"type\": \"scatter\"}], \"scatter3d\": [{\"line\": {\"colorbar\": {\"outlinewidth\": 0, \"ticks\": \"\"}}, \"marker\": {\"colorbar\": {\"outlinewidth\": 0, \"ticks\": \"\"}}, \"type\": \"scatter3d\"}], \"scattercarpet\": [{\"marker\": {\"colorbar\": {\"outlinewidth\": 0, \"ticks\": \"\"}}, \"type\": \"scattercarpet\"}], \"scattergeo\": [{\"marker\": {\"colorbar\": {\"outlinewidth\": 0, \"ticks\": \"\"}}, \"type\": \"scattergeo\"}], \"scattergl\": [{\"marker\": {\"colorbar\": {\"outlinewidth\": 0, \"ticks\": \"\"}}, \"type\": \"scattergl\"}], \"scattermapbox\": [{\"marker\": {\"colorbar\": {\"outlinewidth\": 0, \"ticks\": \"\"}}, \"type\": \"scattermapbox\"}], \"scatterpolar\": [{\"marker\": {\"colorbar\": {\"outlinewidth\": 0, \"ticks\": \"\"}}, \"type\": \"scatterpolar\"}], \"scatterpolargl\": [{\"marker\": {\"colorbar\": {\"outlinewidth\": 0, \"ticks\": \"\"}}, \"type\": \"scatterpolargl\"}], \"scatterternary\": [{\"marker\": {\"colorbar\": {\"outlinewidth\": 0, \"ticks\": \"\"}}, \"type\": \"scatterternary\"}], \"surface\": [{\"colorbar\": {\"outlinewidth\": 0, \"ticks\": \"\"}, \"colorscale\": [[0.0, \"#0d0887\"], [0.1111111111111111, \"#46039f\"], [0.2222222222222222, \"#7201a8\"], [0.3333333333333333, \"#9c179e\"], [0.4444444444444444, \"#bd3786\"], [0.5555555555555556, \"#d8576b\"], [0.6666666666666666, \"#ed7953\"], [0.7777777777777778, \"#fb9f3a\"], [0.8888888888888888, \"#fdca26\"], [1.0, \"#f0f921\"]], \"type\": \"surface\"}], \"table\": [{\"cells\": {\"fill\": {\"color\": \"#EBF0F8\"}, \"line\": {\"color\": \"white\"}}, \"header\": {\"fill\": {\"color\": \"#C8D4E3\"}, \"line\": {\"color\": \"white\"}}, \"type\": \"table\"}]}, \"layout\": {\"annotationdefaults\": {\"arrowcolor\": \"#2a3f5f\", \"arrowhead\": 0, \"arrowwidth\": 1}, \"coloraxis\": {\"colorbar\": {\"outlinewidth\": 0, \"ticks\": \"\"}}, \"colorscale\": {\"diverging\": [[0, \"#8e0152\"], [0.1, \"#c51b7d\"], [0.2, \"#de77ae\"], [0.3, \"#f1b6da\"], [0.4, \"#fde0ef\"], [0.5, \"#f7f7f7\"], [0.6, \"#e6f5d0\"], [0.7, \"#b8e186\"], [0.8, \"#7fbc41\"], [0.9, \"#4d9221\"], [1, \"#276419\"]], \"sequential\": [[0.0, \"#0d0887\"], [0.1111111111111111, \"#46039f\"], [0.2222222222222222, \"#7201a8\"], [0.3333333333333333, \"#9c179e\"], [0.4444444444444444, \"#bd3786\"], [0.5555555555555556, \"#d8576b\"], [0.6666666666666666, \"#ed7953\"], [0.7777777777777778, \"#fb9f3a\"], [0.8888888888888888, \"#fdca26\"], [1.0, \"#f0f921\"]], \"sequentialminus\": [[0.0, \"#0d0887\"], [0.1111111111111111, \"#46039f\"], [0.2222222222222222, \"#7201a8\"], [0.3333333333333333, \"#9c179e\"], [0.4444444444444444, \"#bd3786\"], [0.5555555555555556, \"#d8576b\"], [0.6666666666666666, \"#ed7953\"], [0.7777777777777778, \"#fb9f3a\"], [0.8888888888888888, \"#fdca26\"], [1.0, \"#f0f921\"]]}, \"colorway\": [\"#636efa\", \"#EF553B\", \"#00cc96\", \"#ab63fa\", \"#FFA15A\", \"#19d3f3\", \"#FF6692\", \"#B6E880\", \"#FF97FF\", \"#FECB52\"], \"font\": {\"color\": \"#2a3f5f\"}, \"geo\": {\"bgcolor\": \"white\", \"lakecolor\": \"white\", \"landcolor\": \"#E5ECF6\", \"showlakes\": true, \"showland\": true, \"subunitcolor\": \"white\"}, \"hoverlabel\": {\"align\": \"left\"}, \"hovermode\": \"closest\", \"mapbox\": {\"style\": \"light\"}, \"paper_bgcolor\": \"white\", \"plot_bgcolor\": \"#E5ECF6\", \"polar\": {\"angularaxis\": {\"gridcolor\": \"white\", \"linecolor\": \"white\", \"ticks\": \"\"}, \"bgcolor\": \"#E5ECF6\", \"radialaxis\": {\"gridcolor\": \"white\", \"linecolor\": \"white\", \"ticks\": \"\"}}, \"scene\": {\"xaxis\": {\"backgroundcolor\": \"#E5ECF6\", \"gridcolor\": \"white\", \"gridwidth\": 2, \"linecolor\": \"white\", \"showbackground\": true, \"ticks\": \"\", \"zerolinecolor\": \"white\"}, \"yaxis\": {\"backgroundcolor\": \"#E5ECF6\", \"gridcolor\": \"white\", \"gridwidth\": 2, \"linecolor\": \"white\", \"showbackground\": true, \"ticks\": \"\", \"zerolinecolor\": \"white\"}, \"zaxis\": {\"backgroundcolor\": \"#E5ECF6\", \"gridcolor\": \"white\", \"gridwidth\": 2, \"linecolor\": \"white\", \"showbackground\": true, \"ticks\": \"\", \"zerolinecolor\": \"white\"}}, \"shapedefaults\": {\"line\": {\"color\": \"#2a3f5f\"}}, \"ternary\": {\"aaxis\": {\"gridcolor\": \"white\", \"linecolor\": \"white\", \"ticks\": \"\"}, \"baxis\": {\"gridcolor\": \"white\", \"linecolor\": \"white\", \"ticks\": \"\"}, \"bgcolor\": \"#E5ECF6\", \"caxis\": {\"gridcolor\": \"white\", \"linecolor\": \"white\", \"ticks\": \"\"}}, \"title\": {\"x\": 0.05}, \"xaxis\": {\"automargin\": true, \"gridcolor\": \"white\", \"linecolor\": \"white\", \"ticks\": \"\", \"title\": {\"standoff\": 15}, \"zerolinecolor\": \"white\", \"zerolinewidth\": 2}, \"yaxis\": {\"automargin\": true, \"gridcolor\": \"white\", \"linecolor\": \"white\", \"ticks\": \"\", \"title\": {\"standoff\": 15}, \"zerolinecolor\": \"white\", \"zerolinewidth\": 2}}}, \"title\": {\"text\": \"feature importance (\\u0e44\\u0e21\\u0e48\\u0e25\\u0e07\\u0e17\\u0e30\\u0e40\\u0e1a\\u0e35\\u0e22\\u0e19,\\u0e44\\u0e21\\u0e48\\u0e0a\\u0e33\\u0e23\\u0e30)\"}, \"xaxis\": {\"anchor\": \"y\", \"domain\": [0.0, 1.0], \"title\": {\"text\": \"Coefficient\"}}, \"yaxis\": {\"anchor\": \"x\", \"domain\": [0.0, 1.0], \"title\": {\"text\": \"Feature\"}, \"zeroline\": true, \"zerolinecolor\": \"#28221D\", \"zerolinewidth\": 1}},                        {\"responsive\": true}                    ).then(function(){\n",
       "                            \n",
       "var gd = document.getElementById('aab3d1b2-96b7-46a6-8b0f-5e726a2ac83c');\n",
       "var x = new MutationObserver(function (mutations, observer) {{\n",
       "        var display = window.getComputedStyle(gd).display;\n",
       "        if (!display || display === 'none') {{\n",
       "            console.log([gd, 'removed!']);\n",
       "            Plotly.purge(gd);\n",
       "            observer.disconnect();\n",
       "        }}\n",
       "}});\n",
       "\n",
       "// Listen for the removal of the full notebook cells\n",
       "var notebookContainer = gd.closest('#notebook-container');\n",
       "if (notebookContainer) {{\n",
       "    x.observe(notebookContainer, {childList: true});\n",
       "}}\n",
       "\n",
       "// Listen for the clearing of the current output cell\n",
       "var outputEl = gd.closest('.output');\n",
       "if (outputEl) {{\n",
       "    x.observe(outputEl, {childList: true});\n",
       "}}\n",
       "\n",
       "                        })                };                });            </script>        </div>"
      ]
     },
     "metadata": {},
     "output_type": "display_data"
    }
   ],
   "source": [
    "fig = px.bar(data_fea, x='Coefficient', y='Feature', text='Coefficient',  \n",
    "             barmode='group', opacity=0.75)\n",
    "fig.update_traces(texttemplate='%{text:,.3f}', textposition='outside',\n",
    "                  marker_line=dict(width=1, color='#28221D'))\n",
    "fig.update_yaxes(zeroline=True, zerolinewidth=1, zerolinecolor='#28221D')\n",
    "\n",
    "fig.update_layout(title_text='feature importance (ไม่ลงทะเบียน,ไม่ชำระ)', font_color='#28221D',\n",
    "                  yaxis_title='Feature')\n",
    "fig.show()"
   ]
  },
  {
   "cell_type": "code",
   "execution_count": 55,
   "id": "50263846",
   "metadata": {},
   "outputs": [
    {
     "data": {
      "text/html": [
       "<div><div id=16097d5c-cbf7-4ceb-9fa9-68bd08b1d1c7 style=\"display:none; background-color:#9D6CFF; color:white; width:200px; height:30px; padding-left:5px; border-radius:4px; flex-direction:row; justify-content:space-around; align-items:center;\" onmouseover=\"this.style.backgroundColor='#BA9BF8'\" onmouseout=\"this.style.backgroundColor='#9D6CFF'\" onclick=\"window.commands?.execute('create-mitosheet-from-dataframe-output');\">See Full Dataframe in Mito</div> <script> if (window.commands.hasCommand('create-mitosheet-from-dataframe-output')) document.getElementById('16097d5c-cbf7-4ceb-9fa9-68bd08b1d1c7').style.display = 'flex' </script> <table border=\"1\" class=\"dataframe\">\n",
       "  <thead>\n",
       "    <tr style=\"text-align: right;\">\n",
       "      <th></th>\n",
       "      <th>STATUSTEXT</th>\n",
       "      <th>GPA</th>\n",
       "      <th>ENTRYGPA</th>\n",
       "      <th>FATHERINCOME</th>\n",
       "      <th>YEARFATHER</th>\n",
       "      <th>MOTHERINCOME</th>\n",
       "      <th>YEARMOTHER</th>\n",
       "      <th>NumberOfSon</th>\n",
       "      <th>NumberOfSiblings</th>\n",
       "      <th>COURSE_GRADE_BIOLOGY FOR PHYSICAL SCIENCE LABORATORY_F</th>\n",
       "      <th>...</th>\n",
       "      <th>COURSE_GRADE_ENGLISH FOR COMMUNICATION_F</th>\n",
       "      <th>COURSE_GRADE_ENGLISH I_F</th>\n",
       "      <th>COURSE_GRADE_GENERAL MATHEMATICS_F</th>\n",
       "      <th>COURSE_GRADE_GENERAL PHYSICS LABORATORY I_F</th>\n",
       "      <th>COURSE_GRADE_HAPPINESS OF LIFE_F</th>\n",
       "      <th>COURSE_GRADE_INTRODUCTION TO INFORMATION AND COMMUNICATION TECHNOLOGY_F</th>\n",
       "      <th>COURSE_GRADE_MULTICULTURALISM_F</th>\n",
       "      <th>COURSE_GRADE_OPERATIONS RESEARCH_F</th>\n",
       "      <th>COURSE_GRADE_STATISTICAL ANALYSIS I_F</th>\n",
       "      <th>COURSE_GRADE_STATISTICAL INFORMATION PROJECT II_F</th>\n",
       "    </tr>\n",
       "  </thead>\n",
       "  <tbody>\n",
       "    <tr>\n",
       "      <th>517</th>\n",
       "      <td>0</td>\n",
       "      <td>2.63</td>\n",
       "      <td>3.62</td>\n",
       "      <td>45000.0</td>\n",
       "      <td>52.0</td>\n",
       "      <td>14000.0</td>\n",
       "      <td>52.0</td>\n",
       "      <td>1.0</td>\n",
       "      <td>1</td>\n",
       "      <td>0.0</td>\n",
       "      <td>...</td>\n",
       "      <td>0.0</td>\n",
       "      <td>0.0</td>\n",
       "      <td>0.0</td>\n",
       "      <td>0.0</td>\n",
       "      <td>0.0</td>\n",
       "      <td>0.0</td>\n",
       "      <td>0.0</td>\n",
       "      <td>0.0</td>\n",
       "      <td>0.0</td>\n",
       "      <td>0.0</td>\n",
       "    </tr>\n",
       "    <tr>\n",
       "      <th>518</th>\n",
       "      <td>0</td>\n",
       "      <td>1.95</td>\n",
       "      <td>3.23</td>\n",
       "      <td>3000.0</td>\n",
       "      <td>55.0</td>\n",
       "      <td>9000.0</td>\n",
       "      <td>54.0</td>\n",
       "      <td>2.0</td>\n",
       "      <td>2</td>\n",
       "      <td>0.0</td>\n",
       "      <td>...</td>\n",
       "      <td>0.0</td>\n",
       "      <td>0.0</td>\n",
       "      <td>0.0</td>\n",
       "      <td>0.0</td>\n",
       "      <td>0.0</td>\n",
       "      <td>0.0</td>\n",
       "      <td>0.0</td>\n",
       "      <td>0.0</td>\n",
       "      <td>0.0</td>\n",
       "      <td>0.0</td>\n",
       "    </tr>\n",
       "    <tr>\n",
       "      <th>519</th>\n",
       "      <td>0</td>\n",
       "      <td>2.45</td>\n",
       "      <td>3.05</td>\n",
       "      <td>40000.0</td>\n",
       "      <td>51.0</td>\n",
       "      <td>40000.0</td>\n",
       "      <td>49.0</td>\n",
       "      <td>2.0</td>\n",
       "      <td>2</td>\n",
       "      <td>1.0</td>\n",
       "      <td>...</td>\n",
       "      <td>0.0</td>\n",
       "      <td>0.0</td>\n",
       "      <td>0.0</td>\n",
       "      <td>0.0</td>\n",
       "      <td>0.0</td>\n",
       "      <td>0.0</td>\n",
       "      <td>0.0</td>\n",
       "      <td>0.0</td>\n",
       "      <td>0.0</td>\n",
       "      <td>0.0</td>\n",
       "    </tr>\n",
       "    <tr>\n",
       "      <th>520</th>\n",
       "      <td>0</td>\n",
       "      <td>1.97</td>\n",
       "      <td>3.00</td>\n",
       "      <td>37210.0</td>\n",
       "      <td>46.0</td>\n",
       "      <td>22980.0</td>\n",
       "      <td>49.0</td>\n",
       "      <td>1.0</td>\n",
       "      <td>1</td>\n",
       "      <td>0.0</td>\n",
       "      <td>...</td>\n",
       "      <td>0.0</td>\n",
       "      <td>0.0</td>\n",
       "      <td>0.0</td>\n",
       "      <td>0.0</td>\n",
       "      <td>0.0</td>\n",
       "      <td>0.0</td>\n",
       "      <td>0.0</td>\n",
       "      <td>0.0</td>\n",
       "      <td>0.0</td>\n",
       "      <td>0.0</td>\n",
       "    </tr>\n",
       "    <tr>\n",
       "      <th>521</th>\n",
       "      <td>0</td>\n",
       "      <td>3.24</td>\n",
       "      <td>3.50</td>\n",
       "      <td>15000.0</td>\n",
       "      <td>43.0</td>\n",
       "      <td>15000.0</td>\n",
       "      <td>43.0</td>\n",
       "      <td>2.0</td>\n",
       "      <td>2</td>\n",
       "      <td>0.0</td>\n",
       "      <td>...</td>\n",
       "      <td>0.0</td>\n",
       "      <td>0.0</td>\n",
       "      <td>0.0</td>\n",
       "      <td>0.0</td>\n",
       "      <td>0.0</td>\n",
       "      <td>0.0</td>\n",
       "      <td>0.0</td>\n",
       "      <td>0.0</td>\n",
       "      <td>0.0</td>\n",
       "      <td>0.0</td>\n",
       "    </tr>\n",
       "  </tbody>\n",
       "</table></div>"
      ],
      "text/plain": [
       "     STATUSTEXT   GPA  ENTRYGPA  FATHERINCOME  YEARFATHER  MOTHERINCOME  \\\n",
       "517           0  2.63      3.62       45000.0        52.0       14000.0   \n",
       "518           0  1.95      3.23        3000.0        55.0        9000.0   \n",
       "519           0  2.45      3.05       40000.0        51.0       40000.0   \n",
       "520           0  1.97      3.00       37210.0        46.0       22980.0   \n",
       "521           0  3.24      3.50       15000.0        43.0       15000.0   \n",
       "\n",
       "     YEARMOTHER  NumberOfSon  NumberOfSiblings  \\\n",
       "517        52.0          1.0                 1   \n",
       "518        54.0          2.0                 2   \n",
       "519        49.0          2.0                 2   \n",
       "520        49.0          1.0                 1   \n",
       "521        43.0          2.0                 2   \n",
       "\n",
       "     COURSE_GRADE_BIOLOGY FOR PHYSICAL SCIENCE LABORATORY_F  ...  \\\n",
       "517                                                0.0       ...   \n",
       "518                                                0.0       ...   \n",
       "519                                                1.0       ...   \n",
       "520                                                0.0       ...   \n",
       "521                                                0.0       ...   \n",
       "\n",
       "     COURSE_GRADE_ENGLISH FOR COMMUNICATION_F  COURSE_GRADE_ENGLISH I_F  \\\n",
       "517                                       0.0                       0.0   \n",
       "518                                       0.0                       0.0   \n",
       "519                                       0.0                       0.0   \n",
       "520                                       0.0                       0.0   \n",
       "521                                       0.0                       0.0   \n",
       "\n",
       "     COURSE_GRADE_GENERAL MATHEMATICS_F  \\\n",
       "517                                 0.0   \n",
       "518                                 0.0   \n",
       "519                                 0.0   \n",
       "520                                 0.0   \n",
       "521                                 0.0   \n",
       "\n",
       "     COURSE_GRADE_GENERAL PHYSICS LABORATORY I_F  \\\n",
       "517                                          0.0   \n",
       "518                                          0.0   \n",
       "519                                          0.0   \n",
       "520                                          0.0   \n",
       "521                                          0.0   \n",
       "\n",
       "     COURSE_GRADE_HAPPINESS OF LIFE_F  \\\n",
       "517                               0.0   \n",
       "518                               0.0   \n",
       "519                               0.0   \n",
       "520                               0.0   \n",
       "521                               0.0   \n",
       "\n",
       "     COURSE_GRADE_INTRODUCTION TO INFORMATION AND COMMUNICATION TECHNOLOGY_F  \\\n",
       "517                                                0.0                         \n",
       "518                                                0.0                         \n",
       "519                                                0.0                         \n",
       "520                                                0.0                         \n",
       "521                                                0.0                         \n",
       "\n",
       "     COURSE_GRADE_MULTICULTURALISM_F  COURSE_GRADE_OPERATIONS RESEARCH_F  \\\n",
       "517                              0.0                                 0.0   \n",
       "518                              0.0                                 0.0   \n",
       "519                              0.0                                 0.0   \n",
       "520                              0.0                                 0.0   \n",
       "521                              0.0                                 0.0   \n",
       "\n",
       "     COURSE_GRADE_STATISTICAL ANALYSIS I_F  \\\n",
       "517                                    0.0   \n",
       "518                                    0.0   \n",
       "519                                    0.0   \n",
       "520                                    0.0   \n",
       "521                                    0.0   \n",
       "\n",
       "     COURSE_GRADE_STATISTICAL INFORMATION PROJECT II_F  \n",
       "517                                                0.0  \n",
       "518                                                0.0  \n",
       "519                                                0.0  \n",
       "520                                                0.0  \n",
       "521                                                0.0  \n",
       "\n",
       "[5 rows x 27 columns]"
      ]
     },
     "execution_count": 55,
     "metadata": {},
     "output_type": "execute_result"
    }
   ],
   "source": [
    "data_2564 = pd.read_csv('Data_2564_DropOut(ไม่ลงทะเบียน,ไม่ชำระ).csv', index_col=0)\n",
    "data_2564.rename(columns={\"บุตรคนที่\": \"NumberOfSon\", \"จำนวนพี่น้อง\": \"NumberOfSiblings\"}, inplace=True)\n",
    "data_2564.head()"
   ]
  },
  {
   "cell_type": "code",
   "execution_count": 56,
   "id": "1b6e24d3",
   "metadata": {},
   "outputs": [],
   "source": [
    "data_2564.drop('STATUSTEXT',1,inplace=True)"
   ]
  },
  {
   "cell_type": "code",
   "execution_count": 57,
   "id": "b4e13c2a",
   "metadata": {},
   "outputs": [
    {
     "data": {
      "text/plain": [
       "(99, 26)"
      ]
     },
     "execution_count": 57,
     "metadata": {},
     "output_type": "execute_result"
    }
   ],
   "source": [
    "data_2564.shape"
   ]
  },
  {
   "cell_type": "code",
   "execution_count": 58,
   "id": "76fe3743",
   "metadata": {},
   "outputs": [],
   "source": [
    "y_pred_acc = clf_1.predict(data_2564)\n",
    "#print('Best parameters' ,clf_1.best_params_)\n",
    "#print(confusion_matrix(y_test,y_pred_acc))\n",
    "#print(classification_report(y_test,y_pred_acc))\n",
    "#print('-----------------------------------------------------')"
   ]
  },
  {
   "cell_type": "code",
   "execution_count": 59,
   "id": "dac1054e",
   "metadata": {},
   "outputs": [
    {
     "data": {
      "text/plain": [
       "array([0, 0, 0, 0, 0, 0, 0, 0, 0, 0, 0, 0, 0, 0, 0, 0, 0, 0, 0, 0, 0, 0,\n",
       "       0, 0, 0, 0, 0, 0, 0, 0, 0, 0, 0, 0, 0, 0, 0, 0, 0, 0, 0, 0, 0, 0,\n",
       "       0, 0, 0, 0, 0, 0, 0, 0, 0, 0, 0, 0, 0, 0, 0, 0, 0, 0, 0, 0, 0, 0,\n",
       "       1, 0, 0, 0, 0, 0, 0, 0, 0, 0, 0, 0, 0, 0, 0, 0, 0, 0, 0, 0, 0, 0,\n",
       "       0, 0, 0, 0, 0, 0, 0, 0, 0, 0, 0], dtype=int64)"
      ]
     },
     "execution_count": 59,
     "metadata": {},
     "output_type": "execute_result"
    }
   ],
   "source": [
    "y_pred_acc"
   ]
  },
  {
   "cell_type": "code",
   "execution_count": 51,
   "id": "d38cbec2",
   "metadata": {},
   "outputs": [],
   "source": [
    "y_pred_case2 = pd.DataFrame(y_pred_acc)\n",
    "y_pred_case2.to_csv(r'y_pred_case2.csv', encoding='utf-8-sig')"
   ]
  },
  {
   "cell_type": "code",
   "execution_count": null,
   "id": "73a5fe83",
   "metadata": {},
   "outputs": [],
   "source": []
  },
  {
   "cell_type": "code",
   "execution_count": null,
   "id": "6c74b274",
   "metadata": {},
   "outputs": [],
   "source": []
  },
  {
   "cell_type": "code",
   "execution_count": null,
   "id": "bf14170e",
   "metadata": {},
   "outputs": [],
   "source": []
  },
  {
   "cell_type": "code",
   "execution_count": null,
   "id": "05892605",
   "metadata": {},
   "outputs": [],
   "source": []
  },
  {
   "cell_type": "code",
   "execution_count": null,
   "id": "22941f38",
   "metadata": {},
   "outputs": [],
   "source": []
  },
  {
   "cell_type": "code",
   "execution_count": null,
   "id": "2206617e",
   "metadata": {},
   "outputs": [],
   "source": []
  }
 ],
 "metadata": {
  "kernelspec": {
   "display_name": "pycaret",
   "language": "python",
   "name": "pycaret"
  },
  "language_info": {
   "codemirror_mode": {
    "name": "ipython",
    "version": 3
   },
   "file_extension": ".py",
   "mimetype": "text/x-python",
   "name": "python",
   "nbconvert_exporter": "python",
   "pygments_lexer": "ipython3",
   "version": "3.7.12"
  }
 },
 "nbformat": 4,
 "nbformat_minor": 5
}
