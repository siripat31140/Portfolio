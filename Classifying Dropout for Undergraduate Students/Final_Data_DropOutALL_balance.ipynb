{
 "cells": [
  {
   "cell_type": "code",
   "execution_count": 172,
   "id": "98a2540a",
   "metadata": {},
   "outputs": [],
   "source": [
    "import pandas as pd \n",
    "from sklearn.feature_selection import SelectKBest, chi2\n",
    "import numpy as np\n",
    "from imblearn.over_sampling import RandomOverSampler\n",
    "from collections import Counter\n",
    "from sklearn.preprocessing import MinMaxScaler\n",
    "import matplotlib.pyplot as plt\n",
    "plt.style.use('fivethirtyeight')\n",
    "\n",
    "\n",
    "import warnings\n",
    "warnings.filterwarnings(\"ignore\")\n",
    "from sklearn.metrics import confusion_matrix\n",
    "\n",
    "from sklearn.datasets import make_classification\n",
    "from sklearn.model_selection import train_test_split\n",
    "from sklearn.model_selection import GridSearchCV , RandomizedSearchCV\n",
    "from sklearn.model_selection import RepeatedStratifiedKFold\n",
    "from sklearn.metrics import classification_report \n",
    "from sklearn.model_selection import KFold\n",
    "\n",
    "\n",
    "# single model\n",
    "from sklearn.ensemble import RandomForestClassifier\n",
    "from sklearn.tree import DecisionTreeClassifier\n",
    "from sklearn.svm import SVC\n",
    "\n",
    "#Ensemble Learning\n",
    "from sklearn.ensemble import VotingClassifier\n",
    "from sklearn.ensemble import BaggingClassifier\n",
    "from sklearn.ensemble import AdaBoostClassifier\n",
    "from sklearn.metrics import roc_curve, roc_auc_score\n",
    "\n",
    "\n"
   ]
  },
  {
   "cell_type": "markdown",
   "id": "a5e2454f",
   "metadata": {},
   "source": [
    "# feature selection"
   ]
  },
  {
   "cell_type": "code",
   "execution_count": 173,
   "id": "b6f57593",
   "metadata": {},
   "outputs": [
    {
     "data": {
      "text/html": [
       "<div><div id=f3815c2f-980e-4b32-8098-52f2fa9d1164 style=\"display:none; background-color:#9D6CFF; color:white; width:200px; height:30px; padding-left:5px; border-radius:4px; flex-direction:row; justify-content:space-around; align-items:center;\" onmouseover=\"this.style.backgroundColor='#BA9BF8'\" onmouseout=\"this.style.backgroundColor='#9D6CFF'\" onclick=\"window.commands?.execute('create-mitosheet-from-dataframe-output');\">See Full Dataframe in Mito</div> <script> if (window.commands.hasCommand('create-mitosheet-from-dataframe-output')) document.getElementById('f3815c2f-980e-4b32-8098-52f2fa9d1164').style.display = 'flex' </script> <table border=\"1\" class=\"dataframe\">\n",
       "  <thead>\n",
       "    <tr style=\"text-align: right;\">\n",
       "      <th></th>\n",
       "      <th>STATUSTEXT</th>\n",
       "      <th>GPA</th>\n",
       "      <th>ENTRYGPA</th>\n",
       "      <th>STUDENTSEX</th>\n",
       "      <th>FATHERINCOME</th>\n",
       "      <th>YEARFATHER</th>\n",
       "      <th>MOTHERINCOME</th>\n",
       "      <th>YEARMOTHER</th>\n",
       "      <th>บุตรคนที่</th>\n",
       "      <th>จำนวนพี่น้อง</th>\n",
       "      <th>...</th>\n",
       "      <th>COURSE_GRADE_HAPPINESS OF LIFE_F</th>\n",
       "      <th>COURSE_GRADE_INFORMATION LITERACY SKILLS_F</th>\n",
       "      <th>COURSE_GRADE_INTRODUCTION TO INFORMATION AND COMMUNICATION TECHNOLOGY_F</th>\n",
       "      <th>COURSE_GRADE_LEARNING SKILLS_F</th>\n",
       "      <th>COURSE_GRADE_LOCAL WISDOM_F</th>\n",
       "      <th>COURSE_GRADE_MEDITATION FOR LIFE DEVELOPMENT_F</th>\n",
       "      <th>COURSE_GRADE_MULTICULTURALISM_F</th>\n",
       "      <th>COURSE_GRADE_OPERATIONS RESEARCH_F</th>\n",
       "      <th>COURSE_GRADE_STATISTICAL ANALYSIS I_F</th>\n",
       "      <th>COURSE_GRADE_STATISTICAL MODEL_F</th>\n",
       "    </tr>\n",
       "  </thead>\n",
       "  <tbody>\n",
       "    <tr>\n",
       "      <th>0</th>\n",
       "      <td>1</td>\n",
       "      <td>1.21</td>\n",
       "      <td>3.26</td>\n",
       "      <td>0</td>\n",
       "      <td>100000.0</td>\n",
       "      <td>44.0</td>\n",
       "      <td>100000.0</td>\n",
       "      <td>45.0</td>\n",
       "      <td>1.0</td>\n",
       "      <td>4</td>\n",
       "      <td>...</td>\n",
       "      <td>0.0</td>\n",
       "      <td>0.0</td>\n",
       "      <td>0.0</td>\n",
       "      <td>0.0</td>\n",
       "      <td>0.0</td>\n",
       "      <td>0.0</td>\n",
       "      <td>0.0</td>\n",
       "      <td>0.0</td>\n",
       "      <td>1.0</td>\n",
       "      <td>0.0</td>\n",
       "    </tr>\n",
       "    <tr>\n",
       "      <th>1</th>\n",
       "      <td>1</td>\n",
       "      <td>2.74</td>\n",
       "      <td>3.65</td>\n",
       "      <td>0</td>\n",
       "      <td>20000.0</td>\n",
       "      <td>59.0</td>\n",
       "      <td>15000.0</td>\n",
       "      <td>54.0</td>\n",
       "      <td>1.0</td>\n",
       "      <td>2</td>\n",
       "      <td>...</td>\n",
       "      <td>0.0</td>\n",
       "      <td>0.0</td>\n",
       "      <td>0.0</td>\n",
       "      <td>0.0</td>\n",
       "      <td>0.0</td>\n",
       "      <td>0.0</td>\n",
       "      <td>0.0</td>\n",
       "      <td>0.0</td>\n",
       "      <td>0.0</td>\n",
       "      <td>0.0</td>\n",
       "    </tr>\n",
       "    <tr>\n",
       "      <th>2</th>\n",
       "      <td>0</td>\n",
       "      <td>2.60</td>\n",
       "      <td>3.38</td>\n",
       "      <td>0</td>\n",
       "      <td>10000.0</td>\n",
       "      <td>43.0</td>\n",
       "      <td>9000.0</td>\n",
       "      <td>37.0</td>\n",
       "      <td>1.0</td>\n",
       "      <td>2</td>\n",
       "      <td>...</td>\n",
       "      <td>0.0</td>\n",
       "      <td>0.0</td>\n",
       "      <td>0.0</td>\n",
       "      <td>0.0</td>\n",
       "      <td>0.0</td>\n",
       "      <td>0.0</td>\n",
       "      <td>0.0</td>\n",
       "      <td>0.0</td>\n",
       "      <td>0.0</td>\n",
       "      <td>0.0</td>\n",
       "    </tr>\n",
       "    <tr>\n",
       "      <th>3</th>\n",
       "      <td>0</td>\n",
       "      <td>2.44</td>\n",
       "      <td>3.82</td>\n",
       "      <td>0</td>\n",
       "      <td>30000.0</td>\n",
       "      <td>49.0</td>\n",
       "      <td>30000.0</td>\n",
       "      <td>48.0</td>\n",
       "      <td>3.0</td>\n",
       "      <td>3</td>\n",
       "      <td>...</td>\n",
       "      <td>0.0</td>\n",
       "      <td>0.0</td>\n",
       "      <td>0.0</td>\n",
       "      <td>0.0</td>\n",
       "      <td>0.0</td>\n",
       "      <td>0.0</td>\n",
       "      <td>0.0</td>\n",
       "      <td>0.0</td>\n",
       "      <td>0.0</td>\n",
       "      <td>0.0</td>\n",
       "    </tr>\n",
       "    <tr>\n",
       "      <th>4</th>\n",
       "      <td>0</td>\n",
       "      <td>2.29</td>\n",
       "      <td>3.16</td>\n",
       "      <td>0</td>\n",
       "      <td>53080.0</td>\n",
       "      <td>59.0</td>\n",
       "      <td>47660.0</td>\n",
       "      <td>54.0</td>\n",
       "      <td>3.0</td>\n",
       "      <td>3</td>\n",
       "      <td>...</td>\n",
       "      <td>0.0</td>\n",
       "      <td>0.0</td>\n",
       "      <td>0.0</td>\n",
       "      <td>0.0</td>\n",
       "      <td>0.0</td>\n",
       "      <td>0.0</td>\n",
       "      <td>0.0</td>\n",
       "      <td>0.0</td>\n",
       "      <td>0.0</td>\n",
       "      <td>0.0</td>\n",
       "    </tr>\n",
       "  </tbody>\n",
       "</table></div>"
      ],
      "text/plain": [
       "   STATUSTEXT   GPA  ENTRYGPA  STUDENTSEX  FATHERINCOME  YEARFATHER  \\\n",
       "0           1  1.21      3.26           0      100000.0        44.0   \n",
       "1           1  2.74      3.65           0       20000.0        59.0   \n",
       "2           0  2.60      3.38           0       10000.0        43.0   \n",
       "3           0  2.44      3.82           0       30000.0        49.0   \n",
       "4           0  2.29      3.16           0       53080.0        59.0   \n",
       "\n",
       "   MOTHERINCOME  YEARMOTHER  บุตรคนที่  จำนวนพี่น้อง  ...  \\\n",
       "0      100000.0        45.0        1.0             4  ...   \n",
       "1       15000.0        54.0        1.0             2  ...   \n",
       "2        9000.0        37.0        1.0             2  ...   \n",
       "3       30000.0        48.0        3.0             3  ...   \n",
       "4       47660.0        54.0        3.0             3  ...   \n",
       "\n",
       "   COURSE_GRADE_HAPPINESS OF LIFE_F  \\\n",
       "0                               0.0   \n",
       "1                               0.0   \n",
       "2                               0.0   \n",
       "3                               0.0   \n",
       "4                               0.0   \n",
       "\n",
       "   COURSE_GRADE_INFORMATION LITERACY SKILLS_F  \\\n",
       "0                                         0.0   \n",
       "1                                         0.0   \n",
       "2                                         0.0   \n",
       "3                                         0.0   \n",
       "4                                         0.0   \n",
       "\n",
       "   COURSE_GRADE_INTRODUCTION TO INFORMATION AND COMMUNICATION TECHNOLOGY_F  \\\n",
       "0                                                0.0                         \n",
       "1                                                0.0                         \n",
       "2                                                0.0                         \n",
       "3                                                0.0                         \n",
       "4                                                0.0                         \n",
       "\n",
       "   COURSE_GRADE_LEARNING SKILLS_F  COURSE_GRADE_LOCAL WISDOM_F  \\\n",
       "0                             0.0                          0.0   \n",
       "1                             0.0                          0.0   \n",
       "2                             0.0                          0.0   \n",
       "3                             0.0                          0.0   \n",
       "4                             0.0                          0.0   \n",
       "\n",
       "   COURSE_GRADE_MEDITATION FOR LIFE DEVELOPMENT_F  \\\n",
       "0                                             0.0   \n",
       "1                                             0.0   \n",
       "2                                             0.0   \n",
       "3                                             0.0   \n",
       "4                                             0.0   \n",
       "\n",
       "   COURSE_GRADE_MULTICULTURALISM_F  COURSE_GRADE_OPERATIONS RESEARCH_F  \\\n",
       "0                              0.0                                 0.0   \n",
       "1                              0.0                                 0.0   \n",
       "2                              0.0                                 0.0   \n",
       "3                              0.0                                 0.0   \n",
       "4                              0.0                                 0.0   \n",
       "\n",
       "   COURSE_GRADE_STATISTICAL ANALYSIS I_F  COURSE_GRADE_STATISTICAL MODEL_F  \n",
       "0                                    1.0                               0.0  \n",
       "1                                    0.0                               0.0  \n",
       "2                                    0.0                               0.0  \n",
       "3                                    0.0                               0.0  \n",
       "4                                    0.0                               0.0  \n",
       "\n",
       "[5 rows x 39 columns]"
      ]
     },
     "execution_count": 173,
     "metadata": {},
     "output_type": "execute_result"
    }
   ],
   "source": [
    "data = pd.read_csv('Data_DropOutALL.csv', index_col=0)\n",
    "data.head()"
   ]
  },
  {
   "cell_type": "code",
   "execution_count": 174,
   "id": "b0420629",
   "metadata": {},
   "outputs": [],
   "source": [
    "data.dropna(inplace=True)"
   ]
  },
  {
   "cell_type": "code",
   "execution_count": 175,
   "id": "f6664d3e",
   "metadata": {},
   "outputs": [
    {
     "data": {
      "text/plain": [
       "(586, 39)"
      ]
     },
     "execution_count": 175,
     "metadata": {},
     "output_type": "execute_result"
    }
   ],
   "source": [
    "data.shape"
   ]
  },
  {
   "cell_type": "code",
   "execution_count": 176,
   "id": "bed510c8",
   "metadata": {},
   "outputs": [],
   "source": [
    "data.rename(columns={\"บุตรคนที่\": \"NumberOfSon\", \"จำนวนพี่น้อง\": \"NumberOfSiblings\"}, inplace=True)"
   ]
  },
  {
   "cell_type": "code",
   "execution_count": 177,
   "id": "899e800d",
   "metadata": {},
   "outputs": [
    {
     "name": "stdout",
     "output_type": "stream",
     "text": [
      "<class 'pandas.core.frame.DataFrame'>\n",
      "Int64Index: 586 entries, 0 to 603\n",
      "Data columns (total 39 columns):\n",
      " #   Column                                                                   Non-Null Count  Dtype  \n",
      "---  ------                                                                   --------------  -----  \n",
      " 0   STATUSTEXT                                                               586 non-null    int64  \n",
      " 1   GPA                                                                      586 non-null    float64\n",
      " 2   ENTRYGPA                                                                 586 non-null    float64\n",
      " 3   STUDENTSEX                                                               586 non-null    int64  \n",
      " 4   FATHERINCOME                                                             586 non-null    float64\n",
      " 5   YEARFATHER                                                               586 non-null    float64\n",
      " 6   MOTHERINCOME                                                             586 non-null    float64\n",
      " 7   YEARMOTHER                                                               586 non-null    float64\n",
      " 8   NumberOfSon                                                              586 non-null    float64\n",
      " 9   NumberOfSiblings                                                         586 non-null    int64  \n",
      " 10  COURSE_GRADE_BASICS OF STAGE ACTING_F                                    586 non-null    float64\n",
      " 11  COURSE_GRADE_BIOLOGY FOR PHYSICAL SCIENCE LABORATORY_F                   586 non-null    float64\n",
      " 12  COURSE_GRADE_BIOLOGY FOR PHYSICAL SCIENCE_F                              586 non-null    float64\n",
      " 13  COURSE_GRADE_CALCULUS  FOR PHYSICAL SCIENCE II_F                         586 non-null    float64\n",
      " 14  COURSE_GRADE_CALCULUS FOR PHYSICAL SCIENCE I_F                           586 non-null    float64\n",
      " 15  COURSE_GRADE_CALCULUS_F                                                  586 non-null    float64\n",
      " 16  COURSE_GRADE_COMPUTER PROGRAMMING I_F                                    586 non-null    float64\n",
      " 17  COURSE_GRADE_ELEMENTARY PHYSICS_F                                        586 non-null    float64\n",
      " 18  COURSE_GRADE_ELEMENTARY TO BUSINESS AND ENTREPRENEURSHIP_F               586 non-null    float64\n",
      " 19  COURSE_GRADE_ENERGY AND ENVIRONMENT_F                                    586 non-null    float64\n",
      " 20  COURSE_GRADE_ENGLISH FOR ACADEMIC PURPOSE I (EAP I)_F                    586 non-null    float64\n",
      " 21  COURSE_GRADE_ENGLISH FOR ACADEMIC PURPOSES I_F                           586 non-null    float64\n",
      " 22  COURSE_GRADE_ENGLISH FOR COMMUNICATION_F                                 586 non-null    float64\n",
      " 23  COURSE_GRADE_ENGLISH II_F                                                586 non-null    float64\n",
      " 24  COURSE_GRADE_ENGLISH I_F                                                 586 non-null    float64\n",
      " 25  COURSE_GRADE_FUNDAMENTAL CHEMISTRY_F                                     586 non-null    float64\n",
      " 26  COURSE_GRADE_GENERAL CHEMISTRY LABORATORY_F                              586 non-null    float64\n",
      " 27  COURSE_GRADE_GENERAL MATHEMATICS_F                                       586 non-null    float64\n",
      " 28  COURSE_GRADE_GENERAL PHYSICS LABORATORY I_F                              586 non-null    float64\n",
      " 29  COURSE_GRADE_HAPPINESS OF LIFE_F                                         586 non-null    float64\n",
      " 30  COURSE_GRADE_INFORMATION LITERACY SKILLS_F                               586 non-null    float64\n",
      " 31  COURSE_GRADE_INTRODUCTION TO INFORMATION AND COMMUNICATION TECHNOLOGY_F  586 non-null    float64\n",
      " 32  COURSE_GRADE_LEARNING SKILLS_F                                           586 non-null    float64\n",
      " 33  COURSE_GRADE_LOCAL WISDOM_F                                              586 non-null    float64\n",
      " 34  COURSE_GRADE_MEDITATION FOR LIFE DEVELOPMENT_F                           586 non-null    float64\n",
      " 35  COURSE_GRADE_MULTICULTURALISM_F                                          586 non-null    float64\n",
      " 36  COURSE_GRADE_OPERATIONS RESEARCH_F                                       586 non-null    float64\n",
      " 37  COURSE_GRADE_STATISTICAL ANALYSIS I_F                                    586 non-null    float64\n",
      " 38  COURSE_GRADE_STATISTICAL MODEL_F                                         586 non-null    float64\n",
      "dtypes: float64(36), int64(3)\n",
      "memory usage: 183.1 KB\n"
     ]
    }
   ],
   "source": [
    "data.info()"
   ]
  },
  {
   "cell_type": "code",
   "execution_count": 178,
   "id": "54363b9f",
   "metadata": {},
   "outputs": [],
   "source": [
    "X = data.drop('STATUSTEXT' , axis = 1)\n",
    "y = data['STATUSTEXT']"
   ]
  },
  {
   "cell_type": "markdown",
   "id": "6a523690",
   "metadata": {},
   "source": [
    "# oversampling"
   ]
  },
  {
   "cell_type": "code",
   "execution_count": 179,
   "id": "580f8f9e",
   "metadata": {},
   "outputs": [
    {
     "name": "stdout",
     "output_type": "stream",
     "text": [
      "Counter({0: 469, 1: 117})\n"
     ]
    }
   ],
   "source": [
    "print(Counter(y))"
   ]
  },
  {
   "cell_type": "code",
   "execution_count": 180,
   "id": "17bb2cdb",
   "metadata": {},
   "outputs": [],
   "source": [
    "oversample = RandomOverSampler(sampling_strategy='minority')"
   ]
  },
  {
   "cell_type": "code",
   "execution_count": 181,
   "id": "10d0bd70",
   "metadata": {},
   "outputs": [],
   "source": [
    "X_over, y_over = oversample.fit_resample(X, y)"
   ]
  },
  {
   "cell_type": "code",
   "execution_count": 182,
   "id": "1460074b",
   "metadata": {},
   "outputs": [
    {
     "name": "stdout",
     "output_type": "stream",
     "text": [
      "Counter({1: 469, 0: 469})\n"
     ]
    }
   ],
   "source": [
    "print(Counter(y_over))"
   ]
  },
  {
   "cell_type": "markdown",
   "id": "5e6c834c",
   "metadata": {},
   "source": [
    "# scaling"
   ]
  },
  {
   "cell_type": "code",
   "execution_count": 183,
   "id": "9c092a56",
   "metadata": {},
   "outputs": [],
   "source": [
    "scaler = MinMaxScaler()"
   ]
  },
  {
   "cell_type": "code",
   "execution_count": 184,
   "id": "0257263e",
   "metadata": {},
   "outputs": [],
   "source": [
    "#X[np.array(X.columns)] = scaler.fit_transform(X)\n",
    "#X_train, X_test, y_train, y_test = train_test_split(X, y, test_size=0.20, stratify=y , random_state = 123)\n"
   ]
  },
  {
   "cell_type": "code",
   "execution_count": 185,
   "id": "ed4ec717",
   "metadata": {},
   "outputs": [],
   "source": [
    "X_over[np.array(X_over.columns)] = scaler.fit_transform(X_over)"
   ]
  },
  {
   "cell_type": "markdown",
   "id": "1f9adada",
   "metadata": {},
   "source": [
    "# train test"
   ]
  },
  {
   "cell_type": "code",
   "execution_count": 186,
   "id": "ee954721",
   "metadata": {},
   "outputs": [],
   "source": [
    "X_train, X_test, y_train, y_test = train_test_split(X_over, y_over, test_size=0.20, stratify=y_over , random_state = 123)\n"
   ]
  },
  {
   "cell_type": "markdown",
   "id": "4913158c",
   "metadata": {},
   "source": [
    "# single model"
   ]
  },
  {
   "cell_type": "code",
   "execution_count": 187,
   "id": "d9b4f244",
   "metadata": {},
   "outputs": [
    {
     "data": {
      "text/plain": [
       "[2, 5, 6, 7, 8, 9, 10, 18, 21, 21, 24, 24, 24, 28, 30, 35, 36, 37, 38, 38]"
      ]
     },
     "execution_count": 187,
     "metadata": {},
     "output_type": "execute_result"
    }
   ],
   "source": [
    "sorted(np.random.randint(1, len(data.columns),20))"
   ]
  },
  {
   "cell_type": "code",
   "execution_count": 188,
   "id": "f6f56350",
   "metadata": {},
   "outputs": [],
   "source": [
    "rt = RandomForestClassifier(random_state=123)\n",
    "dt = DecisionTreeClassifier(random_state=123)\n",
    "svm = SVC(probability=True,random_state=123)"
   ]
  },
  {
   "cell_type": "code",
   "execution_count": 189,
   "id": "4472d7b8",
   "metadata": {},
   "outputs": [],
   "source": [
    "# turning model\n",
    "# parameter model \n",
    "\n",
    "param_grid_svm = {'C': [0.1,1, 10, 100], 'gamma': [1,0.1,0.01,0.001],'kernel': ['rbf', 'poly', 'sigmoid']}\n",
    "\n",
    "\n",
    "\n",
    "param_grid_rt = {'max_depth': [3, 5, 10, 20, 30],\n",
    "                 'criterion' :['gini', 'entropy'],\n",
    "                 'max_features': ['auto', 'sqrt', 'log2'],\n",
    "                 'min_samples_split': [2, 5, 10]}\n",
    "\n",
    "\n",
    "\n",
    "param_grid_dt = {\"max_depth\": np.random.randint(1, (len(data.columns)*.85),20),\n",
    "          \"max_features\": np.random.randint(1, len(data.columns),20),\n",
    "          \"min_samples_leaf\": [2,3,4,5,6],\n",
    "          \"criterion\": [\"gini\", \"entropy\"]\n",
    "          }\n",
    "\n",
    "# K-fold\n",
    "cv = KFold(n_splits=5, shuffle=True, random_state=1)\n",
    "\n",
    "# optimize paremeter\n",
    "clf_1 = GridSearchCV(rt,param_grid_rt, cv=cv , refit=True )\n",
    "clf_2 = GridSearchCV(dt,param_grid_dt , cv=cv , refit=True)\n",
    "clf_3 = GridSearchCV(svm,param_grid_svm , cv=cv , refit=True)"
   ]
  },
  {
   "cell_type": "markdown",
   "id": "26f491fc",
   "metadata": {},
   "source": [
    "## DecisionTreeClassifier"
   ]
  },
  {
   "cell_type": "code",
   "execution_count": 190,
   "id": "4ae74301",
   "metadata": {},
   "outputs": [
    {
     "name": "stdout",
     "output_type": "stream",
     "text": [
      "Best parameters {'criterion': 'entropy', 'max_depth': 12, 'max_features': 34, 'min_samples_leaf': 3}\n",
      "[[86  8]\n",
      " [ 5 89]]\n",
      "              precision    recall  f1-score   support\n",
      "\n",
      "           0       0.95      0.91      0.93        94\n",
      "           1       0.92      0.95      0.93        94\n",
      "\n",
      "    accuracy                           0.93       188\n",
      "   macro avg       0.93      0.93      0.93       188\n",
      "weighted avg       0.93      0.93      0.93       188\n",
      "\n",
      "-----------------------------------------------------\n"
     ]
    }
   ],
   "source": [
    "clf_2.fit(X_train , y_train)\n",
    "y_pred_acc = clf_2.predict(X_test)\n",
    "print('Best parameters' ,clf_2.best_params_)\n",
    "print(confusion_matrix(y_test,y_pred_acc))\n",
    "print(classification_report(y_test,y_pred_acc))\n",
    "print('-----------------------------------------------------')"
   ]
  },
  {
   "cell_type": "code",
   "execution_count": 191,
   "id": "fb41ea4f",
   "metadata": {},
   "outputs": [
    {
     "data": {
      "text/plain": [
       "0.9647464916251698"
      ]
     },
     "execution_count": 191,
     "metadata": {},
     "output_type": "execute_result"
    }
   ],
   "source": [
    "pred_prob2 = clf_2.predict_proba(X_test)\n",
    "fpr2, tpr2, thresh2 = roc_curve(y_test, pred_prob2[:,1], pos_label=1)\n",
    "auc_clf_2 = roc_auc_score(y_test, pred_prob2[:,1])\n",
    "auc_clf_2"
   ]
  },
  {
   "cell_type": "markdown",
   "id": "cd7d4249",
   "metadata": {},
   "source": [
    "## SVM"
   ]
  },
  {
   "cell_type": "code",
   "execution_count": 192,
   "id": "05537df5",
   "metadata": {},
   "outputs": [
    {
     "name": "stdout",
     "output_type": "stream",
     "text": [
      "Best parameters {'C': 10, 'gamma': 0.1, 'kernel': 'rbf'}\n",
      "[[89  5]\n",
      " [11 83]]\n",
      "              precision    recall  f1-score   support\n",
      "\n",
      "           0       0.89      0.95      0.92        94\n",
      "           1       0.94      0.88      0.91        94\n",
      "\n",
      "    accuracy                           0.91       188\n",
      "   macro avg       0.92      0.91      0.91       188\n",
      "weighted avg       0.92      0.91      0.91       188\n",
      "\n",
      "-----------------------------------------------------\n"
     ]
    }
   ],
   "source": [
    "clf_3.fit(X_train , y_train)\n",
    "y_pred_acc = clf_3.predict(X_test)\n",
    "print('Best parameters' ,clf_3.best_params_)\n",
    "print(confusion_matrix(y_test,y_pred_acc))\n",
    "print(classification_report(y_test,y_pred_acc))\n",
    "print('-----------------------------------------------------')"
   ]
  },
  {
   "cell_type": "code",
   "execution_count": 193,
   "id": "0f22600b",
   "metadata": {},
   "outputs": [
    {
     "data": {
      "text/plain": [
       "0.9426210955183341"
      ]
     },
     "execution_count": 193,
     "metadata": {},
     "output_type": "execute_result"
    }
   ],
   "source": [
    "pred_prob3 = clf_3.predict_proba(X_test )\n",
    "fpr3, tpr3, thresh3 = roc_curve(y_test, pred_prob3[:,1], pos_label=1)\n",
    "auc_clf_3 = roc_auc_score(y_test, pred_prob3[:,1])\n",
    "auc_clf_3"
   ]
  },
  {
   "cell_type": "markdown",
   "id": "630d86a8",
   "metadata": {},
   "source": [
    "## ROC single model"
   ]
  },
  {
   "cell_type": "code",
   "execution_count": 194,
   "id": "262a0443",
   "metadata": {},
   "outputs": [
    {
     "data": {
      "image/png": "[encoded data removed]",
      "text/plain": [
       "<Figure size 576x396 with 1 Axes>"
      ]
     },
     "metadata": {},
     "output_type": "display_data"
    }
   ],
   "source": [
    "# roc curve for tpr = fpr \n",
    "random_probs = [0 for i in range(len(y_test))]\n",
    "p_fpr, p_tpr, _ = roc_curve(y_test, random_probs, pos_label=1)\n",
    "\n",
    "plt.style.use('seaborn')\n",
    "\n",
    "# plot roc curves\n",
    "#plt.plot(fpr1, tpr1, linestyle='--',color='black', label='RT (AUC = %0.2f)' % auc_clf_1)\n",
    "#plt.plot(fpr2, tpr2, linestyle='--',color='green', label='DT (AUC = %0.2f)' % auc_clf_2)\n",
    "plt.plot(fpr3, tpr3, linestyle='--',color='black', label='SVM (AUC = %0.2f)' % auc_clf_3)\n",
    "plt.plot(p_fpr, p_tpr, linestyle='--', color='blue')\n",
    "# title\n",
    "plt.title('ROC curve')\n",
    "# x label\n",
    "plt.xlabel('False Positive Rate')\n",
    "# y label\n",
    "plt.ylabel('True Positive rate')\n",
    "\n",
    "plt.legend(loc='best')\n",
    "plt.savefig('ROC',dpi=300)\n",
    "plt.show();"
   ]
  },
  {
   "cell_type": "markdown",
   "id": "97200c6f",
   "metadata": {},
   "source": [
    "# Ensemble Model"
   ]
  },
  {
   "cell_type": "markdown",
   "id": "e2519ea2",
   "metadata": {},
   "source": [
    "## Bagging"
   ]
  },
  {
   "cell_type": "markdown",
   "id": "590ad163",
   "metadata": {},
   "source": [
    "### Bagging (DT base model)"
   ]
  },
  {
   "cell_type": "code",
   "execution_count": 195,
   "id": "12958494",
   "metadata": {},
   "outputs": [],
   "source": [
    "n_estimators = [10, 100, 1000]\n",
    "grid = dict(n_estimators=n_estimators)"
   ]
  },
  {
   "cell_type": "code",
   "execution_count": 196,
   "id": "0fc9d541",
   "metadata": {},
   "outputs": [
    {
     "name": "stdout",
     "output_type": "stream",
     "text": [
      "[[90  4]\n",
      " [ 0 94]]\n",
      "              precision    recall  f1-score   support\n",
      "\n",
      "           0       1.00      0.96      0.98        94\n",
      "           1       0.96      1.00      0.98        94\n",
      "\n",
      "    accuracy                           0.98       188\n",
      "   macro avg       0.98      0.98      0.98       188\n",
      "weighted avg       0.98      0.98      0.98       188\n",
      "\n",
      "-----------------------------------------------------\n"
     ]
    }
   ],
   "source": [
    "clf_bagging1 = BaggingClassifier(base_estimator=clf_2.best_estimator_, n_estimators=10, oob_score=True ,random_state=123)\n",
    "clf_bagging1.fit(X_train, y_train)\n",
    "y_pred_acc = clf_bagging1.predict(X_test)\n",
    "print(confusion_matrix(y_test,y_pred_acc))\n",
    "print(classification_report(y_test,y_pred_acc))\n",
    "print('-----------------------------------------------------')"
   ]
  },
  {
   "cell_type": "code",
   "execution_count": 197,
   "id": "6f736041",
   "metadata": {},
   "outputs": [
    {
     "data": {
      "text/plain": [
       "0.9900407424173834"
      ]
     },
     "execution_count": 197,
     "metadata": {},
     "output_type": "execute_result"
    }
   ],
   "source": [
    "pred_prob4 = clf_bagging1.predict_proba(X_test)\n",
    "fpr4, tpr4, thresh4 = roc_curve(y_test, pred_prob4[:,1], pos_label=1)\n",
    "auc_clf_bagging1 = roc_auc_score(y_test, pred_prob4[:,1])\n",
    "auc_clf_bagging1"
   ]
  },
  {
   "cell_type": "markdown",
   "id": "2d5e9d62",
   "metadata": {},
   "source": [
    "### Bagging (SVM base model)"
   ]
  },
  {
   "cell_type": "code",
   "execution_count": 198,
   "id": "a2e4be53",
   "metadata": {},
   "outputs": [
    {
     "name": "stdout",
     "output_type": "stream",
     "text": [
      "[[84 10]\n",
      " [11 83]]\n",
      "              precision    recall  f1-score   support\n",
      "\n",
      "           0       0.88      0.89      0.89        94\n",
      "           1       0.89      0.88      0.89        94\n",
      "\n",
      "    accuracy                           0.89       188\n",
      "   macro avg       0.89      0.89      0.89       188\n",
      "weighted avg       0.89      0.89      0.89       188\n",
      "\n",
      "-----------------------------------------------------\n"
     ]
    }
   ],
   "source": [
    "clf_bagging2 = BaggingClassifier(base_estimator=clf_3.best_estimator_, n_estimators=10, oob_score=True,random_state=123)\n",
    "clf_bagging2.fit(X_train, y_train)\n",
    "y_pred_acc = clf_bagging2.predict(X_test)\n",
    "\n",
    "print(confusion_matrix(y_test,y_pred_acc))\n",
    "print(classification_report(y_test,y_pred_acc))\n",
    "print('-----------------------------------------------------')"
   ]
  },
  {
   "cell_type": "code",
   "execution_count": 199,
   "id": "af85b0aa",
   "metadata": {},
   "outputs": [
    {
     "data": {
      "text/plain": [
       "0.9438660027161611"
      ]
     },
     "execution_count": 199,
     "metadata": {},
     "output_type": "execute_result"
    }
   ],
   "source": [
    "pred_prob5 = clf_bagging2.predict_proba(X_test)\n",
    "fpr5, tpr5, thresh5 = roc_curve(y_test, pred_prob5[:,1], pos_label=1)\n",
    "auc_clf_bagging2 = roc_auc_score(y_test, pred_prob5[:,1])\n",
    "auc_clf_bagging2"
   ]
  },
  {
   "cell_type": "code",
   "execution_count": 200,
   "id": "37e01277",
   "metadata": {},
   "outputs": [
    {
     "data": {
      "image/png": "[encoded data removed]",
      "text/plain": [
       "<Figure size 576x396 with 1 Axes>"
      ]
     },
     "metadata": {},
     "output_type": "display_data"
    }
   ],
   "source": [
    "# roc curve for tpr = fpr \n",
    "random_probs = [0 for i in range(len(y_test))]\n",
    "p_fpr, p_tpr, _ = roc_curve(y_test, random_probs, pos_label=1)\n",
    "\n",
    "plt.style.use('seaborn')\n",
    "\n",
    "# plot roc curves\n",
    "#plt.plot(fpr4, tpr4, linestyle='--',color='orange', label='Bagging (DT base model) (AUC = %0.2f)' % auc_clf_bagging1)\n",
    "plt.plot(fpr5, tpr5, linestyle='--',color='green', label='Bagging (SVM base model) (AUC = %0.2f)' % auc_clf_bagging2)\n",
    "plt.plot(p_fpr, p_tpr, linestyle='--', color='blue')\n",
    "# title\n",
    "plt.title('ROC curve')\n",
    "# x label\n",
    "plt.xlabel('False Positive Rate')\n",
    "# y label\n",
    "plt.ylabel('True Positive rate')\n",
    "\n",
    "plt.legend(loc='best')\n",
    "plt.savefig('ROC',dpi=300)\n",
    "plt.show();"
   ]
  },
  {
   "cell_type": "markdown",
   "id": "cba1712d",
   "metadata": {},
   "source": [
    "## Boosting"
   ]
  },
  {
   "cell_type": "markdown",
   "id": "031f46a4",
   "metadata": {},
   "source": [
    "### Boosting (DT base model)"
   ]
  },
  {
   "cell_type": "code",
   "execution_count": 201,
   "id": "3e97f933",
   "metadata": {},
   "outputs": [],
   "source": [
    "model= AdaBoostClassifier(base_estimator= clf_2.best_estimator_ , algorithm=\"SAMME\" ,random_state=77)\n",
    "grid = dict()\n",
    "grid['n_estimators'] = [10, 50, 100, 500]\n",
    "grid['learning_rate'] = [0.0001, 0.001, 0.01, 0.1, 1.0]\n",
    "grid_search = GridSearchCV(estimator=model, param_grid=grid, n_jobs=-1, cv=cv, scoring='accuracy')\n",
    "grid_result = grid_search.fit(X_train, y_train)\n",
    "\n",
    "y_pred_acc = grid_result.predict(X_test)\n"
   ]
  },
  {
   "cell_type": "code",
   "execution_count": 202,
   "id": "2e7872e2",
   "metadata": {},
   "outputs": [
    {
     "name": "stdout",
     "output_type": "stream",
     "text": [
      "Best parameters {'learning_rate': 1.0, 'n_estimators': 500}\n",
      "[[93  1]\n",
      " [ 0 94]]\n",
      "              precision    recall  f1-score   support\n",
      "\n",
      "           0       1.00      0.99      0.99        94\n",
      "           1       0.99      1.00      0.99        94\n",
      "\n",
      "    accuracy                           0.99       188\n",
      "   macro avg       0.99      0.99      0.99       188\n",
      "weighted avg       0.99      0.99      0.99       188\n",
      "\n",
      "-----------------------------------------------------\n"
     ]
    }
   ],
   "source": [
    "print('Best parameters' ,grid_result.best_params_)\n",
    "print(confusion_matrix(y_test,y_pred_acc))\n",
    "print(classification_report(y_test,y_pred_acc))\n",
    "print('-----------------------------------------------------')"
   ]
  },
  {
   "cell_type": "code",
   "execution_count": 203,
   "id": "cdcc1e8a",
   "metadata": {},
   "outputs": [
    {
     "data": {
      "text/plain": [
       "0.9998868266183794"
      ]
     },
     "execution_count": 203,
     "metadata": {},
     "output_type": "execute_result"
    }
   ],
   "source": [
    "pred_prob6 = grid_result.predict_proba(X_test)\n",
    "fpr6, tpr6, thresh6 = roc_curve(y_test, pred_prob6[:,1], pos_label=1)\n",
    "auc_clf_boosting1 = roc_auc_score(y_test, pred_prob6[:,1])\n",
    "auc_clf_boosting1"
   ]
  },
  {
   "cell_type": "code",
   "execution_count": 204,
   "id": "e27f1122",
   "metadata": {},
   "outputs": [
    {
     "data": {
      "text/plain": [
       "array([           nan,            nan, 4.36632544e-03,            nan,\n",
       "       7.78833780e-02,            nan,            nan,            nan,\n",
       "       1.78774539e-02, 1.07562249e-03, 2.55093471e-03, 1.52885138e-02,\n",
       "       5.51717482e-03,            nan, 5.11119432e-03, 1.95277219e-03,\n",
       "       2.33130041e-03, 1.30005379e-10, 3.60141371e-13, 7.66556127e-11,\n",
       "       2.04006581e-03, 3.62370960e-03, 4.30204840e-03, 9.16194407e-04,\n",
       "       1.38623124e-02, 5.56879595e-03, 3.39187626e-04, 1.87219796e-03,\n",
       "       1.08631043e-07, 1.75575545e-07, 1.46427809e-04, 4.66962659e-07,\n",
       "       5.76229321e-06, 2.39054853e-06, 6.78595889e-12, 7.87150479e-03,\n",
       "       1.91939079e-02, 6.53513443e-03])"
      ]
     },
     "execution_count": 204,
     "metadata": {},
     "output_type": "execute_result"
    }
   ],
   "source": [
    "grid_search.best_estimator_.feature_importances_"
   ]
  },
  {
   "cell_type": "markdown",
   "id": "22b5ba38",
   "metadata": {},
   "source": [
    "### Boosting (SVM base model)"
   ]
  },
  {
   "cell_type": "code",
   "execution_count": 205,
   "id": "7d147804",
   "metadata": {},
   "outputs": [],
   "source": [
    "model1 = AdaBoostClassifier(base_estimator= clf_3.best_estimator_ , algorithm=\"SAMME\" ,random_state=123)\n",
    "grid = dict()\n",
    "grid['n_estimators'] = [10, 50, 100, 500]\n",
    "grid['learning_rate'] = [0.0001, 0.001, 0.01, 0.1, 1.0]\n",
    "grid_search = GridSearchCV(estimator=model1, param_grid=grid, n_jobs=-1, cv=cv, scoring='accuracy')\n",
    "grid_result = grid_search.fit(X_train, y_train)\n",
    "y_pred_acc = grid_result.predict(X_test)\n"
   ]
  },
  {
   "cell_type": "code",
   "execution_count": 206,
   "id": "6e182f81",
   "metadata": {},
   "outputs": [
    {
     "name": "stdout",
     "output_type": "stream",
     "text": [
      "Best parameters {'learning_rate': 0.01, 'n_estimators': 500}\n",
      "[[55 39]\n",
      " [ 9 85]]\n",
      "              precision    recall  f1-score   support\n",
      "\n",
      "           0       0.86      0.59      0.70        94\n",
      "           1       0.69      0.90      0.78        94\n",
      "\n",
      "    accuracy                           0.74       188\n",
      "   macro avg       0.77      0.74      0.74       188\n",
      "weighted avg       0.77      0.74      0.74       188\n",
      "\n",
      "-----------------------------------------------------\n"
     ]
    }
   ],
   "source": [
    "print('Best parameters' ,grid_result.best_params_)\n",
    "print(confusion_matrix(y_test,y_pred_acc))\n",
    "print(classification_report(y_test,y_pred_acc))\n",
    "print('-----------------------------------------------------')"
   ]
  },
  {
   "cell_type": "code",
   "execution_count": 207,
   "id": "647a5cf7",
   "metadata": {},
   "outputs": [
    {
     "data": {
      "text/plain": [
       "0.8632865550022635"
      ]
     },
     "execution_count": 207,
     "metadata": {},
     "output_type": "execute_result"
    }
   ],
   "source": [
    "pred_prob7 = grid_result.predict_proba(X_test)\n",
    "fpr7, tpr7, thresh7 = roc_curve(y_test, pred_prob7[:,1], pos_label=1)\n",
    "auc_clf_boosting2 = roc_auc_score(y_test, pred_prob7[:,1])\n",
    "auc_clf_boosting2"
   ]
  },
  {
   "cell_type": "code",
   "execution_count": 208,
   "id": "bd724a10",
   "metadata": {},
   "outputs": [
    {
     "data": {
      "image/png": "[encoded data removed]",
      "text/plain": [
       "<Figure size 576x396 with 1 Axes>"
      ]
     },
     "metadata": {},
     "output_type": "display_data"
    }
   ],
   "source": [
    "# roc curve for tpr = fpr \n",
    "random_probs = [0 for i in range(len(y_test))]\n",
    "p_fpr, p_tpr, _ = roc_curve(y_test, random_probs, pos_label=1)\n",
    "\n",
    "plt.style.use('seaborn')\n",
    "\n",
    "# plot roc curves\n",
    "#plt.plot(fpr6, tpr6, linestyle='--',color='orange', label='Boosting (DT base model) (AUC = %0.2f)' % auc_clf_boosting1)\n",
    "plt.plot(fpr7, tpr7, linestyle='--',color='green', label='Boosting (SVM base model)(AUC = %0.2f)' % auc_clf_boosting2)\n",
    "plt.plot(p_fpr, p_tpr, linestyle='--', color='blue')\n",
    "# title\n",
    "plt.title('ROC curve')\n",
    "# x label\n",
    "plt.xlabel('False Positive Rate')\n",
    "# y label\n",
    "plt.ylabel('True Positive rate')\n",
    "\n",
    "plt.legend(loc='best')\n",
    "plt.savefig('ROC',dpi=300)\n",
    "plt.show();"
   ]
  },
  {
   "cell_type": "markdown",
   "id": "1f8a29c5",
   "metadata": {},
   "source": [
    "## RandomForestClassifier"
   ]
  },
  {
   "cell_type": "code",
   "execution_count": 209,
   "id": "6d9d20c8",
   "metadata": {},
   "outputs": [
    {
     "name": "stdout",
     "output_type": "stream",
     "text": [
      "Best parameters {'criterion': 'gini', 'max_depth': 30, 'max_features': 'log2', 'min_samples_split': 2}\n",
      "[[93  1]\n",
      " [ 0 94]]\n",
      "              precision    recall  f1-score   support\n",
      "\n",
      "           0       1.00      0.99      0.99        94\n",
      "           1       0.99      1.00      0.99        94\n",
      "\n",
      "    accuracy                           0.99       188\n",
      "   macro avg       0.99      0.99      0.99       188\n",
      "weighted avg       0.99      0.99      0.99       188\n",
      "\n",
      "-----------------------------------------------------\n"
     ]
    }
   ],
   "source": [
    "rt = RandomForestClassifier(random_state=999)\n",
    "clf_1 = GridSearchCV(rt,param_grid_rt, cv=cv , refit=True )\n",
    "clf_1.fit(X_train , y_train)\n",
    "y_pred_acc = clf_1.predict(X_test)\n",
    "print('Best parameters' ,clf_1.best_params_)\n",
    "print(confusion_matrix(y_test,y_pred_acc))\n",
    "print(classification_report(y_test,y_pred_acc))\n",
    "print('-----------------------------------------------------')"
   ]
  },
  {
   "cell_type": "code",
   "execution_count": 210,
   "id": "d8235b86",
   "metadata": {},
   "outputs": [
    {
     "data": {
      "text/plain": [
       "0.9998868266183794"
      ]
     },
     "execution_count": 210,
     "metadata": {},
     "output_type": "execute_result"
    }
   ],
   "source": [
    "pred_prob1 = clf_1.predict_proba(X_test)\n",
    "fpr1, tpr1, thresh1 = roc_curve(y_test, pred_prob1[:,1], pos_label=1)\n",
    "auc_clf_1 = roc_auc_score(y_test, pred_prob1[:,1])\n",
    "auc_clf_1\n",
    "\n"
   ]
  },
  {
   "cell_type": "code",
   "execution_count": 211,
   "id": "d79e1ac4",
   "metadata": {},
   "outputs": [
    {
     "data": {
      "image/png": "[encoded data removed]",
      "text/plain": [
       "<Figure size 576x396 with 1 Axes>"
      ]
     },
     "metadata": {},
     "output_type": "display_data"
    }
   ],
   "source": [
    "# roc curve for tpr = fpr \n",
    "random_probs = [0 for i in range(len(y_test))]\n",
    "p_fpr, p_tpr, _ = roc_curve(y_test, random_probs, pos_label=1)\n",
    "\n",
    "plt.style.use('seaborn')\n",
    "\n",
    "# plot roc curves\n",
    "plt.plot(fpr2, tpr2, linestyle='--',color='red', label='DT (AUC = %0.2f)' % auc_clf_2)\n",
    "plt.plot(fpr3, tpr3, linestyle='--',color='yellow', label='SVM (AUC = %0.2f)' % auc_clf_3)\n",
    "plt.plot(fpr4, tpr4, linestyle='--',color='pink', label='Bagging (DT base model) (AUC = %0.2f)' % auc_clf_bagging1)\n",
    "plt.plot(fpr5, tpr5, linestyle='--',color='green', label='Bagging (SVM base model) (AUC = %0.2f)' % auc_clf_bagging2)\n",
    "plt.plot(fpr6, tpr6, linestyle='--',color='orange', label='Boosting (DT base model) (AUC = %0.2f)' % auc_clf_boosting1)\n",
    "plt.plot(fpr7, tpr7, linestyle='--',color='brown', label='Boosting (SVM base model)(AUC = %0.2f)' % auc_clf_boosting2)\n",
    "plt.plot(fpr1, tpr1, linestyle='--',color='black', label='RT (AUC = %0.2f)' % auc_clf_1)\n",
    "plt.plot(p_fpr, p_tpr, linestyle='--', color='blue')\n",
    "# title\n",
    "plt.title('ROC curve')\n",
    "# x label\n",
    "plt.xlabel('False Positive Rate')\n",
    "# y label\n",
    "plt.ylabel('True Positive rate')\n",
    "\n",
    "plt.legend(loc='best')\n",
    "plt.savefig('ROC',dpi=300)\n",
    "plt.show();"
   ]
  },
  {
   "cell_type": "code",
   "execution_count": 212,
   "id": "6a0a7f69",
   "metadata": {},
   "outputs": [],
   "source": [
    "import plotly.express as px\n",
    "import plotly.graph_objs as go\n",
    "import plotly.offline as py"
   ]
  },
  {
   "cell_type": "code",
   "execution_count": 213,
   "id": "6fc0ca45",
   "metadata": {},
   "outputs": [
    {
     "data": {
      "text/plain": [
       "GPA                                                                        0.378430\n",
       "ENTRYGPA                                                                   0.080958\n",
       "FATHERINCOME                                                               0.061948\n",
       "MOTHERINCOME                                                               0.060282\n",
       "YEARMOTHER                                                                 0.052175\n",
       "YEARFATHER                                                                 0.051781\n",
       "COURSE_GRADE_STATISTICAL ANALYSIS I_F                                      0.036832\n",
       "COURSE_GRADE_ELEMENTARY PHYSICS_F                                          0.034008\n",
       "COURSE_GRADE_GENERAL CHEMISTRY LABORATORY_F                                0.023574\n",
       "NumberOfSiblings                                                           0.020909\n",
       "COURSE_GRADE_BIOLOGY FOR PHYSICAL SCIENCE LABORATORY_F                     0.020607\n",
       "NumberOfSon                                                                0.018811\n",
       "COURSE_GRADE_BIOLOGY FOR PHYSICAL SCIENCE_F                                0.018723\n",
       "COURSE_GRADE_GENERAL PHYSICS LABORATORY I_F                                0.017193\n",
       "COURSE_GRADE_ENGLISH I_F                                                   0.014096\n",
       "COURSE_GRADE_CALCULUS FOR PHYSICAL SCIENCE I_F                             0.013191\n",
       "COURSE_GRADE_GENERAL MATHEMATICS_F                                         0.013107\n",
       "COURSE_GRADE_CALCULUS  FOR PHYSICAL SCIENCE II_F                           0.012631\n",
       "COURSE_GRADE_INTRODUCTION TO INFORMATION AND COMMUNICATION TECHNOLOGY_F    0.010366\n",
       "STUDENTSEX                                                                 0.009812\n",
       "COURSE_GRADE_OPERATIONS RESEARCH_F                                         0.008932\n",
       "COURSE_GRADE_FUNDAMENTAL CHEMISTRY_F                                       0.007946\n",
       "COURSE_GRADE_ENGLISH II_F                                                  0.004513\n",
       "COURSE_GRADE_LEARNING SKILLS_F                                             0.004350\n",
       "COURSE_GRADE_COMPUTER PROGRAMMING I_F                                      0.003817\n",
       "COURSE_GRADE_CALCULUS_F                                                    0.003324\n",
       "COURSE_GRADE_LOCAL WISDOM_F                                                0.003224\n",
       "COURSE_GRADE_ELEMENTARY TO BUSINESS AND ENTREPRENEURSHIP_F                 0.002280\n",
       "COURSE_GRADE_HAPPINESS OF LIFE_F                                           0.001905\n",
       "COURSE_GRADE_ENGLISH FOR COMMUNICATION_F                                   0.001781\n",
       "COURSE_GRADE_MULTICULTURALISM_F                                            0.001736\n",
       "COURSE_GRADE_ENGLISH FOR ACADEMIC PURPOSES I_F                             0.001407\n",
       "COURSE_GRADE_STATISTICAL MODEL_F                                           0.001110\n",
       "COURSE_GRADE_ENGLISH FOR ACADEMIC PURPOSE I (EAP I)_F                      0.001041\n",
       "COURSE_GRADE_BASICS OF STAGE ACTING_F                                      0.000932\n",
       "COURSE_GRADE_MEDITATION FOR LIFE DEVELOPMENT_F                             0.000913\n",
       "COURSE_GRADE_ENERGY AND ENVIRONMENT_F                                      0.000807\n",
       "COURSE_GRADE_INFORMATION LITERACY SKILLS_F                                 0.000546\n",
       "dtype: float64"
      ]
     },
     "execution_count": 213,
     "metadata": {},
     "output_type": "execute_result"
    }
   ],
   "source": [
    "forest_importances = pd.Series(clf_1.best_estimator_.feature_importances_, index=X_train.columns)\n",
    "forest_importances.sort_values(ascending=False)"
   ]
  },
  {
   "cell_type": "code",
   "execution_count": 214,
   "id": "1e58ff76",
   "metadata": {},
   "outputs": [
    {
     "data": {
      "text/plain": [
       "0                                                   GPA\n",
       "1                                              ENTRYGPA\n",
       "2                                          FATHERINCOME\n",
       "4                                          MOTHERINCOME\n",
       "5                                            YEARMOTHER\n",
       "3                                            YEARFATHER\n",
       "18                COURSE_GRADE_STATISTICAL ANALYSIS I_F\n",
       "12                    COURSE_GRADE_ELEMENTARY PHYSICS_F\n",
       "14          COURSE_GRADE_GENERAL CHEMISTRY LABORATORY_F\n",
       "7                                      NumberOfSiblings\n",
       "8     COURSE_GRADE_BIOLOGY FOR PHYSICAL SCIENCE LABO...\n",
       "6                                           NumberOfSon\n",
       "9           COURSE_GRADE_BIOLOGY FOR PHYSICAL SCIENCE_F\n",
       "16          COURSE_GRADE_GENERAL PHYSICS LABORATORY I_F\n",
       "13                             COURSE_GRADE_ENGLISH I_F\n",
       "11       COURSE_GRADE_CALCULUS FOR PHYSICAL SCIENCE I_F\n",
       "15                   COURSE_GRADE_GENERAL MATHEMATICS_F\n",
       "10     COURSE_GRADE_CALCULUS  FOR PHYSICAL SCIENCE II_F\n",
       "17    COURSE_GRADE_INTRODUCTION TO INFORMATION AND C...\n",
       "Name: index, dtype: object"
      ]
     },
     "execution_count": 214,
     "metadata": {},
     "output_type": "execute_result"
    }
   ],
   "source": [
    "data_fea = forest_importances[forest_importances.values > 0.01]\n",
    "data_fea=data_fea.rename('Coefficient').reset_index().sort_values('Coefficient', ascending=False)\n",
    "data_fea.to_csv(r'Feature importance case 1.csv' , encoding='utf-8-sig')\n",
    "data_fea['index']\n"
   ]
  },
  {
   "cell_type": "code",
   "execution_count": 233,
   "id": "92ea0ba9",
   "metadata": {},
   "outputs": [
    {
     "data": {
      "text/html": [
       "<div><div id=8ab34878-e897-4eb8-a1fa-81f7b91d7f4c style=\"display:none; background-color:#9D6CFF; color:white; width:200px; height:30px; padding-left:5px; border-radius:4px; flex-direction:row; justify-content:space-around; align-items:center;\" onmouseover=\"this.style.backgroundColor='#BA9BF8'\" onmouseout=\"this.style.backgroundColor='#9D6CFF'\" onclick=\"window.commands?.execute('create-mitosheet-from-dataframe-output');\">See Full Dataframe in Mito</div> <script> if (window.commands.hasCommand('create-mitosheet-from-dataframe-output')) document.getElementById('8ab34878-e897-4eb8-a1fa-81f7b91d7f4c').style.display = 'flex' </script> <table border=\"1\" class=\"dataframe\">\n",
       "  <thead>\n",
       "    <tr style=\"text-align: right;\">\n",
       "      <th></th>\n",
       "      <th>index</th>\n",
       "      <th>Coefficient</th>\n",
       "      <th>Feature</th>\n",
       "    </tr>\n",
       "  </thead>\n",
       "  <tbody>\n",
       "    <tr>\n",
       "      <th>0</th>\n",
       "      <td>GPA</td>\n",
       "      <td>0.378430</td>\n",
       "      <td>GPA</td>\n",
       "    </tr>\n",
       "    <tr>\n",
       "      <th>1</th>\n",
       "      <td>ENTRYGPA</td>\n",
       "      <td>0.080958</td>\n",
       "      <td>ENTRYGPA</td>\n",
       "    </tr>\n",
       "    <tr>\n",
       "      <th>2</th>\n",
       "      <td>FATHERINCOME</td>\n",
       "      <td>0.061948</td>\n",
       "      <td>FATHERINCOME</td>\n",
       "    </tr>\n",
       "    <tr>\n",
       "      <th>4</th>\n",
       "      <td>MOTHERINCOME</td>\n",
       "      <td>0.060282</td>\n",
       "      <td>MOTHERINCOME</td>\n",
       "    </tr>\n",
       "    <tr>\n",
       "      <th>5</th>\n",
       "      <td>YEARMOTHER</td>\n",
       "      <td>0.052175</td>\n",
       "      <td>YEARMOTHER</td>\n",
       "    </tr>\n",
       "    <tr>\n",
       "      <th>...</th>\n",
       "      <td>...</td>\n",
       "      <td>...</td>\n",
       "      <td>...</td>\n",
       "    </tr>\n",
       "    <tr>\n",
       "      <th>13</th>\n",
       "      <td>COURSE_GRADE_ENGLISH I_F</td>\n",
       "      <td>0.014096</td>\n",
       "      <td>ENGLISH I_F</td>\n",
       "    </tr>\n",
       "    <tr>\n",
       "      <th>11</th>\n",
       "      <td>COURSE_GRADE_CALCULUS FOR PHYSICAL SCIENCE I_F</td>\n",
       "      <td>0.013191</td>\n",
       "      <td>CALCULUS FOR PHYSICAL SCIENCE I_F</td>\n",
       "    </tr>\n",
       "    <tr>\n",
       "      <th>15</th>\n",
       "      <td>COURSE_GRADE_GENERAL MATHEMATICS_F</td>\n",
       "      <td>0.013107</td>\n",
       "      <td>GENERAL MATHEMATICS_F</td>\n",
       "    </tr>\n",
       "    <tr>\n",
       "      <th>10</th>\n",
       "      <td>COURSE_GRADE_CALCULUS  FOR PHYSICAL SCIENCE II_F</td>\n",
       "      <td>0.012631</td>\n",
       "      <td>CALCULUS  FOR PHYSICAL SCIENCE II_F</td>\n",
       "    </tr>\n",
       "    <tr>\n",
       "      <th>17</th>\n",
       "      <td>COURSE_GRADE_INTRODUCTION TO INFORMATION AND COMMUNICATION TECHNOLOGY_F</td>\n",
       "      <td>0.010366</td>\n",
       "      <td>INTRODUCTION TO INFORMATION AND COMMUNICATION TECHNOLOGY_F</td>\n",
       "    </tr>\n",
       "  </tbody>\n",
       "</table></div>"
      ],
      "text/plain": [
       "                                                index  Coefficient  \\\n",
       "0                                                 GPA     0.378430   \n",
       "1                                            ENTRYGPA     0.080958   \n",
       "2                                        FATHERINCOME     0.061948   \n",
       "4                                        MOTHERINCOME     0.060282   \n",
       "5                                          YEARMOTHER     0.052175   \n",
       "3                                          YEARFATHER     0.051781   \n",
       "18              COURSE_GRADE_STATISTICAL ANALYSIS I_F     0.036832   \n",
       "12                  COURSE_GRADE_ELEMENTARY PHYSICS_F     0.034008   \n",
       "14        COURSE_GRADE_GENERAL CHEMISTRY LABORATORY_F     0.023574   \n",
       "7                                    NumberOfSiblings     0.020909   \n",
       "8   COURSE_GRADE_BIOLOGY FOR PHYSICAL SCIENCE LABO...     0.020607   \n",
       "6                                         NumberOfSon     0.018811   \n",
       "9         COURSE_GRADE_BIOLOGY FOR PHYSICAL SCIENCE_F     0.018723   \n",
       "16        COURSE_GRADE_GENERAL PHYSICS LABORATORY I_F     0.017193   \n",
       "13                           COURSE_GRADE_ENGLISH I_F     0.014096   \n",
       "11     COURSE_GRADE_CALCULUS FOR PHYSICAL SCIENCE I_F     0.013191   \n",
       "15                 COURSE_GRADE_GENERAL MATHEMATICS_F     0.013107   \n",
       "10   COURSE_GRADE_CALCULUS  FOR PHYSICAL SCIENCE II_F     0.012631   \n",
       "17  COURSE_GRADE_INTRODUCTION TO INFORMATION AND C...     0.010366   \n",
       "\n",
       "                                              Feature  \n",
       "0                                                 GPA  \n",
       "1                                            ENTRYGPA  \n",
       "2                                        FATHERINCOME  \n",
       "4                                        MOTHERINCOME  \n",
       "5                                          YEARMOTHER  \n",
       "3                                          YEARFATHER  \n",
       "18                           STATISTICAL ANALYSIS I_F  \n",
       "12                               ELEMENTARY PHYSICS_F  \n",
       "14                     GENERAL CHEMISTRY LABORATORY_F  \n",
       "7                                    NumberOfSiblings  \n",
       "8           BIOLOGY FOR PHYSICAL SCIENCE LABORATORY_F  \n",
       "6                                         NumberOfSon  \n",
       "9                      BIOLOGY FOR PHYSICAL SCIENCE_F  \n",
       "16                     GENERAL PHYSICS LABORATORY I_F  \n",
       "13                                        ENGLISH I_F  \n",
       "11                  CALCULUS FOR PHYSICAL SCIENCE I_F  \n",
       "15                              GENERAL MATHEMATICS_F  \n",
       "10                CALCULUS  FOR PHYSICAL SCIENCE II_F  \n",
       "17  INTRODUCTION TO INFORMATION AND COMMUNICATION ...  "
      ]
     },
     "execution_count": 233,
     "metadata": {},
     "output_type": "execute_result"
    }
   ],
   "source": [
    "data_asd = pd.DataFrame(data_fea['index'].str.split('_', n=2,expand=True ))\n",
    "data_asd[data_asd[0] != 'COURSE'][0].values\n",
    "\n",
    "indices = data_asd[data_asd[0] != 'COURSE'][0].index\n",
    "data_asd.loc[indices, 2] = data_asd[data_asd[0] != 'COURSE'][0].values\n",
    "\n",
    "data_fea['Feature'] = data_asd[2]\n",
    "data_fea\n"
   ]
  },
  {
   "cell_type": "code",
   "execution_count": 234,
   "id": "3af8c730",
   "metadata": {},
   "outputs": [
    {
     "data": {
      "application/vnd.plotly.v1+json": {
       "config": {
        "plotlyServerURL": "https://plot.ly"
       },
       "data": [
        {
         "alignmentgroup": "True",
         "hovertemplate": "Coefficient=%{text}<br>Feature=%{y}<extra></extra>",
         "legendgroup": "",
         "marker": {
          "color": "#636efa",
          "line": {
           "color": "#28221D",
           "width": 1
          },
          "opacity": 0.75
         },
         "name": "",
         "offsetgroup": "",
         "orientation": "h",
         "showlegend": false,
         "text": [
          0.37843008932404343,
          0.08095841378830887,
          0.06194801247697118,
          0.06028183039674734,
          0.05217465152066309,
          0.05178110841507783,
          0.0368323023694775,
          0.03400800385203013,
          0.02357387657662058,
          0.02090883024314673,
          0.020607307108098816,
          0.01881145708406382,
          0.018722600306871593,
          0.017192983054701547,
          0.014096023858266343,
          0.013190606301946697,
          0.013107390930155444,
          0.012630689257104305,
          0.010366345828262066
         ],
         "textposition": "outside",
         "texttemplate": "%{text:,.3f}",
         "type": "bar",
         "x": [
          0.37843008932404343,
          0.08095841378830887,
          0.06194801247697118,
          0.06028183039674734,
          0.05217465152066309,
          0.05178110841507783,
          0.0368323023694775,
          0.03400800385203013,
          0.02357387657662058,
          0.02090883024314673,
          0.020607307108098816,
          0.01881145708406382,
          0.018722600306871593,
          0.017192983054701547,
          0.014096023858266343,
          0.013190606301946697,
          0.013107390930155444,
          0.012630689257104305,
          0.010366345828262066
         ],
         "xaxis": "x",
         "y": [
          "GPA",
          "ENTRYGPA",
          "FATHERINCOME",
          "MOTHERINCOME",
          "YEARMOTHER",
          "YEARFATHER",
          "STATISTICAL ANALYSIS I_F",
          "ELEMENTARY PHYSICS_F",
          "GENERAL CHEMISTRY LABORATORY_F",
          "NumberOfSiblings",
          "BIOLOGY FOR PHYSICAL SCIENCE LABORATORY_F",
          "NumberOfSon",
          "BIOLOGY FOR PHYSICAL SCIENCE_F",
          "GENERAL PHYSICS LABORATORY I_F",
          "ENGLISH I_F",
          "CALCULUS FOR PHYSICAL SCIENCE I_F",
          "GENERAL MATHEMATICS_F",
          "CALCULUS  FOR PHYSICAL SCIENCE II_F",
          "INTRODUCTION TO INFORMATION AND COMMUNICATION TECHNOLOGY_F"
         ],
         "yaxis": "y"
        }
       ],
       "layout": {
        "barmode": "group",
        "font": {
         "color": "#28221D"
        },
        "legend": {
         "tracegroupgap": 0
        },
        "margin": {
         "t": 60
        },
        "template": {
         "data": {
          "bar": [
           {
            "error_x": {
             "color": "#2a3f5f"
            },
            "error_y": {
             "color": "#2a3f5f"
            },
            "marker": {
             "line": {
              "color": "#E5ECF6",
              "width": 0.5
             }
            },
            "type": "bar"
           }
          ],
          "barpolar": [
           {
            "marker": {
             "line": {
              "color": "#E5ECF6",
              "width": 0.5
             }
            },
            "type": "barpolar"
           }
          ],
          "carpet": [
           {
            "aaxis": {
             "endlinecolor": "#2a3f5f",
             "gridcolor": "white",
             "linecolor": "white",
             "minorgridcolor": "white",
             "startlinecolor": "#2a3f5f"
            },
            "baxis": {
             "endlinecolor": "#2a3f5f",
             "gridcolor": "white",
             "linecolor": "white",
             "minorgridcolor": "white",
             "startlinecolor": "#2a3f5f"
            },
            "type": "carpet"
           }
          ],
          "choropleth": [
           {
            "colorbar": {
             "outlinewidth": 0,
             "ticks": ""
            },
            "type": "choropleth"
           }
          ],
          "contour": [
           {
            "colorbar": {
             "outlinewidth": 0,
             "ticks": ""
            },
            "colorscale": [
             [
              0,
              "#0d0887"
             ],
             [
              0.1111111111111111,
              "#46039f"
             ],
             [
              0.2222222222222222,
              "#7201a8"
             ],
             [
              0.3333333333333333,
              "#9c179e"
             ],
             [
              0.4444444444444444,
              "#bd3786"
             ],
             [
              0.5555555555555556,
              "#d8576b"
             ],
             [
              0.6666666666666666,
              "#ed7953"
             ],
             [
              0.7777777777777778,
              "#fb9f3a"
             ],
             [
              0.8888888888888888,
              "#fdca26"
             ],
             [
              1,
              "#f0f921"
             ]
            ],
            "type": "contour"
           }
          ],
          "contourcarpet": [
           {
            "colorbar": {
             "outlinewidth": 0,
             "ticks": ""
            },
            "type": "contourcarpet"
           }
          ],
          "heatmap": [
           {
            "colorbar": {
             "outlinewidth": 0,
             "ticks": ""
            },
            "colorscale": [
             [
              0,
              "#0d0887"
             ],
             [
              0.1111111111111111,
              "#46039f"
             ],
             [
              0.2222222222222222,
              "#7201a8"
             ],
             [
              0.3333333333333333,
              "#9c179e"
             ],
             [
              0.4444444444444444,
              "#bd3786"
             ],
             [
              0.5555555555555556,
              "#d8576b"
             ],
             [
              0.6666666666666666,
              "#ed7953"
             ],
             [
              0.7777777777777778,
              "#fb9f3a"
             ],
             [
              0.8888888888888888,
              "#fdca26"
             ],
             [
              1,
              "#f0f921"
             ]
            ],
            "type": "heatmap"
           }
          ],
          "heatmapgl": [
           {
            "colorbar": {
             "outlinewidth": 0,
             "ticks": ""
            },
            "colorscale": [
             [
              0,
              "#0d0887"
             ],
             [
              0.1111111111111111,
              "#46039f"
             ],
             [
              0.2222222222222222,
              "#7201a8"
             ],
             [
              0.3333333333333333,
              "#9c179e"
             ],
             [
              0.4444444444444444,
              "#bd3786"
             ],
             [
              0.5555555555555556,
              "#d8576b"
             ],
             [
              0.6666666666666666,
              "#ed7953"
             ],
             [
              0.7777777777777778,
              "#fb9f3a"
             ],
             [
              0.8888888888888888,
              "#fdca26"
             ],
             [
              1,
              "#f0f921"
             ]
            ],
            "type": "heatmapgl"
           }
          ],
          "histogram": [
           {
            "marker": {
             "colorbar": {
              "outlinewidth": 0,
              "ticks": ""
             }
            },
            "type": "histogram"
           }
          ],
          "histogram2d": [
           {
            "colorbar": {
             "outlinewidth": 0,
             "ticks": ""
            },
            "colorscale": [
             [
              0,
              "#0d0887"
             ],
             [
              0.1111111111111111,
              "#46039f"
             ],
             [
              0.2222222222222222,
              "#7201a8"
             ],
             [
              0.3333333333333333,
              "#9c179e"
             ],
             [
              0.4444444444444444,
              "#bd3786"
             ],
             [
              0.5555555555555556,
              "#d8576b"
             ],
             [
              0.6666666666666666,
              "#ed7953"
             ],
             [
              0.7777777777777778,
              "#fb9f3a"
             ],
             [
              0.8888888888888888,
              "#fdca26"
             ],
             [
              1,
              "#f0f921"
             ]
            ],
            "type": "histogram2d"
           }
          ],
          "histogram2dcontour": [
           {
            "colorbar": {
             "outlinewidth": 0,
             "ticks": ""
            },
            "colorscale": [
             [
              0,
              "#0d0887"
             ],
             [
              0.1111111111111111,
              "#46039f"
             ],
             [
              0.2222222222222222,
              "#7201a8"
             ],
             [
              0.3333333333333333,
              "#9c179e"
             ],
             [
              0.4444444444444444,
              "#bd3786"
             ],
             [
              0.5555555555555556,
              "#d8576b"
             ],
             [
              0.6666666666666666,
              "#ed7953"
             ],
             [
              0.7777777777777778,
              "#fb9f3a"
             ],
             [
              0.8888888888888888,
              "#fdca26"
             ],
             [
              1,
              "#f0f921"
             ]
            ],
            "type": "histogram2dcontour"
           }
          ],
          "mesh3d": [
           {
            "colorbar": {
             "outlinewidth": 0,
             "ticks": ""
            },
            "type": "mesh3d"
           }
          ],
          "parcoords": [
           {
            "line": {
             "colorbar": {
              "outlinewidth": 0,
              "ticks": ""
             }
            },
            "type": "parcoords"
           }
          ],
          "pie": [
           {
            "automargin": true,
            "type": "pie"
           }
          ],
          "scatter": [
           {
            "marker": {
             "colorbar": {
              "outlinewidth": 0,
              "ticks": ""
             }
            },
            "type": "scatter"
           }
          ],
          "scatter3d": [
           {
            "line": {
             "colorbar": {
              "outlinewidth": 0,
              "ticks": ""
             }
            },
            "marker": {
             "colorbar": {
              "outlinewidth": 0,
              "ticks": ""
             }
            },
            "type": "scatter3d"
           }
          ],
          "scattercarpet": [
           {
            "marker": {
             "colorbar": {
              "outlinewidth": 0,
              "ticks": ""
             }
            },
            "type": "scattercarpet"
           }
          ],
          "scattergeo": [
           {
            "marker": {
             "colorbar": {
              "outlinewidth": 0,
              "ticks": ""
             }
            },
            "type": "scattergeo"
           }
          ],
          "scattergl": [
           {
            "marker": {
             "colorbar": {
              "outlinewidth": 0,
              "ticks": ""
             }
            },
            "type": "scattergl"
           }
          ],
          "scattermapbox": [
           {
            "marker": {
             "colorbar": {
              "outlinewidth": 0,
              "ticks": ""
             }
            },
            "type": "scattermapbox"
           }
          ],
          "scatterpolar": [
           {
            "marker": {
             "colorbar": {
              "outlinewidth": 0,
              "ticks": ""
             }
            },
            "type": "scatterpolar"
           }
          ],
          "scatterpolargl": [
           {
            "marker": {
             "colorbar": {
              "outlinewidth": 0,
              "ticks": ""
             }
            },
            "type": "scatterpolargl"
           }
          ],
          "scatterternary": [
           {
            "marker": {
             "colorbar": {
              "outlinewidth": 0,
              "ticks": ""
             }
            },
            "type": "scatterternary"
           }
          ],
          "surface": [
           {
            "colorbar": {
             "outlinewidth": 0,
             "ticks": ""
            },
            "colorscale": [
             [
              0,
              "#0d0887"
             ],
             [
              0.1111111111111111,
              "#46039f"
             ],
             [
              0.2222222222222222,
              "#7201a8"
             ],
             [
              0.3333333333333333,
              "#9c179e"
             ],
             [
              0.4444444444444444,
              "#bd3786"
             ],
             [
              0.5555555555555556,
              "#d8576b"
             ],
             [
              0.6666666666666666,
              "#ed7953"
             ],
             [
              0.7777777777777778,
              "#fb9f3a"
             ],
             [
              0.8888888888888888,
              "#fdca26"
             ],
             [
              1,
              "#f0f921"
             ]
            ],
            "type": "surface"
           }
          ],
          "table": [
           {
            "cells": {
             "fill": {
              "color": "#EBF0F8"
             },
             "line": {
              "color": "white"
             }
            },
            "header": {
             "fill": {
              "color": "#C8D4E3"
             },
             "line": {
              "color": "white"
             }
            },
            "type": "table"
           }
          ]
         },
         "layout": {
          "annotationdefaults": {
           "arrowcolor": "#2a3f5f",
           "arrowhead": 0,
           "arrowwidth": 1
          },
          "coloraxis": {
           "colorbar": {
            "outlinewidth": 0,
            "ticks": ""
           }
          },
          "colorscale": {
           "diverging": [
            [
             0,
             "#8e0152"
            ],
            [
             0.1,
             "#c51b7d"
            ],
            [
             0.2,
             "#de77ae"
            ],
            [
             0.3,
             "#f1b6da"
            ],
            [
             0.4,
             "#fde0ef"
            ],
            [
             0.5,
             "#f7f7f7"
            ],
            [
             0.6,
             "#e6f5d0"
            ],
            [
             0.7,
             "#b8e186"
            ],
            [
             0.8,
             "#7fbc41"
            ],
            [
             0.9,
             "#4d9221"
            ],
            [
             1,
             "#276419"
            ]
           ],
           "sequential": [
            [
             0,
             "#0d0887"
            ],
            [
             0.1111111111111111,
             "#46039f"
            ],
            [
             0.2222222222222222,
             "#7201a8"
            ],
            [
             0.3333333333333333,
             "#9c179e"
            ],
            [
             0.4444444444444444,
             "#bd3786"
            ],
            [
             0.5555555555555556,
             "#d8576b"
            ],
            [
             0.6666666666666666,
             "#ed7953"
            ],
            [
             0.7777777777777778,
             "#fb9f3a"
            ],
            [
             0.8888888888888888,
             "#fdca26"
            ],
            [
             1,
             "#f0f921"
            ]
           ],
           "sequentialminus": [
            [
             0,
             "#0d0887"
            ],
            [
             0.1111111111111111,
             "#46039f"
            ],
            [
             0.2222222222222222,
             "#7201a8"
            ],
            [
             0.3333333333333333,
             "#9c179e"
            ],
            [
             0.4444444444444444,
             "#bd3786"
            ],
            [
             0.5555555555555556,
             "#d8576b"
            ],
            [
             0.6666666666666666,
             "#ed7953"
            ],
            [
             0.7777777777777778,
             "#fb9f3a"
            ],
            [
             0.8888888888888888,
             "#fdca26"
            ],
            [
             1,
             "#f0f921"
            ]
           ]
          },
          "colorway": [
           "#636efa",
           "#EF553B",
           "#00cc96",
           "#ab63fa",
           "#FFA15A",
           "#19d3f3",
           "#FF6692",
           "#B6E880",
           "#FF97FF",
           "#FECB52"
          ],
          "font": {
           "color": "#2a3f5f"
          },
          "geo": {
           "bgcolor": "white",
           "lakecolor": "white",
           "landcolor": "#E5ECF6",
           "showlakes": true,
           "showland": true,
           "subunitcolor": "white"
          },
          "hoverlabel": {
           "align": "left"
          },
          "hovermode": "closest",
          "mapbox": {
           "style": "light"
          },
          "paper_bgcolor": "white",
          "plot_bgcolor": "#E5ECF6",
          "polar": {
           "angularaxis": {
            "gridcolor": "white",
            "linecolor": "white",
            "ticks": ""
           },
           "bgcolor": "#E5ECF6",
           "radialaxis": {
            "gridcolor": "white",
            "linecolor": "white",
            "ticks": ""
           }
          },
          "scene": {
           "xaxis": {
            "backgroundcolor": "#E5ECF6",
            "gridcolor": "white",
            "gridwidth": 2,
            "linecolor": "white",
            "showbackground": true,
            "ticks": "",
            "zerolinecolor": "white"
           },
           "yaxis": {
            "backgroundcolor": "#E5ECF6",
            "gridcolor": "white",
            "gridwidth": 2,
            "linecolor": "white",
            "showbackground": true,
            "ticks": "",
            "zerolinecolor": "white"
           },
           "zaxis": {
            "backgroundcolor": "#E5ECF6",
            "gridcolor": "white",
            "gridwidth": 2,
            "linecolor": "white",
            "showbackground": true,
            "ticks": "",
            "zerolinecolor": "white"
           }
          },
          "shapedefaults": {
           "line": {
            "color": "#2a3f5f"
           }
          },
          "ternary": {
           "aaxis": {
            "gridcolor": "white",
            "linecolor": "white",
            "ticks": ""
           },
           "baxis": {
            "gridcolor": "white",
            "linecolor": "white",
            "ticks": ""
           },
           "bgcolor": "#E5ECF6",
           "caxis": {
            "gridcolor": "white",
            "linecolor": "white",
            "ticks": ""
           }
          },
          "title": {
           "x": 0.05
          },
          "xaxis": {
           "automargin": true,
           "gridcolor": "white",
           "linecolor": "white",
           "ticks": "",
           "title": {
            "standoff": 15
           },
           "zerolinecolor": "white",
           "zerolinewidth": 2
          },
          "yaxis": {
           "automargin": true,
           "gridcolor": "white",
           "linecolor": "white",
           "ticks": "",
           "title": {
            "standoff": 15
           },
           "zerolinecolor": "white",
           "zerolinewidth": 2
          }
         }
        },
        "title": {
         "text": "feature importance DropOutALL"
        },
        "xaxis": {
         "anchor": "y",
         "domain": [
          0,
          1
         ],
         "title": {
          "text": "Coefficient"
         }
        },
        "yaxis": {
         "anchor": "x",
         "domain": [
          0,
          1
         ],
         "title": {
          "text": "Feature"
         },
         "zeroline": true,
         "zerolinecolor": "#28221D",
         "zerolinewidth": 1
        }
       }
      },
      "text/html": [
       "<div>                            <div id=\"ccb9e357-fe66-40a8-9c4d-5685ca6c6b47\" class=\"plotly-graph-div\" style=\"height:525px; width:100%;\"></div>            <script type=\"text/javascript\">                require([\"plotly\"], function(Plotly) {                    window.PLOTLYENV=window.PLOTLYENV || {};                                    if (document.getElementById(\"ccb9e357-fe66-40a8-9c4d-5685ca6c6b47\")) {                    Plotly.newPlot(                        \"ccb9e357-fe66-40a8-9c4d-5685ca6c6b47\",                        [{\"alignmentgroup\": \"True\", \"hovertemplate\": \"Coefficient=%{text}<br>Feature=%{y}<extra></extra>\", \"legendgroup\": \"\", \"marker\": {\"color\": \"#636efa\", \"line\": {\"color\": \"#28221D\", \"width\": 1}, \"opacity\": 0.75}, \"name\": \"\", \"offsetgroup\": \"\", \"orientation\": \"h\", \"showlegend\": false, \"text\": [0.37843008932404343, 0.08095841378830887, 0.06194801247697118, 0.06028183039674734, 0.05217465152066309, 0.05178110841507783, 0.0368323023694775, 0.03400800385203013, 0.02357387657662058, 0.02090883024314673, 0.020607307108098816, 0.01881145708406382, 0.018722600306871593, 0.017192983054701547, 0.014096023858266343, 0.013190606301946697, 0.013107390930155444, 0.012630689257104305, 0.010366345828262066], \"textposition\": \"outside\", \"texttemplate\": \"%{text:,.3f}\", \"type\": \"bar\", \"x\": [0.37843008932404343, 0.08095841378830887, 0.06194801247697118, 0.06028183039674734, 0.05217465152066309, 0.05178110841507783, 0.0368323023694775, 0.03400800385203013, 0.02357387657662058, 0.02090883024314673, 0.020607307108098816, 0.01881145708406382, 0.018722600306871593, 0.017192983054701547, 0.014096023858266343, 0.013190606301946697, 0.013107390930155444, 0.012630689257104305, 0.010366345828262066], \"xaxis\": \"x\", \"y\": [\"GPA\", \"ENTRYGPA\", \"FATHERINCOME\", \"MOTHERINCOME\", \"YEARMOTHER\", \"YEARFATHER\", \"STATISTICAL ANALYSIS I_F\", \"ELEMENTARY PHYSICS_F\", \"GENERAL CHEMISTRY LABORATORY_F\", \"NumberOfSiblings\", \"BIOLOGY FOR PHYSICAL SCIENCE LABORATORY_F\", \"NumberOfSon\", \"BIOLOGY FOR PHYSICAL SCIENCE_F\", \"GENERAL PHYSICS LABORATORY I_F\", \"ENGLISH I_F\", \"CALCULUS FOR PHYSICAL SCIENCE I_F\", \"GENERAL MATHEMATICS_F\", \"CALCULUS  FOR PHYSICAL SCIENCE II_F\", \"INTRODUCTION TO INFORMATION AND COMMUNICATION TECHNOLOGY_F\"], \"yaxis\": \"y\"}],                        {\"barmode\": \"group\", \"font\": {\"color\": \"#28221D\"}, \"legend\": {\"tracegroupgap\": 0}, \"margin\": {\"t\": 60}, \"template\": {\"data\": {\"bar\": [{\"error_x\": {\"color\": \"#2a3f5f\"}, \"error_y\": {\"color\": \"#2a3f5f\"}, \"marker\": {\"line\": {\"color\": \"#E5ECF6\", \"width\": 0.5}}, \"type\": \"bar\"}], \"barpolar\": [{\"marker\": {\"line\": {\"color\": \"#E5ECF6\", \"width\": 0.5}}, \"type\": \"barpolar\"}], \"carpet\": [{\"aaxis\": {\"endlinecolor\": \"#2a3f5f\", \"gridcolor\": \"white\", \"linecolor\": \"white\", \"minorgridcolor\": \"white\", \"startlinecolor\": \"#2a3f5f\"}, \"baxis\": {\"endlinecolor\": \"#2a3f5f\", \"gridcolor\": \"white\", \"linecolor\": \"white\", \"minorgridcolor\": \"white\", \"startlinecolor\": \"#2a3f5f\"}, \"type\": \"carpet\"}], \"choropleth\": [{\"colorbar\": {\"outlinewidth\": 0, \"ticks\": \"\"}, \"type\": \"choropleth\"}], \"contour\": [{\"colorbar\": {\"outlinewidth\": 0, \"ticks\": \"\"}, \"colorscale\": [[0.0, \"#0d0887\"], [0.1111111111111111, \"#46039f\"], [0.2222222222222222, \"#7201a8\"], [0.3333333333333333, \"#9c179e\"], [0.4444444444444444, \"#bd3786\"], [0.5555555555555556, \"#d8576b\"], [0.6666666666666666, \"#ed7953\"], [0.7777777777777778, \"#fb9f3a\"], [0.8888888888888888, \"#fdca26\"], [1.0, \"#f0f921\"]], \"type\": \"contour\"}], \"contourcarpet\": [{\"colorbar\": {\"outlinewidth\": 0, \"ticks\": \"\"}, \"type\": \"contourcarpet\"}], \"heatmap\": [{\"colorbar\": {\"outlinewidth\": 0, \"ticks\": \"\"}, \"colorscale\": [[0.0, \"#0d0887\"], [0.1111111111111111, \"#46039f\"], [0.2222222222222222, \"#7201a8\"], [0.3333333333333333, \"#9c179e\"], [0.4444444444444444, \"#bd3786\"], [0.5555555555555556, \"#d8576b\"], [0.6666666666666666, \"#ed7953\"], [0.7777777777777778, \"#fb9f3a\"], [0.8888888888888888, \"#fdca26\"], [1.0, \"#f0f921\"]], \"type\": \"heatmap\"}], \"heatmapgl\": [{\"colorbar\": {\"outlinewidth\": 0, \"ticks\": \"\"}, \"colorscale\": [[0.0, \"#0d0887\"], [0.1111111111111111, \"#46039f\"], [0.2222222222222222, \"#7201a8\"], [0.3333333333333333, \"#9c179e\"], [0.4444444444444444, \"#bd3786\"], [0.5555555555555556, \"#d8576b\"], [0.6666666666666666, \"#ed7953\"], [0.7777777777777778, \"#fb9f3a\"], [0.8888888888888888, \"#fdca26\"], [1.0, \"#f0f921\"]], \"type\": \"heatmapgl\"}], \"histogram\": [{\"marker\": {\"colorbar\": {\"outlinewidth\": 0, \"ticks\": \"\"}}, \"type\": \"histogram\"}], \"histogram2d\": [{\"colorbar\": {\"outlinewidth\": 0, \"ticks\": \"\"}, \"colorscale\": [[0.0, \"#0d0887\"], [0.1111111111111111, \"#46039f\"], [0.2222222222222222, \"#7201a8\"], [0.3333333333333333, \"#9c179e\"], [0.4444444444444444, \"#bd3786\"], [0.5555555555555556, \"#d8576b\"], [0.6666666666666666, \"#ed7953\"], [0.7777777777777778, \"#fb9f3a\"], [0.8888888888888888, \"#fdca26\"], [1.0, \"#f0f921\"]], \"type\": \"histogram2d\"}], \"histogram2dcontour\": [{\"colorbar\": {\"outlinewidth\": 0, \"ticks\": \"\"}, \"colorscale\": [[0.0, \"#0d0887\"], [0.1111111111111111, \"#46039f\"], [0.2222222222222222, \"#7201a8\"], [0.3333333333333333, \"#9c179e\"], [0.4444444444444444, \"#bd3786\"], [0.5555555555555556, \"#d8576b\"], [0.6666666666666666, \"#ed7953\"], [0.7777777777777778, \"#fb9f3a\"], [0.8888888888888888, \"#fdca26\"], [1.0, \"#f0f921\"]], \"type\": \"histogram2dcontour\"}], \"mesh3d\": [{\"colorbar\": {\"outlinewidth\": 0, \"ticks\": \"\"}, \"type\": \"mesh3d\"}], \"parcoords\": [{\"line\": {\"colorbar\": {\"outlinewidth\": 0, \"ticks\": \"\"}}, \"type\": \"parcoords\"}], \"pie\": [{\"automargin\": true, \"type\": \"pie\"}], \"scatter\": [{\"marker\": {\"colorbar\": {\"outlinewidth\": 0, \"ticks\": \"\"}}, \"type\": \"scatter\"}], \"scatter3d\": [{\"line\": {\"colorbar\": {\"outlinewidth\": 0, \"ticks\": \"\"}}, \"marker\": {\"colorbar\": {\"outlinewidth\": 0, \"ticks\": \"\"}}, \"type\": \"scatter3d\"}], \"scattercarpet\": [{\"marker\": {\"colorbar\": {\"outlinewidth\": 0, \"ticks\": \"\"}}, \"type\": \"scattercarpet\"}], \"scattergeo\": [{\"marker\": {\"colorbar\": {\"outlinewidth\": 0, \"ticks\": \"\"}}, \"type\": \"scattergeo\"}], \"scattergl\": [{\"marker\": {\"colorbar\": {\"outlinewidth\": 0, \"ticks\": \"\"}}, \"type\": \"scattergl\"}], \"scattermapbox\": [{\"marker\": {\"colorbar\": {\"outlinewidth\": 0, \"ticks\": \"\"}}, \"type\": \"scattermapbox\"}], \"scatterpolar\": [{\"marker\": {\"colorbar\": {\"outlinewidth\": 0, \"ticks\": \"\"}}, \"type\": \"scatterpolar\"}], \"scatterpolargl\": [{\"marker\": {\"colorbar\": {\"outlinewidth\": 0, \"ticks\": \"\"}}, \"type\": \"scatterpolargl\"}], \"scatterternary\": [{\"marker\": {\"colorbar\": {\"outlinewidth\": 0, \"ticks\": \"\"}}, \"type\": \"scatterternary\"}], \"surface\": [{\"colorbar\": {\"outlinewidth\": 0, \"ticks\": \"\"}, \"colorscale\": [[0.0, \"#0d0887\"], [0.1111111111111111, \"#46039f\"], [0.2222222222222222, \"#7201a8\"], [0.3333333333333333, \"#9c179e\"], [0.4444444444444444, \"#bd3786\"], [0.5555555555555556, \"#d8576b\"], [0.6666666666666666, \"#ed7953\"], [0.7777777777777778, \"#fb9f3a\"], [0.8888888888888888, \"#fdca26\"], [1.0, \"#f0f921\"]], \"type\": \"surface\"}], \"table\": [{\"cells\": {\"fill\": {\"color\": \"#EBF0F8\"}, \"line\": {\"color\": \"white\"}}, \"header\": {\"fill\": {\"color\": \"#C8D4E3\"}, \"line\": {\"color\": \"white\"}}, \"type\": \"table\"}]}, \"layout\": {\"annotationdefaults\": {\"arrowcolor\": \"#2a3f5f\", \"arrowhead\": 0, \"arrowwidth\": 1}, \"coloraxis\": {\"colorbar\": {\"outlinewidth\": 0, \"ticks\": \"\"}}, \"colorscale\": {\"diverging\": [[0, \"#8e0152\"], [0.1, \"#c51b7d\"], [0.2, \"#de77ae\"], [0.3, \"#f1b6da\"], [0.4, \"#fde0ef\"], [0.5, \"#f7f7f7\"], [0.6, \"#e6f5d0\"], [0.7, \"#b8e186\"], [0.8, \"#7fbc41\"], [0.9, \"#4d9221\"], [1, \"#276419\"]], \"sequential\": [[0.0, \"#0d0887\"], [0.1111111111111111, \"#46039f\"], [0.2222222222222222, \"#7201a8\"], [0.3333333333333333, \"#9c179e\"], [0.4444444444444444, \"#bd3786\"], [0.5555555555555556, \"#d8576b\"], [0.6666666666666666, \"#ed7953\"], [0.7777777777777778, \"#fb9f3a\"], [0.8888888888888888, \"#fdca26\"], [1.0, \"#f0f921\"]], \"sequentialminus\": [[0.0, \"#0d0887\"], [0.1111111111111111, \"#46039f\"], [0.2222222222222222, \"#7201a8\"], [0.3333333333333333, \"#9c179e\"], [0.4444444444444444, \"#bd3786\"], [0.5555555555555556, \"#d8576b\"], [0.6666666666666666, \"#ed7953\"], [0.7777777777777778, \"#fb9f3a\"], [0.8888888888888888, \"#fdca26\"], [1.0, \"#f0f921\"]]}, \"colorway\": [\"#636efa\", \"#EF553B\", \"#00cc96\", \"#ab63fa\", \"#FFA15A\", \"#19d3f3\", \"#FF6692\", \"#B6E880\", \"#FF97FF\", \"#FECB52\"], \"font\": {\"color\": \"#2a3f5f\"}, \"geo\": {\"bgcolor\": \"white\", \"lakecolor\": \"white\", \"landcolor\": \"#E5ECF6\", \"showlakes\": true, \"showland\": true, \"subunitcolor\": \"white\"}, \"hoverlabel\": {\"align\": \"left\"}, \"hovermode\": \"closest\", \"mapbox\": {\"style\": \"light\"}, \"paper_bgcolor\": \"white\", \"plot_bgcolor\": \"#E5ECF6\", \"polar\": {\"angularaxis\": {\"gridcolor\": \"white\", \"linecolor\": \"white\", \"ticks\": \"\"}, \"bgcolor\": \"#E5ECF6\", \"radialaxis\": {\"gridcolor\": \"white\", \"linecolor\": \"white\", \"ticks\": \"\"}}, \"scene\": {\"xaxis\": {\"backgroundcolor\": \"#E5ECF6\", \"gridcolor\": \"white\", \"gridwidth\": 2, \"linecolor\": \"white\", \"showbackground\": true, \"ticks\": \"\", \"zerolinecolor\": \"white\"}, \"yaxis\": {\"backgroundcolor\": \"#E5ECF6\", \"gridcolor\": \"white\", \"gridwidth\": 2, \"linecolor\": \"white\", \"showbackground\": true, \"ticks\": \"\", \"zerolinecolor\": \"white\"}, \"zaxis\": {\"backgroundcolor\": \"#E5ECF6\", \"gridcolor\": \"white\", \"gridwidth\": 2, \"linecolor\": \"white\", \"showbackground\": true, \"ticks\": \"\", \"zerolinecolor\": \"white\"}}, \"shapedefaults\": {\"line\": {\"color\": \"#2a3f5f\"}}, \"ternary\": {\"aaxis\": {\"gridcolor\": \"white\", \"linecolor\": \"white\", \"ticks\": \"\"}, \"baxis\": {\"gridcolor\": \"white\", \"linecolor\": \"white\", \"ticks\": \"\"}, \"bgcolor\": \"#E5ECF6\", \"caxis\": {\"gridcolor\": \"white\", \"linecolor\": \"white\", \"ticks\": \"\"}}, \"title\": {\"x\": 0.05}, \"xaxis\": {\"automargin\": true, \"gridcolor\": \"white\", \"linecolor\": \"white\", \"ticks\": \"\", \"title\": {\"standoff\": 15}, \"zerolinecolor\": \"white\", \"zerolinewidth\": 2}, \"yaxis\": {\"automargin\": true, \"gridcolor\": \"white\", \"linecolor\": \"white\", \"ticks\": \"\", \"title\": {\"standoff\": 15}, \"zerolinecolor\": \"white\", \"zerolinewidth\": 2}}}, \"title\": {\"text\": \"feature importance DropOutALL\"}, \"xaxis\": {\"anchor\": \"y\", \"domain\": [0.0, 1.0], \"title\": {\"text\": \"Coefficient\"}}, \"yaxis\": {\"anchor\": \"x\", \"domain\": [0.0, 1.0], \"title\": {\"text\": \"Feature\"}, \"zeroline\": true, \"zerolinecolor\": \"#28221D\", \"zerolinewidth\": 1}},                        {\"responsive\": true}                    ).then(function(){\n",
       "                            \n",
       "var gd = document.getElementById('ccb9e357-fe66-40a8-9c4d-5685ca6c6b47');\n",
       "var x = new MutationObserver(function (mutations, observer) {{\n",
       "        var display = window.getComputedStyle(gd).display;\n",
       "        if (!display || display === 'none') {{\n",
       "            console.log([gd, 'removed!']);\n",
       "            Plotly.purge(gd);\n",
       "            observer.disconnect();\n",
       "        }}\n",
       "}});\n",
       "\n",
       "// Listen for the removal of the full notebook cells\n",
       "var notebookContainer = gd.closest('#notebook-container');\n",
       "if (notebookContainer) {{\n",
       "    x.observe(notebookContainer, {childList: true});\n",
       "}}\n",
       "\n",
       "// Listen for the clearing of the current output cell\n",
       "var outputEl = gd.closest('.output');\n",
       "if (outputEl) {{\n",
       "    x.observe(outputEl, {childList: true});\n",
       "}}\n",
       "\n",
       "                        })                };                });            </script>        </div>"
      ]
     },
     "metadata": {},
     "output_type": "display_data"
    }
   ],
   "source": [
    "fig = px.bar(data_fea, x='Coefficient', y='Feature', text='Coefficient',  \n",
    "             barmode='group', opacity=0.75)\n",
    "fig.update_traces(texttemplate='%{text:,.3f}', textposition='outside',\n",
    "                  marker_line=dict(width=1, color='#28221D'))\n",
    "fig.update_yaxes(zeroline=True, zerolinewidth=1, zerolinecolor='#28221D')\n",
    "\n",
    "fig.update_layout(title_text='feature importance DropOutALL', font_color='#28221D',\n",
    "                  yaxis_title='Feature')\n",
    "fig.show()"
   ]
  },
  {
   "cell_type": "code",
   "execution_count": 235,
   "id": "0eba0c83",
   "metadata": {},
   "outputs": [
    {
     "data": {
      "text/html": [
       "<div><div id=66133c90-1ef5-427b-bd84-a2d7ed9006eb style=\"display:none; background-color:#9D6CFF; color:white; width:200px; height:30px; padding-left:5px; border-radius:4px; flex-direction:row; justify-content:space-around; align-items:center;\" onmouseover=\"this.style.backgroundColor='#BA9BF8'\" onmouseout=\"this.style.backgroundColor='#9D6CFF'\" onclick=\"window.commands?.execute('create-mitosheet-from-dataframe-output');\">See Full Dataframe in Mito</div> <script> if (window.commands.hasCommand('create-mitosheet-from-dataframe-output')) document.getElementById('66133c90-1ef5-427b-bd84-a2d7ed9006eb').style.display = 'flex' </script> <table border=\"1\" class=\"dataframe\">\n",
       "  <thead>\n",
       "    <tr style=\"text-align: right;\">\n",
       "      <th></th>\n",
       "      <th>STATUSTEXT</th>\n",
       "      <th>GPA</th>\n",
       "      <th>ENTRYGPA</th>\n",
       "      <th>STUDENTSEX</th>\n",
       "      <th>FATHERINCOME</th>\n",
       "      <th>YEARFATHER</th>\n",
       "      <th>MOTHERINCOME</th>\n",
       "      <th>YEARMOTHER</th>\n",
       "      <th>NumberOfSon</th>\n",
       "      <th>NumberOfSiblings</th>\n",
       "      <th>...</th>\n",
       "      <th>COURSE_GRADE_HAPPINESS OF LIFE_F</th>\n",
       "      <th>COURSE_GRADE_INFORMATION LITERACY SKILLS_F</th>\n",
       "      <th>COURSE_GRADE_INTRODUCTION TO INFORMATION AND COMMUNICATION TECHNOLOGY_F</th>\n",
       "      <th>COURSE_GRADE_LEARNING SKILLS_F</th>\n",
       "      <th>COURSE_GRADE_LOCAL WISDOM_F</th>\n",
       "      <th>COURSE_GRADE_MEDITATION FOR LIFE DEVELOPMENT_F</th>\n",
       "      <th>COURSE_GRADE_MULTICULTURALISM_F</th>\n",
       "      <th>COURSE_GRADE_OPERATIONS RESEARCH_F</th>\n",
       "      <th>COURSE_GRADE_STATISTICAL ANALYSIS I_F</th>\n",
       "      <th>COURSE_GRADE_STATISTICAL MODEL_F</th>\n",
       "    </tr>\n",
       "  </thead>\n",
       "  <tbody>\n",
       "    <tr>\n",
       "      <th>604</th>\n",
       "      <td>0</td>\n",
       "      <td>2.63</td>\n",
       "      <td>3.62</td>\n",
       "      <td>0</td>\n",
       "      <td>45000.0</td>\n",
       "      <td>52.0</td>\n",
       "      <td>14000.0</td>\n",
       "      <td>52.0</td>\n",
       "      <td>1.0</td>\n",
       "      <td>1</td>\n",
       "      <td>...</td>\n",
       "      <td>0.0</td>\n",
       "      <td>0.0</td>\n",
       "      <td>0.0</td>\n",
       "      <td>0.0</td>\n",
       "      <td>0.0</td>\n",
       "      <td>0.0</td>\n",
       "      <td>0.0</td>\n",
       "      <td>0.0</td>\n",
       "      <td>0.0</td>\n",
       "      <td>0.0</td>\n",
       "    </tr>\n",
       "    <tr>\n",
       "      <th>605</th>\n",
       "      <td>0</td>\n",
       "      <td>1.95</td>\n",
       "      <td>3.23</td>\n",
       "      <td>0</td>\n",
       "      <td>3000.0</td>\n",
       "      <td>55.0</td>\n",
       "      <td>9000.0</td>\n",
       "      <td>54.0</td>\n",
       "      <td>2.0</td>\n",
       "      <td>2</td>\n",
       "      <td>...</td>\n",
       "      <td>0.0</td>\n",
       "      <td>0.0</td>\n",
       "      <td>0.0</td>\n",
       "      <td>0.0</td>\n",
       "      <td>0.0</td>\n",
       "      <td>0.0</td>\n",
       "      <td>0.0</td>\n",
       "      <td>0.0</td>\n",
       "      <td>0.0</td>\n",
       "      <td>0.0</td>\n",
       "    </tr>\n",
       "    <tr>\n",
       "      <th>606</th>\n",
       "      <td>0</td>\n",
       "      <td>2.45</td>\n",
       "      <td>3.05</td>\n",
       "      <td>0</td>\n",
       "      <td>40000.0</td>\n",
       "      <td>51.0</td>\n",
       "      <td>40000.0</td>\n",
       "      <td>49.0</td>\n",
       "      <td>2.0</td>\n",
       "      <td>2</td>\n",
       "      <td>...</td>\n",
       "      <td>0.0</td>\n",
       "      <td>0.0</td>\n",
       "      <td>0.0</td>\n",
       "      <td>0.0</td>\n",
       "      <td>0.0</td>\n",
       "      <td>0.0</td>\n",
       "      <td>0.0</td>\n",
       "      <td>0.0</td>\n",
       "      <td>0.0</td>\n",
       "      <td>0.0</td>\n",
       "    </tr>\n",
       "    <tr>\n",
       "      <th>607</th>\n",
       "      <td>0</td>\n",
       "      <td>1.97</td>\n",
       "      <td>3.00</td>\n",
       "      <td>0</td>\n",
       "      <td>37210.0</td>\n",
       "      <td>46.0</td>\n",
       "      <td>22980.0</td>\n",
       "      <td>49.0</td>\n",
       "      <td>1.0</td>\n",
       "      <td>1</td>\n",
       "      <td>...</td>\n",
       "      <td>0.0</td>\n",
       "      <td>0.0</td>\n",
       "      <td>0.0</td>\n",
       "      <td>0.0</td>\n",
       "      <td>0.0</td>\n",
       "      <td>0.0</td>\n",
       "      <td>0.0</td>\n",
       "      <td>0.0</td>\n",
       "      <td>0.0</td>\n",
       "      <td>0.0</td>\n",
       "    </tr>\n",
       "    <tr>\n",
       "      <th>608</th>\n",
       "      <td>0</td>\n",
       "      <td>3.24</td>\n",
       "      <td>3.50</td>\n",
       "      <td>0</td>\n",
       "      <td>15000.0</td>\n",
       "      <td>43.0</td>\n",
       "      <td>15000.0</td>\n",
       "      <td>43.0</td>\n",
       "      <td>2.0</td>\n",
       "      <td>2</td>\n",
       "      <td>...</td>\n",
       "      <td>0.0</td>\n",
       "      <td>0.0</td>\n",
       "      <td>0.0</td>\n",
       "      <td>0.0</td>\n",
       "      <td>0.0</td>\n",
       "      <td>0.0</td>\n",
       "      <td>0.0</td>\n",
       "      <td>0.0</td>\n",
       "      <td>0.0</td>\n",
       "      <td>0.0</td>\n",
       "    </tr>\n",
       "  </tbody>\n",
       "</table></div>"
      ],
      "text/plain": [
       "     STATUSTEXT   GPA  ENTRYGPA  STUDENTSEX  FATHERINCOME  YEARFATHER  \\\n",
       "604           0  2.63      3.62           0       45000.0        52.0   \n",
       "605           0  1.95      3.23           0        3000.0        55.0   \n",
       "606           0  2.45      3.05           0       40000.0        51.0   \n",
       "607           0  1.97      3.00           0       37210.0        46.0   \n",
       "608           0  3.24      3.50           0       15000.0        43.0   \n",
       "\n",
       "     MOTHERINCOME  YEARMOTHER  NumberOfSon  NumberOfSiblings  ...  \\\n",
       "604       14000.0        52.0          1.0                 1  ...   \n",
       "605        9000.0        54.0          2.0                 2  ...   \n",
       "606       40000.0        49.0          2.0                 2  ...   \n",
       "607       22980.0        49.0          1.0                 1  ...   \n",
       "608       15000.0        43.0          2.0                 2  ...   \n",
       "\n",
       "     COURSE_GRADE_HAPPINESS OF LIFE_F  \\\n",
       "604                               0.0   \n",
       "605                               0.0   \n",
       "606                               0.0   \n",
       "607                               0.0   \n",
       "608                               0.0   \n",
       "\n",
       "     COURSE_GRADE_INFORMATION LITERACY SKILLS_F  \\\n",
       "604                                         0.0   \n",
       "605                                         0.0   \n",
       "606                                         0.0   \n",
       "607                                         0.0   \n",
       "608                                         0.0   \n",
       "\n",
       "     COURSE_GRADE_INTRODUCTION TO INFORMATION AND COMMUNICATION TECHNOLOGY_F  \\\n",
       "604                                                0.0                         \n",
       "605                                                0.0                         \n",
       "606                                                0.0                         \n",
       "607                                                0.0                         \n",
       "608                                                0.0                         \n",
       "\n",
       "     COURSE_GRADE_LEARNING SKILLS_F  COURSE_GRADE_LOCAL WISDOM_F  \\\n",
       "604                             0.0                          0.0   \n",
       "605                             0.0                          0.0   \n",
       "606                             0.0                          0.0   \n",
       "607                             0.0                          0.0   \n",
       "608                             0.0                          0.0   \n",
       "\n",
       "     COURSE_GRADE_MEDITATION FOR LIFE DEVELOPMENT_F  \\\n",
       "604                                             0.0   \n",
       "605                                             0.0   \n",
       "606                                             0.0   \n",
       "607                                             0.0   \n",
       "608                                             0.0   \n",
       "\n",
       "     COURSE_GRADE_MULTICULTURALISM_F  COURSE_GRADE_OPERATIONS RESEARCH_F  \\\n",
       "604                              0.0                                 0.0   \n",
       "605                              0.0                                 0.0   \n",
       "606                              0.0                                 0.0   \n",
       "607                              0.0                                 0.0   \n",
       "608                              0.0                                 0.0   \n",
       "\n",
       "     COURSE_GRADE_STATISTICAL ANALYSIS I_F  COURSE_GRADE_STATISTICAL MODEL_F  \n",
       "604                                    0.0                               0.0  \n",
       "605                                    0.0                               0.0  \n",
       "606                                    0.0                               0.0  \n",
       "607                                    0.0                               0.0  \n",
       "608                                    0.0                               0.0  \n",
       "\n",
       "[5 rows x 39 columns]"
      ]
     },
     "execution_count": 235,
     "metadata": {},
     "output_type": "execute_result"
    }
   ],
   "source": [
    "data_2564 = pd.read_csv('Data_2564_DropOutALL.csv', index_col=0)\n",
    "data_2564.rename(columns={\"บุตรคนที่\": \"NumberOfSon\", \"จำนวนพี่น้อง\": \"NumberOfSiblings\"}, inplace=True)\n",
    "data_2564.head()"
   ]
  },
  {
   "cell_type": "code",
   "execution_count": 236,
   "id": "49885378",
   "metadata": {},
   "outputs": [
    {
     "data": {
      "text/plain": [
       "0    99\n",
       "1     4\n",
       "Name: STATUSTEXT, dtype: int64"
      ]
     },
     "execution_count": 236,
     "metadata": {},
     "output_type": "execute_result"
    }
   ],
   "source": [
    "data_2564['STATUSTEXT'].value_counts()"
   ]
  },
  {
   "cell_type": "code",
   "execution_count": 237,
   "id": "13a04c1b",
   "metadata": {},
   "outputs": [],
   "source": [
    "data_2564.drop('STATUSTEXT',1,inplace=True)"
   ]
  },
  {
   "cell_type": "code",
   "execution_count": 238,
   "id": "a699651d",
   "metadata": {},
   "outputs": [
    {
     "data": {
      "text/plain": [
       "(103, 38)"
      ]
     },
     "execution_count": 238,
     "metadata": {},
     "output_type": "execute_result"
    }
   ],
   "source": [
    "data_2564.shape"
   ]
  },
  {
   "cell_type": "code",
   "execution_count": 239,
   "id": "4423fdc7",
   "metadata": {},
   "outputs": [],
   "source": [
    "y_pred_acc = clf_1.predict(data_2564)\n",
    "#print('Best parameters' ,clf_1.best_params_)\n",
    "#print(confusion_matrix(y_test,y_pred_acc))\n",
    "#print(classification_report(y_test,y_pred_acc))\n",
    "#print('-----------------------------------------------------')"
   ]
  },
  {
   "cell_type": "code",
   "execution_count": 224,
   "id": "6e3cb4bc",
   "metadata": {},
   "outputs": [
    {
     "data": {
      "text/plain": [
       "array([0, 0, 0, 0, 0, 0, 1, 0, 0, 0, 0, 0, 0, 0, 0, 0, 0, 0, 1, 0, 0, 0,\n",
       "       0, 0, 0, 0, 0, 0, 0, 0, 0, 0, 0, 0, 1, 0, 0, 1, 0, 0, 0, 0, 0, 0,\n",
       "       0, 1, 0, 0, 0, 0, 0, 0, 0, 0, 0, 0, 0, 0, 0, 0, 0, 0, 0, 0, 0, 0,\n",
       "       0, 0, 1, 0, 0, 0, 0, 0, 0, 0, 0, 0, 0, 0, 0, 0, 0, 0, 0, 0, 0, 0,\n",
       "       0, 0, 0, 0, 1, 0, 0, 0, 0, 0, 1, 0, 0, 0, 0], dtype=int64)"
      ]
     },
     "execution_count": 224,
     "metadata": {},
     "output_type": "execute_result"
    }
   ],
   "source": [
    "y_pred_acc"
   ]
  },
  {
   "cell_type": "code",
   "execution_count": 225,
   "id": "abd368a5",
   "metadata": {},
   "outputs": [],
   "source": [
    "y_pred_case1 = pd.DataFrame(y_pred_acc)\n",
    "y_pred_case1.to_csv(r'y_pred_case1.csv', encoding='utf-8-sig')"
   ]
  },
  {
   "cell_type": "code",
   "execution_count": null,
   "id": "3d17c373",
   "metadata": {},
   "outputs": [],
   "source": []
  }
 ],
 "metadata": {
  "kernelspec": {
   "display_name": "pycaret",
   "language": "python",
   "name": "pycaret"
  },
  "language_info": {
   "codemirror_mode": {
    "name": "ipython",
    "version": 3
   },
   "file_extension": ".py",
   "mimetype": "text/x-python",
   "name": "python",
   "nbconvert_exporter": "python",
   "pygments_lexer": "ipython3",
   "version": "3.7.12"
  }
 },
 "nbformat": 4,
 "nbformat_minor": 5
}
