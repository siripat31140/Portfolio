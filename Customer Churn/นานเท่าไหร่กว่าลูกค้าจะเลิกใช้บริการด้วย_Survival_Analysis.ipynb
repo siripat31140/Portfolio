{
  "cells": [
    {
      "cell_type": "markdown",
      "metadata": {
        "id": "ODrSfyHjsWTV"
      },
      "source": [
        "# **หัวข้อเรื่อง** : นานเท่าไหร่กว่าลูกค้าจะเลิกใช้บริการด้วย Survival Analysis"
      ]
    },
    {
      "cell_type": "markdown",
      "metadata": {
        "id": "QPsGBbq1sXLE"
      },
      "source": [
        "### แรงบรรดาลใจในการเลือกหัวข้อนี้\n",
        "ในงานครั้งนี้ต้องการนำปัจจัยที่สำคัญจากการวิเคราะห์เรื่อง \"ปัจจัยที่ส่งผลต่อการเลิกใช้บริการ (Customer Churn) ด้วย Logistic regression\" คือ internertService Contract เเละ OnlineSecurity เพื่อศึกษาระยะเวลาที่ลูกค้าจะเลิกใช้บริการด้วย Survival Analysis\n"
      ]
    },
    {
      "cell_type": "markdown",
      "metadata": {
        "id": "sEvXRpFytMME"
      },
      "source": [
        "###  ข้อมูล : เเหล่งที่มา https://www.kaggle.com/blastchar/telco-customer-churn/notebooks\n",
        "\n",
        "####ตัวเเปร\n",
        "- customer ID: รหัสลูกค้า\n",
        "- gender: ไม่ว่าลูกค้าจะเป็นชายหรือหญิง(0,1)\n",
        "- SeniorCitizen: ลูกค้าเป็นผู้สูงอายุหรือไม่ (1, 0)\n",
        "- Partner: ไม่ว่าลูกค้าจะมีหุ้นส่วนหรือไม่ (ใช่,ไม่ใช่)\n",
        "- Dependents: ลูกค้ามีผู้อยู่ในอุปการะหรือไม่ (ใช่,ไม่ใช่)\n",
        "- tenure: จำนวนเดือนที่ลูกค้าอยู่กับบริษัท\n",
        "- PhoneService: ไม่ว่าลูกค้าจะมีบริการโทรศัพท์หรือไม่ (ใช่,ไม่ใช่)\n",
        "- MultipleLines: ลูกค้ามีหลายLinesหรือไม่ (ใช่,ไม่ใช่,ไม่มีโทรศัพท์)\n",
        "- InternetService: ผู้ให้บริการอินเทอร์เน็ตของลูกค้า (DSL, Fiber optic, No)\n",
        "- OnlineSecurity: ลูกค้ามีความปลอดภัยทางออนไลน์หรือไม่ (ใช่,ไม่ใช่,ไม่มีบริการอินเทอร์เน็ต)\n",
        "- OnlineBackup: ลูกค้ามีการสำรองข้อมูลออนไลน์หรือไม่ (ใช่,ไม่ใช่,ไม่มีบริการอินเทอร์เน็ต)\n",
        "- DeviceProtection: ไม่ว่าลูกค้าจะมีการป้องกันอุปกรณ์หรือไม่ (ใช่,ไม่ใช่,ไม่มีบริการอินเทอร์เน็ต)\n",
        "- TechSupport: ลูกค้ามีการสนับสนุนด้านเทคนิคหรือไม่ (ใช่,ไม่ใช่,ไม่มีบริการอินเทอร์เน็ต)\n",
        "- StreamingTV: ไม่ว่าลูกค้าจะสตรีมทีวีหรือไม่(ใช่,ไม่ใช่,ไม่มีบริการอินเทอร์เน็ต)\n",
        "- StreamingMovies: ลูกค้ามีการสตรีมภาพยนตร์หรือไม่ (ใช่,ไม่ใช่,ไม่มีบริการอินเทอร์เน็ต)\n",
        "- Contract : ระยะสัญญาของลูกค้า (เดือนต่อเดือนหนึ่งปีสองปี)\n",
        "- PaperlessBilling: ลูกค้ามีการเรียกเก็บเงินแบบไม่ใช้กระดาษหรือไม่ (ใช่,ไม่ใช่)\n",
        "- PaymentMethod: วิธีการชำระเงินของลูกค้า (เช็คอิเล็กทรอนิกส์,เช็คไปรษณีย์โอนเงิน,ผ่านธนาคาร (อัตโนมัติ) ,บัตรเครดิต (อัตโนมัติ))\n",
        "- MonthlyCharges: จำนวนเงินที่เรียกเก็บจากลูกค้ารายเดือน\n",
        "- TotalCharges: จำนวนเงินทั้งหมดที่เรียกเก็บจากลูกค้า\n",
        "- Churn: ลูกค้าเลิกใช้บริการหรือไม่ (ใช่,ไม่)\n"
      ]
    },
    {
      "cell_type": "markdown",
      "metadata": {
        "id": "y5iW7wEVtRgM"
      },
      "source": [
        "### วัตถุประสงค์ : \n",
        "\n",
        "\n",
        "1.   เพื่อศึกษาปัจจัยของค้าว่านานเท่าไหร่กว่าลูกค้าจะเลิกใช้บริการ\n",
        "\n"
      ]
    },
    {
      "cell_type": "markdown",
      "metadata": {
        "id": "zWbClo6ksHIr"
      },
      "source": [
        "## import Data"
      ]
    },
    {
      "cell_type": "code",
      "execution_count": 1,
      "metadata": {
        "colab": {
          "base_uri": "https://localhost:8080/"
        },
        "id": "dmN_B4d9qtKF",
        "outputId": "be9f4cf8-b3a8-430a-f616-6111708c0098"
      },
      "outputs": [
        {
          "name": "stdout",
          "output_type": "stream",
          "text": [
            "Collecting lifelines\n",
            "  Downloading lifelines-0.26.4-py3-none-any.whl (348 kB)\n",
            "\u001b[?25l\r\u001b[K     |█                               | 10 kB 23.3 MB/s eta 0:00:01\r\u001b[K     |█▉                              | 20 kB 11.0 MB/s eta 0:00:01\r\u001b[K     |██▉                             | 30 kB 8.5 MB/s eta 0:00:01\r\u001b[K     |███▊                            | 40 kB 7.6 MB/s eta 0:00:01\r\u001b[K     |████▊                           | 51 kB 4.2 MB/s eta 0:00:01\r\u001b[K     |█████▋                          | 61 kB 4.4 MB/s eta 0:00:01\r\u001b[K     |██████▋                         | 71 kB 4.5 MB/s eta 0:00:01\r\u001b[K     |███████▌                        | 81 kB 5.1 MB/s eta 0:00:01\r\u001b[K     |████████▌                       | 92 kB 5.1 MB/s eta 0:00:01\r\u001b[K     |█████████▍                      | 102 kB 4.2 MB/s eta 0:00:01\r\u001b[K     |██████████▍                     | 112 kB 4.2 MB/s eta 0:00:01\r\u001b[K     |███████████▎                    | 122 kB 4.2 MB/s eta 0:00:01\r\u001b[K     |████████████▎                   | 133 kB 4.2 MB/s eta 0:00:01\r\u001b[K     |█████████████▏                  | 143 kB 4.2 MB/s eta 0:00:01\r\u001b[K     |██████████████                  | 153 kB 4.2 MB/s eta 0:00:01\r\u001b[K     |███████████████                 | 163 kB 4.2 MB/s eta 0:00:01\r\u001b[K     |████████████████                | 174 kB 4.2 MB/s eta 0:00:01\r\u001b[K     |█████████████████               | 184 kB 4.2 MB/s eta 0:00:01\r\u001b[K     |█████████████████▉              | 194 kB 4.2 MB/s eta 0:00:01\r\u001b[K     |██████████████████▉             | 204 kB 4.2 MB/s eta 0:00:01\r\u001b[K     |███████████████████▊            | 215 kB 4.2 MB/s eta 0:00:01\r\u001b[K     |████████████████████▊           | 225 kB 4.2 MB/s eta 0:00:01\r\u001b[K     |█████████████████████▋          | 235 kB 4.2 MB/s eta 0:00:01\r\u001b[K     |██████████████████████▋         | 245 kB 4.2 MB/s eta 0:00:01\r\u001b[K     |███████████████████████▌        | 256 kB 4.2 MB/s eta 0:00:01\r\u001b[K     |████████████████████████▌       | 266 kB 4.2 MB/s eta 0:00:01\r\u001b[K     |█████████████████████████▍      | 276 kB 4.2 MB/s eta 0:00:01\r\u001b[K     |██████████████████████████▎     | 286 kB 4.2 MB/s eta 0:00:01\r\u001b[K     |███████████████████████████▎    | 296 kB 4.2 MB/s eta 0:00:01\r\u001b[K     |████████████████████████████▏   | 307 kB 4.2 MB/s eta 0:00:01\r\u001b[K     |█████████████████████████████▏  | 317 kB 4.2 MB/s eta 0:00:01\r\u001b[K     |██████████████████████████████  | 327 kB 4.2 MB/s eta 0:00:01\r\u001b[K     |███████████████████████████████ | 337 kB 4.2 MB/s eta 0:00:01\r\u001b[K     |████████████████████████████████| 348 kB 4.2 MB/s eta 0:00:01\r\u001b[K     |████████████████████████████████| 348 kB 4.2 MB/s \n",
            "\u001b[?25hRequirement already satisfied: pandas>=0.23.0 in /usr/local/lib/python3.7/dist-packages (from lifelines) (1.1.5)\n",
            "Requirement already satisfied: autograd>=1.3 in /usr/local/lib/python3.7/dist-packages (from lifelines) (1.3)\n",
            "Collecting autograd-gamma>=0.3\n",
            "  Downloading autograd-gamma-0.5.0.tar.gz (4.0 kB)\n",
            "Requirement already satisfied: scipy>=1.2.0 in /usr/local/lib/python3.7/dist-packages (from lifelines) (1.4.1)\n",
            "Collecting formulaic<0.3,>=0.2.2\n",
            "  Downloading formulaic-0.2.4-py3-none-any.whl (55 kB)\n",
            "\u001b[K     |████████████████████████████████| 55 kB 3.2 MB/s \n",
            "\u001b[?25hRequirement already satisfied: numpy>=1.14.0 in /usr/local/lib/python3.7/dist-packages (from lifelines) (1.19.5)\n",
            "Requirement already satisfied: matplotlib>=3.0 in /usr/local/lib/python3.7/dist-packages (from lifelines) (3.2.2)\n",
            "Requirement already satisfied: future>=0.15.2 in /usr/local/lib/python3.7/dist-packages (from autograd>=1.3->lifelines) (0.16.0)\n",
            "Collecting interface-meta>=1.2\n",
            "  Downloading interface_meta-1.2.4-py2.py3-none-any.whl (14 kB)\n",
            "Requirement already satisfied: wrapt in /usr/local/lib/python3.7/dist-packages (from formulaic<0.3,>=0.2.2->lifelines) (1.13.3)\n",
            "Requirement already satisfied: astor in /usr/local/lib/python3.7/dist-packages (from formulaic<0.3,>=0.2.2->lifelines) (0.8.1)\n",
            "Requirement already satisfied: pyparsing!=2.0.4,!=2.1.2,!=2.1.6,>=2.0.1 in /usr/local/lib/python3.7/dist-packages (from matplotlib>=3.0->lifelines) (3.0.6)\n",
            "Requirement already satisfied: cycler>=0.10 in /usr/local/lib/python3.7/dist-packages (from matplotlib>=3.0->lifelines) (0.11.0)\n",
            "Requirement already satisfied: python-dateutil>=2.1 in /usr/local/lib/python3.7/dist-packages (from matplotlib>=3.0->lifelines) (2.8.2)\n",
            "Requirement already satisfied: kiwisolver>=1.0.1 in /usr/local/lib/python3.7/dist-packages (from matplotlib>=3.0->lifelines) (1.3.2)\n",
            "Requirement already satisfied: pytz>=2017.2 in /usr/local/lib/python3.7/dist-packages (from pandas>=0.23.0->lifelines) (2018.9)\n",
            "Requirement already satisfied: six>=1.5 in /usr/local/lib/python3.7/dist-packages (from python-dateutil>=2.1->matplotlib>=3.0->lifelines) (1.15.0)\n",
            "Building wheels for collected packages: autograd-gamma\n",
            "  Building wheel for autograd-gamma (setup.py) ... \u001b[?25l\u001b[?25hdone\n",
            "  Created wheel for autograd-gamma: filename=autograd_gamma-0.5.0-py3-none-any.whl size=4049 sha256=e14efae4b9c5a4f5514c3838d4bb3c9b80e56f1bac073ac89ad808bc5232c4bc\n",
            "  Stored in directory: /root/.cache/pip/wheels/9f/01/ee/1331593abb5725ff7d8c1333aee93a50a1c29d6ddda9665c9f\n",
            "Successfully built autograd-gamma\n",
            "Installing collected packages: interface-meta, formulaic, autograd-gamma, lifelines\n",
            "Successfully installed autograd-gamma-0.5.0 formulaic-0.2.4 interface-meta-1.2.4 lifelines-0.26.4\n"
          ]
        }
      ],
      "source": [
        "!pip install lifelines"
      ]
    },
    {
      "cell_type": "code",
      "execution_count": 1,
      "metadata": {
        "id": "2p99O9ORpwjL"
      },
      "outputs": [],
      "source": [
        "import numpy as np\n",
        "import pandas as pd\n",
        "import matplotlib.pyplot as plt\n",
        "import lifelines"
      ]
    },
    {
      "cell_type": "code",
      "execution_count": 2,
      "metadata": {
        "colab": {
          "base_uri": "https://localhost:8080/"
        },
        "id": "bKguwN3NqtsK",
        "outputId": "6f31cebe-42cc-482d-e8aa-66a7273dc690"
      },
      "outputs": [
        {
          "name": "stdout",
          "output_type": "stream",
          "text": [
            "<class 'pandas.core.frame.DataFrame'>\n",
            "RangeIndex: 7043 entries, 0 to 7042\n",
            "Data columns (total 21 columns):\n",
            " #   Column            Non-Null Count  Dtype  \n",
            "---  ------            --------------  -----  \n",
            " 0   customerID        7043 non-null   object \n",
            " 1   gender            7043 non-null   object \n",
            " 2   SeniorCitizen     7043 non-null   int64  \n",
            " 3   Partner           7043 non-null   object \n",
            " 4   Dependents        7043 non-null   object \n",
            " 5   tenure            7043 non-null   float64\n",
            " 6   PhoneService      7043 non-null   object \n",
            " 7   MultipleLines     7043 non-null   object \n",
            " 8   InternetService   7043 non-null   object \n",
            " 9   OnlineSecurity    7043 non-null   object \n",
            " 10  OnlineBackup      7043 non-null   object \n",
            " 11  DeviceProtection  7043 non-null   object \n",
            " 12  TechSupport       7043 non-null   object \n",
            " 13  StreamingTV       7043 non-null   object \n",
            " 14  StreamingMovies   7043 non-null   object \n",
            " 15  Contract          7043 non-null   object \n",
            " 16  PaperlessBilling  7043 non-null   object \n",
            " 17  PaymentMethod     7043 non-null   object \n",
            " 18  MonthlyCharges    7043 non-null   float64\n",
            " 19  TotalCharges      7043 non-null   object \n",
            " 20  Churn             7043 non-null   bool   \n",
            "dtypes: bool(1), float64(2), int64(1), object(17)\n",
            "memory usage: 1.1+ MB\n"
          ]
        }
      ],
      "source": [
        "df = pd.read_csv('WA_Fn-UseC_-Telco-Customer-Churn.csv')\n",
        "df['tenure'] = df['tenure'].astype(float)\n",
        "df['Churn'] = df['Churn'] == 'Yes'\n",
        "df.info()"
      ]
    },
    {
      "cell_type": "code",
      "execution_count": 3,
      "metadata": {
        "colab": {
          "base_uri": "https://localhost:8080/",
          "height": 357
        },
        "id": "6nG1SahUys5x",
        "outputId": "955fe8d5-d1ec-464a-a9ec-02bf63d06574"
      },
      "outputs": [
        {
          "data": {
            "text/html": [
              "<div><div id=e003c6b6-15ce-4cf0-86b6-e147a1127ec8 style=\"display:none; background-color:#9D6CFF; color:white; width:200px; height:30px; padding-left:5px; border-radius:4px; flex-direction:row; justify-content:space-around; align-items:center;\" onmouseover=\"this.style.backgroundColor='#BA9BF8'\" onmouseout=\"this.style.backgroundColor='#9D6CFF'\" onclick=\"window.commands?.execute('create-mitosheet-from-dataframe-output');\">See Full Dataframe in Mito</div> <script> if (window.commands.hasCommand('create-mitosheet-from-dataframe-output')) document.getElementById('e003c6b6-15ce-4cf0-86b6-e147a1127ec8').style.display = 'flex' </script> <table border=\"1\" class=\"dataframe\">\n",
              "  <thead>\n",
              "    <tr style=\"text-align: right;\">\n",
              "      <th></th>\n",
              "      <th>customerID</th>\n",
              "      <th>gender</th>\n",
              "      <th>SeniorCitizen</th>\n",
              "      <th>Partner</th>\n",
              "      <th>Dependents</th>\n",
              "      <th>tenure</th>\n",
              "      <th>PhoneService</th>\n",
              "      <th>MultipleLines</th>\n",
              "      <th>InternetService</th>\n",
              "      <th>OnlineSecurity</th>\n",
              "      <th>...</th>\n",
              "      <th>DeviceProtection</th>\n",
              "      <th>TechSupport</th>\n",
              "      <th>StreamingTV</th>\n",
              "      <th>StreamingMovies</th>\n",
              "      <th>Contract</th>\n",
              "      <th>PaperlessBilling</th>\n",
              "      <th>PaymentMethod</th>\n",
              "      <th>MonthlyCharges</th>\n",
              "      <th>TotalCharges</th>\n",
              "      <th>Churn</th>\n",
              "    </tr>\n",
              "  </thead>\n",
              "  <tbody>\n",
              "    <tr>\n",
              "      <th>0</th>\n",
              "      <td>7590-VHVEG</td>\n",
              "      <td>Female</td>\n",
              "      <td>0</td>\n",
              "      <td>Yes</td>\n",
              "      <td>No</td>\n",
              "      <td>1.0</td>\n",
              "      <td>No</td>\n",
              "      <td>No phone service</td>\n",
              "      <td>DSL</td>\n",
              "      <td>No</td>\n",
              "      <td>...</td>\n",
              "      <td>No</td>\n",
              "      <td>No</td>\n",
              "      <td>No</td>\n",
              "      <td>No</td>\n",
              "      <td>Month-to-month</td>\n",
              "      <td>Yes</td>\n",
              "      <td>Electronic check</td>\n",
              "      <td>29.85</td>\n",
              "      <td>29.85</td>\n",
              "      <td>False</td>\n",
              "    </tr>\n",
              "    <tr>\n",
              "      <th>1</th>\n",
              "      <td>5575-GNVDE</td>\n",
              "      <td>Male</td>\n",
              "      <td>0</td>\n",
              "      <td>No</td>\n",
              "      <td>No</td>\n",
              "      <td>34.0</td>\n",
              "      <td>Yes</td>\n",
              "      <td>No</td>\n",
              "      <td>DSL</td>\n",
              "      <td>Yes</td>\n",
              "      <td>...</td>\n",
              "      <td>Yes</td>\n",
              "      <td>No</td>\n",
              "      <td>No</td>\n",
              "      <td>No</td>\n",
              "      <td>One year</td>\n",
              "      <td>No</td>\n",
              "      <td>Mailed check</td>\n",
              "      <td>56.95</td>\n",
              "      <td>1889.5</td>\n",
              "      <td>False</td>\n",
              "    </tr>\n",
              "    <tr>\n",
              "      <th>2</th>\n",
              "      <td>3668-QPYBK</td>\n",
              "      <td>Male</td>\n",
              "      <td>0</td>\n",
              "      <td>No</td>\n",
              "      <td>No</td>\n",
              "      <td>2.0</td>\n",
              "      <td>Yes</td>\n",
              "      <td>No</td>\n",
              "      <td>DSL</td>\n",
              "      <td>Yes</td>\n",
              "      <td>...</td>\n",
              "      <td>No</td>\n",
              "      <td>No</td>\n",
              "      <td>No</td>\n",
              "      <td>No</td>\n",
              "      <td>Month-to-month</td>\n",
              "      <td>Yes</td>\n",
              "      <td>Mailed check</td>\n",
              "      <td>53.85</td>\n",
              "      <td>108.15</td>\n",
              "      <td>True</td>\n",
              "    </tr>\n",
              "    <tr>\n",
              "      <th>3</th>\n",
              "      <td>7795-CFOCW</td>\n",
              "      <td>Male</td>\n",
              "      <td>0</td>\n",
              "      <td>No</td>\n",
              "      <td>No</td>\n",
              "      <td>45.0</td>\n",
              "      <td>No</td>\n",
              "      <td>No phone service</td>\n",
              "      <td>DSL</td>\n",
              "      <td>Yes</td>\n",
              "      <td>...</td>\n",
              "      <td>Yes</td>\n",
              "      <td>Yes</td>\n",
              "      <td>No</td>\n",
              "      <td>No</td>\n",
              "      <td>One year</td>\n",
              "      <td>No</td>\n",
              "      <td>Bank transfer (automatic)</td>\n",
              "      <td>42.30</td>\n",
              "      <td>1840.75</td>\n",
              "      <td>False</td>\n",
              "    </tr>\n",
              "    <tr>\n",
              "      <th>4</th>\n",
              "      <td>9237-HQITU</td>\n",
              "      <td>Female</td>\n",
              "      <td>0</td>\n",
              "      <td>No</td>\n",
              "      <td>No</td>\n",
              "      <td>2.0</td>\n",
              "      <td>Yes</td>\n",
              "      <td>No</td>\n",
              "      <td>Fiber optic</td>\n",
              "      <td>No</td>\n",
              "      <td>...</td>\n",
              "      <td>No</td>\n",
              "      <td>No</td>\n",
              "      <td>No</td>\n",
              "      <td>No</td>\n",
              "      <td>Month-to-month</td>\n",
              "      <td>Yes</td>\n",
              "      <td>Electronic check</td>\n",
              "      <td>70.70</td>\n",
              "      <td>151.65</td>\n",
              "      <td>True</td>\n",
              "    </tr>\n",
              "  </tbody>\n",
              "</table></div>"
            ],
            "text/plain": [
              "   customerID  gender  SeniorCitizen Partner Dependents  tenure PhoneService  \\\n",
              "0  7590-VHVEG  Female              0     Yes         No     1.0           No   \n",
              "1  5575-GNVDE    Male              0      No         No    34.0          Yes   \n",
              "2  3668-QPYBK    Male              0      No         No     2.0          Yes   \n",
              "3  7795-CFOCW    Male              0      No         No    45.0           No   \n",
              "4  9237-HQITU  Female              0      No         No     2.0          Yes   \n",
              "\n",
              "      MultipleLines InternetService OnlineSecurity  ... DeviceProtection  \\\n",
              "0  No phone service             DSL             No  ...               No   \n",
              "1                No             DSL            Yes  ...              Yes   \n",
              "2                No             DSL            Yes  ...               No   \n",
              "3  No phone service             DSL            Yes  ...              Yes   \n",
              "4                No     Fiber optic             No  ...               No   \n",
              "\n",
              "  TechSupport StreamingTV StreamingMovies        Contract PaperlessBilling  \\\n",
              "0          No          No              No  Month-to-month              Yes   \n",
              "1          No          No              No        One year               No   \n",
              "2          No          No              No  Month-to-month              Yes   \n",
              "3         Yes          No              No        One year               No   \n",
              "4          No          No              No  Month-to-month              Yes   \n",
              "\n",
              "               PaymentMethod MonthlyCharges  TotalCharges  Churn  \n",
              "0           Electronic check          29.85         29.85  False  \n",
              "1               Mailed check          56.95        1889.5  False  \n",
              "2               Mailed check          53.85        108.15   True  \n",
              "3  Bank transfer (automatic)          42.30       1840.75  False  \n",
              "4           Electronic check          70.70        151.65   True  \n",
              "\n",
              "[5 rows x 21 columns]"
            ]
          },
          "execution_count": 3,
          "metadata": {},
          "output_type": "execute_result"
        }
      ],
      "source": [
        "df.head()"
      ]
    },
    {
      "cell_type": "markdown",
      "metadata": {
        "id": "f-YmHCMSsC4D"
      },
      "source": [
        "## Kaplan-Meier survival curve"
      ]
    },
    {
      "cell_type": "code",
      "execution_count": 4,
      "metadata": {
        "colab": {
          "base_uri": "https://localhost:8080/"
        },
        "id": "Wpjzd1xFrAyK",
        "outputId": "145ea6e2-d9a9-453c-df5b-2cb90c3aec3a"
      },
      "outputs": [
        {
          "data": {
            "text/plain": [
              "array([False, False,  True, ..., False,  True, False])"
            ]
          },
          "execution_count": 4,
          "metadata": {},
          "output_type": "execute_result"
        }
      ],
      "source": [
        "# fitting kmf to churn data\n",
        "t = df['tenure'].values\n",
        "churn = df['Churn'].values\n",
        "\n",
        "churn"
      ]
    },
    {
      "cell_type": "code",
      "execution_count": 5,
      "metadata": {
        "colab": {
          "base_uri": "https://localhost:8080/",
          "height": 458
        },
        "id": "7LM1VvdEmmJV",
        "outputId": "f553517e-c78d-41ee-f9f9-24fcde73ffb3"
      },
      "outputs": [
        {
          "data": {
            "image/png": "[encoded data removed]",
            "text/plain": [
              "<Figure size 720x504 with 1 Axes>"
            ]
          },
          "metadata": {
            "needs_background": "light"
          },
          "output_type": "display_data"
        }
      ],
      "source": [
        "kmf = lifelines.KaplanMeierFitter()\n",
        "kmf.fit(t, event_observed=churn, label='Estimate for Average Customer')\n",
        "\n",
        "# plotting kmf curve\n",
        "fig, ax = plt.subplots(figsize=(10,7))\n",
        "kmf.plot(ax=ax)\n",
        "ax.set_title('Kaplan-Meier Survival Curve - All Customers')\n",
        "ax.set_xlabel('Customer Tenure (Months)')\n",
        "ax.set_ylabel('Customer Survival Chance (%)')\n",
        "plt.show()"
      ]
    },
    {
      "cell_type": "markdown",
      "metadata": {
        "id": "H9DK96agtg9a"
      },
      "source": [
        "* เส้นโค้ง Survival แบบสะสม พบว่า หลังจาก 20 เดือน โอกาสที่ลูกค้าจะไม่ยกเลิกบริการมี 80% (20% เลิกใช้บริการ) แม้ว่าหลังจากผ่านไป 72 เดือน บริษัทก็สามารถรักษาลูกค้าไว้ได้ 60% (40% เลิกใช้บริการ)"
      ]
    },
    {
      "cell_type": "code",
      "execution_count": 6,
      "metadata": {
        "id": "SPCvX75F5TQq"
      },
      "outputs": [],
      "source": [
        "features_to_drop = ['customerID', 'gender', 'PhoneService', 'InternetService', 'Churn'] ## ตัวแปรที่ไม่มมีความสัมพันธ์กับ CHurn ด้วย Chi - sq\n",
        "# engineering numeric columns for Cox Proportional Hazard estimation\n",
        "churn = df.drop(features_to_drop, axis=1).copy()\n",
        "\n",
        "# convert some stuff to integers\n",
        "churn['TotalCharges'] = pd.to_numeric(churn['TotalCharges'], errors='coerce')\n",
        "churn['TotalCharges'].fillna(0, inplace=True)"
      ]
    },
    {
      "cell_type": "code",
      "execution_count": 7,
      "metadata": {
        "colab": {
          "base_uri": "https://localhost:8080/",
          "height": 340
        },
        "id": "KzXfE_hg5isJ",
        "outputId": "c99c94b0-c0ca-431c-93a3-ce3699aef07c"
      },
      "outputs": [
        {
          "data": {
            "text/html": [
              "<div><div id=3b2109dd-0377-4f7c-a312-6f5d724cd852 style=\"display:none; background-color:#9D6CFF; color:white; width:200px; height:30px; padding-left:5px; border-radius:4px; flex-direction:row; justify-content:space-around; align-items:center;\" onmouseover=\"this.style.backgroundColor='#BA9BF8'\" onmouseout=\"this.style.backgroundColor='#9D6CFF'\" onclick=\"window.commands?.execute('create-mitosheet-from-dataframe-output');\">See Full Dataframe in Mito</div> <script> if (window.commands.hasCommand('create-mitosheet-from-dataframe-output')) document.getElementById('3b2109dd-0377-4f7c-a312-6f5d724cd852').style.display = 'flex' </script> <table border=\"1\" class=\"dataframe\">\n",
              "  <thead>\n",
              "    <tr style=\"text-align: right;\">\n",
              "      <th></th>\n",
              "      <th>SeniorCitizen</th>\n",
              "      <th>Partner</th>\n",
              "      <th>Dependents</th>\n",
              "      <th>tenure</th>\n",
              "      <th>MultipleLines</th>\n",
              "      <th>OnlineSecurity</th>\n",
              "      <th>OnlineBackup</th>\n",
              "      <th>DeviceProtection</th>\n",
              "      <th>TechSupport</th>\n",
              "      <th>StreamingTV</th>\n",
              "      <th>StreamingMovies</th>\n",
              "      <th>Contract</th>\n",
              "      <th>PaperlessBilling</th>\n",
              "      <th>PaymentMethod</th>\n",
              "      <th>MonthlyCharges</th>\n",
              "      <th>TotalCharges</th>\n",
              "    </tr>\n",
              "  </thead>\n",
              "  <tbody>\n",
              "    <tr>\n",
              "      <th>0</th>\n",
              "      <td>0</td>\n",
              "      <td>Yes</td>\n",
              "      <td>No</td>\n",
              "      <td>1.0</td>\n",
              "      <td>No phone service</td>\n",
              "      <td>No</td>\n",
              "      <td>Yes</td>\n",
              "      <td>No</td>\n",
              "      <td>No</td>\n",
              "      <td>No</td>\n",
              "      <td>No</td>\n",
              "      <td>Month-to-month</td>\n",
              "      <td>Yes</td>\n",
              "      <td>Electronic check</td>\n",
              "      <td>29.85</td>\n",
              "      <td>29.85</td>\n",
              "    </tr>\n",
              "    <tr>\n",
              "      <th>1</th>\n",
              "      <td>0</td>\n",
              "      <td>No</td>\n",
              "      <td>No</td>\n",
              "      <td>34.0</td>\n",
              "      <td>No</td>\n",
              "      <td>Yes</td>\n",
              "      <td>No</td>\n",
              "      <td>Yes</td>\n",
              "      <td>No</td>\n",
              "      <td>No</td>\n",
              "      <td>No</td>\n",
              "      <td>One year</td>\n",
              "      <td>No</td>\n",
              "      <td>Mailed check</td>\n",
              "      <td>56.95</td>\n",
              "      <td>1889.50</td>\n",
              "    </tr>\n",
              "    <tr>\n",
              "      <th>2</th>\n",
              "      <td>0</td>\n",
              "      <td>No</td>\n",
              "      <td>No</td>\n",
              "      <td>2.0</td>\n",
              "      <td>No</td>\n",
              "      <td>Yes</td>\n",
              "      <td>Yes</td>\n",
              "      <td>No</td>\n",
              "      <td>No</td>\n",
              "      <td>No</td>\n",
              "      <td>No</td>\n",
              "      <td>Month-to-month</td>\n",
              "      <td>Yes</td>\n",
              "      <td>Mailed check</td>\n",
              "      <td>53.85</td>\n",
              "      <td>108.15</td>\n",
              "    </tr>\n",
              "    <tr>\n",
              "      <th>3</th>\n",
              "      <td>0</td>\n",
              "      <td>No</td>\n",
              "      <td>No</td>\n",
              "      <td>45.0</td>\n",
              "      <td>No phone service</td>\n",
              "      <td>Yes</td>\n",
              "      <td>No</td>\n",
              "      <td>Yes</td>\n",
              "      <td>Yes</td>\n",
              "      <td>No</td>\n",
              "      <td>No</td>\n",
              "      <td>One year</td>\n",
              "      <td>No</td>\n",
              "      <td>Bank transfer (automatic)</td>\n",
              "      <td>42.30</td>\n",
              "      <td>1840.75</td>\n",
              "    </tr>\n",
              "    <tr>\n",
              "      <th>4</th>\n",
              "      <td>0</td>\n",
              "      <td>No</td>\n",
              "      <td>No</td>\n",
              "      <td>2.0</td>\n",
              "      <td>No</td>\n",
              "      <td>No</td>\n",
              "      <td>No</td>\n",
              "      <td>No</td>\n",
              "      <td>No</td>\n",
              "      <td>No</td>\n",
              "      <td>No</td>\n",
              "      <td>Month-to-month</td>\n",
              "      <td>Yes</td>\n",
              "      <td>Electronic check</td>\n",
              "      <td>70.70</td>\n",
              "      <td>151.65</td>\n",
              "    </tr>\n",
              "  </tbody>\n",
              "</table></div>"
            ],
            "text/plain": [
              "   SeniorCitizen Partner Dependents  tenure     MultipleLines OnlineSecurity  \\\n",
              "0              0     Yes         No     1.0  No phone service             No   \n",
              "1              0      No         No    34.0                No            Yes   \n",
              "2              0      No         No     2.0                No            Yes   \n",
              "3              0      No         No    45.0  No phone service            Yes   \n",
              "4              0      No         No     2.0                No             No   \n",
              "\n",
              "  OnlineBackup DeviceProtection TechSupport StreamingTV StreamingMovies  \\\n",
              "0          Yes               No          No          No              No   \n",
              "1           No              Yes          No          No              No   \n",
              "2          Yes               No          No          No              No   \n",
              "3           No              Yes         Yes          No              No   \n",
              "4           No               No          No          No              No   \n",
              "\n",
              "         Contract PaperlessBilling              PaymentMethod  MonthlyCharges  \\\n",
              "0  Month-to-month              Yes           Electronic check           29.85   \n",
              "1        One year               No               Mailed check           56.95   \n",
              "2  Month-to-month              Yes               Mailed check           53.85   \n",
              "3        One year               No  Bank transfer (automatic)           42.30   \n",
              "4  Month-to-month              Yes           Electronic check           70.70   \n",
              "\n",
              "   TotalCharges  \n",
              "0         29.85  \n",
              "1       1889.50  \n",
              "2        108.15  \n",
              "3       1840.75  \n",
              "4        151.65  "
            ]
          },
          "execution_count": 7,
          "metadata": {},
          "output_type": "execute_result"
        }
      ],
      "source": [
        "churn.head()"
      ]
    },
    {
      "cell_type": "code",
      "execution_count": 8,
      "metadata": {
        "colab": {
          "base_uri": "https://localhost:8080/"
        },
        "id": "M54JoKnY5Ub4",
        "outputId": "56365309-c8de-42c6-a4f8-9577670faba1"
      },
      "outputs": [
        {
          "name": "stdout",
          "output_type": "stream",
          "text": [
            "Partner  : ['Yes' 'No']\n",
            "Dependents  : ['No' 'Yes']\n",
            "MultipleLines  : ['No phone service' 'No' 'Yes']\n",
            "OnlineSecurity  : ['No' 'Yes' 'No internet service']\n",
            "OnlineBackup  : ['Yes' 'No' 'No internet service']\n",
            "DeviceProtection  : ['No' 'Yes' 'No internet service']\n",
            "TechSupport  : ['No' 'Yes' 'No internet service']\n",
            "StreamingTV  : ['No' 'Yes' 'No internet service']\n",
            "StreamingMovies  : ['No' 'Yes' 'No internet service']\n",
            "Contract  : ['Month-to-month' 'One year' 'Two year']\n",
            "PaperlessBilling  : ['Yes' 'No']\n",
            "PaymentMethod  : ['Electronic check' 'Mailed check' 'Bank transfer (automatic)'\n",
            " 'Credit card (automatic)']\n",
            "None\n"
          ]
        }
      ],
      "source": [
        "def uni_col_val(df):\n",
        "    for column in df:\n",
        "        if churn[column].dtype == 'object':\n",
        "            print(f'{column}  : {churn[column].unique()}')\n",
        "\n",
        "print(uni_col_val(churn))"
      ]
    },
    {
      "cell_type": "code",
      "execution_count": 9,
      "metadata": {
        "id": "054C3HkTrnPo"
      },
      "outputs": [],
      "source": [
        "features_to_drop = ['customerID', 'gender', 'PhoneService', 'InternetService'] ## ตัวแปรที่ไม่มมีความสัมพันธ์กับ CHurn ด้วย Chi - sq\n",
        "# engineering numeric columns for Cox Proportional Hazard estimation\n",
        "churn = df.drop(features_to_drop, axis=1).copy()\n",
        "\n",
        "# convert some stuff to integers\n",
        "churn['TotalCharges'] = pd.to_numeric(churn['TotalCharges'], errors='coerce')\n",
        "churn['TotalCharges'].fillna(0, inplace=True)\n",
        "\n",
        "# a lot of variables are encoded as 'Yes' or 'No', lets get these all done at once\n",
        "binary_features = ['Partner', 'Dependents', 'OnlineSecurity', 'OnlineBackup', 'DeviceProtection', 'TechSupport', \n",
        "                   'StreamingTV','StreamingMovies', 'PaperlessBilling']\n",
        "for feat in binary_features:\n",
        "    churn[feat] = churn[feat] == 'Yes'\n",
        "    \n",
        "# let's one hot encode the remaining categorical features\n",
        "ohe_features = ['MultipleLines', 'Contract', 'PaymentMethod']\n",
        "churn = pd.get_dummies(churn, \n",
        "                              drop_first=True,\n",
        "                              columns=ohe_features)"
      ]
    },
    {
      "cell_type": "code",
      "execution_count": 10,
      "metadata": {
        "colab": {
          "base_uri": "https://localhost:8080/",
          "height": 288
        },
        "id": "fBboVX17v1pA",
        "outputId": "c15261bf-26e3-4876-eb26-31a58e155152"
      },
      "outputs": [
        {
          "data": {
            "text/html": [
              "<div><div id=8600ded6-3f22-465d-86c4-d202deb28911 style=\"display:none; background-color:#9D6CFF; color:white; width:200px; height:30px; padding-left:5px; border-radius:4px; flex-direction:row; justify-content:space-around; align-items:center;\" onmouseover=\"this.style.backgroundColor='#BA9BF8'\" onmouseout=\"this.style.backgroundColor='#9D6CFF'\" onclick=\"window.commands?.execute('create-mitosheet-from-dataframe-output');\">See Full Dataframe in Mito</div> <script> if (window.commands.hasCommand('create-mitosheet-from-dataframe-output')) document.getElementById('8600ded6-3f22-465d-86c4-d202deb28911').style.display = 'flex' </script> <table border=\"1\" class=\"dataframe\">\n",
              "  <thead>\n",
              "    <tr style=\"text-align: right;\">\n",
              "      <th></th>\n",
              "      <th>SeniorCitizen</th>\n",
              "      <th>Partner</th>\n",
              "      <th>Dependents</th>\n",
              "      <th>tenure</th>\n",
              "      <th>OnlineSecurity</th>\n",
              "      <th>OnlineBackup</th>\n",
              "      <th>DeviceProtection</th>\n",
              "      <th>TechSupport</th>\n",
              "      <th>StreamingTV</th>\n",
              "      <th>StreamingMovies</th>\n",
              "      <th>...</th>\n",
              "      <th>MonthlyCharges</th>\n",
              "      <th>TotalCharges</th>\n",
              "      <th>Churn</th>\n",
              "      <th>MultipleLines_No phone service</th>\n",
              "      <th>MultipleLines_Yes</th>\n",
              "      <th>Contract_One year</th>\n",
              "      <th>Contract_Two year</th>\n",
              "      <th>PaymentMethod_Credit card (automatic)</th>\n",
              "      <th>PaymentMethod_Electronic check</th>\n",
              "      <th>PaymentMethod_Mailed check</th>\n",
              "    </tr>\n",
              "  </thead>\n",
              "  <tbody>\n",
              "    <tr>\n",
              "      <th>0</th>\n",
              "      <td>0</td>\n",
              "      <td>True</td>\n",
              "      <td>False</td>\n",
              "      <td>1.0</td>\n",
              "      <td>False</td>\n",
              "      <td>True</td>\n",
              "      <td>False</td>\n",
              "      <td>False</td>\n",
              "      <td>False</td>\n",
              "      <td>False</td>\n",
              "      <td>...</td>\n",
              "      <td>29.85</td>\n",
              "      <td>29.85</td>\n",
              "      <td>False</td>\n",
              "      <td>1</td>\n",
              "      <td>0</td>\n",
              "      <td>0</td>\n",
              "      <td>0</td>\n",
              "      <td>0</td>\n",
              "      <td>1</td>\n",
              "      <td>0</td>\n",
              "    </tr>\n",
              "    <tr>\n",
              "      <th>1</th>\n",
              "      <td>0</td>\n",
              "      <td>False</td>\n",
              "      <td>False</td>\n",
              "      <td>34.0</td>\n",
              "      <td>True</td>\n",
              "      <td>False</td>\n",
              "      <td>True</td>\n",
              "      <td>False</td>\n",
              "      <td>False</td>\n",
              "      <td>False</td>\n",
              "      <td>...</td>\n",
              "      <td>56.95</td>\n",
              "      <td>1889.50</td>\n",
              "      <td>False</td>\n",
              "      <td>0</td>\n",
              "      <td>0</td>\n",
              "      <td>1</td>\n",
              "      <td>0</td>\n",
              "      <td>0</td>\n",
              "      <td>0</td>\n",
              "      <td>1</td>\n",
              "    </tr>\n",
              "    <tr>\n",
              "      <th>2</th>\n",
              "      <td>0</td>\n",
              "      <td>False</td>\n",
              "      <td>False</td>\n",
              "      <td>2.0</td>\n",
              "      <td>True</td>\n",
              "      <td>True</td>\n",
              "      <td>False</td>\n",
              "      <td>False</td>\n",
              "      <td>False</td>\n",
              "      <td>False</td>\n",
              "      <td>...</td>\n",
              "      <td>53.85</td>\n",
              "      <td>108.15</td>\n",
              "      <td>True</td>\n",
              "      <td>0</td>\n",
              "      <td>0</td>\n",
              "      <td>0</td>\n",
              "      <td>0</td>\n",
              "      <td>0</td>\n",
              "      <td>0</td>\n",
              "      <td>1</td>\n",
              "    </tr>\n",
              "    <tr>\n",
              "      <th>3</th>\n",
              "      <td>0</td>\n",
              "      <td>False</td>\n",
              "      <td>False</td>\n",
              "      <td>45.0</td>\n",
              "      <td>True</td>\n",
              "      <td>False</td>\n",
              "      <td>True</td>\n",
              "      <td>True</td>\n",
              "      <td>False</td>\n",
              "      <td>False</td>\n",
              "      <td>...</td>\n",
              "      <td>42.30</td>\n",
              "      <td>1840.75</td>\n",
              "      <td>False</td>\n",
              "      <td>1</td>\n",
              "      <td>0</td>\n",
              "      <td>1</td>\n",
              "      <td>0</td>\n",
              "      <td>0</td>\n",
              "      <td>0</td>\n",
              "      <td>0</td>\n",
              "    </tr>\n",
              "    <tr>\n",
              "      <th>4</th>\n",
              "      <td>0</td>\n",
              "      <td>False</td>\n",
              "      <td>False</td>\n",
              "      <td>2.0</td>\n",
              "      <td>False</td>\n",
              "      <td>False</td>\n",
              "      <td>False</td>\n",
              "      <td>False</td>\n",
              "      <td>False</td>\n",
              "      <td>False</td>\n",
              "      <td>...</td>\n",
              "      <td>70.70</td>\n",
              "      <td>151.65</td>\n",
              "      <td>True</td>\n",
              "      <td>0</td>\n",
              "      <td>0</td>\n",
              "      <td>0</td>\n",
              "      <td>0</td>\n",
              "      <td>0</td>\n",
              "      <td>1</td>\n",
              "      <td>0</td>\n",
              "    </tr>\n",
              "  </tbody>\n",
              "</table></div>"
            ],
            "text/plain": [
              "   SeniorCitizen  Partner  Dependents  tenure  OnlineSecurity  OnlineBackup  \\\n",
              "0              0     True       False     1.0           False          True   \n",
              "1              0    False       False    34.0            True         False   \n",
              "2              0    False       False     2.0            True          True   \n",
              "3              0    False       False    45.0            True         False   \n",
              "4              0    False       False     2.0           False         False   \n",
              "\n",
              "   DeviceProtection  TechSupport  StreamingTV  StreamingMovies  ...  \\\n",
              "0             False        False        False            False  ...   \n",
              "1              True        False        False            False  ...   \n",
              "2             False        False        False            False  ...   \n",
              "3              True         True        False            False  ...   \n",
              "4             False        False        False            False  ...   \n",
              "\n",
              "   MonthlyCharges  TotalCharges  Churn  MultipleLines_No phone service  \\\n",
              "0           29.85         29.85  False                               1   \n",
              "1           56.95       1889.50  False                               0   \n",
              "2           53.85        108.15   True                               0   \n",
              "3           42.30       1840.75  False                               1   \n",
              "4           70.70        151.65   True                               0   \n",
              "\n",
              "   MultipleLines_Yes  Contract_One year  Contract_Two year  \\\n",
              "0                  0                  0                  0   \n",
              "1                  0                  1                  0   \n",
              "2                  0                  0                  0   \n",
              "3                  0                  1                  0   \n",
              "4                  0                  0                  0   \n",
              "\n",
              "   PaymentMethod_Credit card (automatic)  PaymentMethod_Electronic check  \\\n",
              "0                                      0                               1   \n",
              "1                                      0                               0   \n",
              "2                                      0                               0   \n",
              "3                                      0                               0   \n",
              "4                                      0                               1   \n",
              "\n",
              "   PaymentMethod_Mailed check  \n",
              "0                           0  \n",
              "1                           1  \n",
              "2                           1  \n",
              "3                           0  \n",
              "4                           0  \n",
              "\n",
              "[5 rows x 21 columns]"
            ]
          },
          "execution_count": 10,
          "metadata": {},
          "output_type": "execute_result"
        }
      ],
      "source": [
        "churn.head()"
      ]
    },
    {
      "cell_type": "code",
      "execution_count": 11,
      "metadata": {
        "colab": {
          "base_uri": "https://localhost:8080/"
        },
        "id": "LuAWBD3Z29Nf",
        "outputId": "914c29ec-58c3-40e7-a7ad-e7323fd6947a"
      },
      "outputs": [
        {
          "name": "stdout",
          "output_type": "stream",
          "text": [
            "None\n"
          ]
        }
      ],
      "source": [
        "def uni_col_val(df):\n",
        "    for column in df:\n",
        "        if churn[column].dtype == 'object':\n",
        "            print(f'{column}  : {churn[column].unique()}')\n",
        "\n",
        "print(uni_col_val(churn))"
      ]
    },
    {
      "cell_type": "code",
      "execution_count": 12,
      "metadata": {
        "colab": {
          "base_uri": "https://localhost:8080/",
          "height": 1000
        },
        "id": "CaImw2R6v_a5",
        "outputId": "0cb2c19c-3ca4-41ec-9c52-d704d6fee769"
      },
      "outputs": [
        {
          "data": {
            "text/html": [
              "<div>\n",
              "<style scoped>\n",
              "    .dataframe tbody tr th:only-of-type {\n",
              "        vertical-align: middle;\n",
              "    }\n",
              "\n",
              "    .dataframe tbody tr th {\n",
              "        vertical-align: top;\n",
              "    }\n",
              "\n",
              "    .dataframe thead th {\n",
              "        text-align: right;\n",
              "    }\n",
              "</style>\n",
              "<table border=\"1\" class=\"dataframe\">\n",
              "  <tbody>\n",
              "    <tr>\n",
              "      <th>model</th>\n",
              "      <td>lifelines.CoxPHFitter</td>\n",
              "    </tr>\n",
              "    <tr>\n",
              "      <th>duration col</th>\n",
              "      <td>'tenure'</td>\n",
              "    </tr>\n",
              "    <tr>\n",
              "      <th>event col</th>\n",
              "      <td>'Churn'</td>\n",
              "    </tr>\n",
              "    <tr>\n",
              "      <th>baseline estimation</th>\n",
              "      <td>breslow</td>\n",
              "    </tr>\n",
              "    <tr>\n",
              "      <th>number of observations</th>\n",
              "      <td>7043</td>\n",
              "    </tr>\n",
              "    <tr>\n",
              "      <th>number of events observed</th>\n",
              "      <td>1869</td>\n",
              "    </tr>\n",
              "    <tr>\n",
              "      <th>partial log-likelihood</th>\n",
              "      <td>-12688.70</td>\n",
              "    </tr>\n",
              "    <tr>\n",
              "      <th>time fit was run</th>\n",
              "      <td>2021-12-31 04:16:49 UTC</td>\n",
              "    </tr>\n",
              "  </tbody>\n",
              "</table>\n",
              "</div><table border=\"1\" class=\"dataframe\">\n",
              "  <thead>\n",
              "    <tr style=\"text-align: right;\">\n",
              "      <th style=\"min-width: 12px;\"></th>\n",
              "      <th style=\"min-width: 12px;\">coef</th>\n",
              "      <th style=\"min-width: 12px;\">exp(coef)</th>\n",
              "      <th style=\"min-width: 12px;\">se(coef)</th>\n",
              "      <th style=\"min-width: 12px;\">coef lower 95%</th>\n",
              "      <th style=\"min-width: 12px;\">coef upper 95%</th>\n",
              "      <th style=\"min-width: 12px;\">exp(coef) lower 95%</th>\n",
              "      <th style=\"min-width: 12px;\">exp(coef) upper 95%</th>\n",
              "      <th style=\"min-width: 12px;\">z</th>\n",
              "      <th style=\"min-width: 12px;\">p</th>\n",
              "      <th style=\"min-width: 12px;\">-log2(p)</th>\n",
              "    </tr>\n",
              "  </thead>\n",
              "  <tbody>\n",
              "    <tr>\n",
              "      <th>SeniorCitizen</th>\n",
              "      <td>0.03</td>\n",
              "      <td>1.03</td>\n",
              "      <td>0.06</td>\n",
              "      <td>-0.08</td>\n",
              "      <td>0.14</td>\n",
              "      <td>0.93</td>\n",
              "      <td>1.16</td>\n",
              "      <td>0.60</td>\n",
              "      <td>0.55</td>\n",
              "      <td>0.87</td>\n",
              "    </tr>\n",
              "    <tr>\n",
              "      <th>Partner</th>\n",
              "      <td>-0.19</td>\n",
              "      <td>0.82</td>\n",
              "      <td>0.06</td>\n",
              "      <td>-0.30</td>\n",
              "      <td>-0.09</td>\n",
              "      <td>0.74</td>\n",
              "      <td>0.92</td>\n",
              "      <td>-3.52</td>\n",
              "      <td>&lt;0.005</td>\n",
              "      <td>11.20</td>\n",
              "    </tr>\n",
              "    <tr>\n",
              "      <th>Dependents</th>\n",
              "      <td>-0.10</td>\n",
              "      <td>0.91</td>\n",
              "      <td>0.07</td>\n",
              "      <td>-0.23</td>\n",
              "      <td>0.04</td>\n",
              "      <td>0.79</td>\n",
              "      <td>1.04</td>\n",
              "      <td>-1.39</td>\n",
              "      <td>0.17</td>\n",
              "      <td>2.60</td>\n",
              "    </tr>\n",
              "    <tr>\n",
              "      <th>OnlineSecurity</th>\n",
              "      <td>-0.38</td>\n",
              "      <td>0.68</td>\n",
              "      <td>0.07</td>\n",
              "      <td>-0.51</td>\n",
              "      <td>-0.25</td>\n",
              "      <td>0.60</td>\n",
              "      <td>0.78</td>\n",
              "      <td>-5.65</td>\n",
              "      <td>&lt;0.005</td>\n",
              "      <td>25.89</td>\n",
              "    </tr>\n",
              "    <tr>\n",
              "      <th>OnlineBackup</th>\n",
              "      <td>-0.29</td>\n",
              "      <td>0.75</td>\n",
              "      <td>0.06</td>\n",
              "      <td>-0.40</td>\n",
              "      <td>-0.18</td>\n",
              "      <td>0.67</td>\n",
              "      <td>0.83</td>\n",
              "      <td>-5.22</td>\n",
              "      <td>&lt;0.005</td>\n",
              "      <td>22.41</td>\n",
              "    </tr>\n",
              "    <tr>\n",
              "      <th>DeviceProtection</th>\n",
              "      <td>-0.16</td>\n",
              "      <td>0.85</td>\n",
              "      <td>0.06</td>\n",
              "      <td>-0.27</td>\n",
              "      <td>-0.05</td>\n",
              "      <td>0.76</td>\n",
              "      <td>0.95</td>\n",
              "      <td>-2.85</td>\n",
              "      <td>&lt;0.005</td>\n",
              "      <td>7.85</td>\n",
              "    </tr>\n",
              "    <tr>\n",
              "      <th>TechSupport</th>\n",
              "      <td>-0.28</td>\n",
              "      <td>0.76</td>\n",
              "      <td>0.07</td>\n",
              "      <td>-0.41</td>\n",
              "      <td>-0.15</td>\n",
              "      <td>0.67</td>\n",
              "      <td>0.86</td>\n",
              "      <td>-4.19</td>\n",
              "      <td>&lt;0.005</td>\n",
              "      <td>15.15</td>\n",
              "    </tr>\n",
              "    <tr>\n",
              "      <th>StreamingTV</th>\n",
              "      <td>-0.27</td>\n",
              "      <td>0.77</td>\n",
              "      <td>0.06</td>\n",
              "      <td>-0.38</td>\n",
              "      <td>-0.15</td>\n",
              "      <td>0.68</td>\n",
              "      <td>0.86</td>\n",
              "      <td>-4.46</td>\n",
              "      <td>&lt;0.005</td>\n",
              "      <td>16.86</td>\n",
              "    </tr>\n",
              "    <tr>\n",
              "      <th>StreamingMovies</th>\n",
              "      <td>-0.26</td>\n",
              "      <td>0.77</td>\n",
              "      <td>0.06</td>\n",
              "      <td>-0.38</td>\n",
              "      <td>-0.14</td>\n",
              "      <td>0.69</td>\n",
              "      <td>0.87</td>\n",
              "      <td>-4.36</td>\n",
              "      <td>&lt;0.005</td>\n",
              "      <td>16.26</td>\n",
              "    </tr>\n",
              "    <tr>\n",
              "      <th>PaperlessBilling</th>\n",
              "      <td>0.16</td>\n",
              "      <td>1.17</td>\n",
              "      <td>0.06</td>\n",
              "      <td>0.05</td>\n",
              "      <td>0.27</td>\n",
              "      <td>1.05</td>\n",
              "      <td>1.31</td>\n",
              "      <td>2.79</td>\n",
              "      <td>0.01</td>\n",
              "      <td>7.57</td>\n",
              "    </tr>\n",
              "    <tr>\n",
              "      <th>MonthlyCharges</th>\n",
              "      <td>0.07</td>\n",
              "      <td>1.07</td>\n",
              "      <td>0.00</td>\n",
              "      <td>0.06</td>\n",
              "      <td>0.07</td>\n",
              "      <td>1.06</td>\n",
              "      <td>1.07</td>\n",
              "      <td>26.59</td>\n",
              "      <td>&lt;0.005</td>\n",
              "      <td>515.01</td>\n",
              "    </tr>\n",
              "    <tr>\n",
              "      <th>TotalCharges</th>\n",
              "      <td>-0.00</td>\n",
              "      <td>1.00</td>\n",
              "      <td>0.00</td>\n",
              "      <td>-0.00</td>\n",
              "      <td>-0.00</td>\n",
              "      <td>1.00</td>\n",
              "      <td>1.00</td>\n",
              "      <td>-40.10</td>\n",
              "      <td>&lt;0.005</td>\n",
              "      <td>inf</td>\n",
              "    </tr>\n",
              "    <tr>\n",
              "      <th>MultipleLines_No phone service</th>\n",
              "      <td>0.64</td>\n",
              "      <td>1.89</td>\n",
              "      <td>0.12</td>\n",
              "      <td>0.41</td>\n",
              "      <td>0.87</td>\n",
              "      <td>1.51</td>\n",
              "      <td>2.38</td>\n",
              "      <td>5.50</td>\n",
              "      <td>&lt;0.005</td>\n",
              "      <td>24.62</td>\n",
              "    </tr>\n",
              "    <tr>\n",
              "      <th>MultipleLines_Yes</th>\n",
              "      <td>-0.20</td>\n",
              "      <td>0.82</td>\n",
              "      <td>0.05</td>\n",
              "      <td>-0.30</td>\n",
              "      <td>-0.09</td>\n",
              "      <td>0.74</td>\n",
              "      <td>0.91</td>\n",
              "      <td>-3.68</td>\n",
              "      <td>&lt;0.005</td>\n",
              "      <td>12.09</td>\n",
              "    </tr>\n",
              "    <tr>\n",
              "      <th>Contract_One year</th>\n",
              "      <td>-1.40</td>\n",
              "      <td>0.25</td>\n",
              "      <td>0.10</td>\n",
              "      <td>-1.60</td>\n",
              "      <td>-1.20</td>\n",
              "      <td>0.20</td>\n",
              "      <td>0.30</td>\n",
              "      <td>-13.78</td>\n",
              "      <td>&lt;0.005</td>\n",
              "      <td>141.13</td>\n",
              "    </tr>\n",
              "    <tr>\n",
              "      <th>Contract_Two year</th>\n",
              "      <td>-4.05</td>\n",
              "      <td>0.02</td>\n",
              "      <td>0.20</td>\n",
              "      <td>-4.43</td>\n",
              "      <td>-3.66</td>\n",
              "      <td>0.01</td>\n",
              "      <td>0.03</td>\n",
              "      <td>-20.74</td>\n",
              "      <td>&lt;0.005</td>\n",
              "      <td>314.88</td>\n",
              "    </tr>\n",
              "    <tr>\n",
              "      <th>PaymentMethod_Credit card (automatic)</th>\n",
              "      <td>-0.01</td>\n",
              "      <td>0.99</td>\n",
              "      <td>0.09</td>\n",
              "      <td>-0.18</td>\n",
              "      <td>0.17</td>\n",
              "      <td>0.83</td>\n",
              "      <td>1.19</td>\n",
              "      <td>-0.06</td>\n",
              "      <td>0.95</td>\n",
              "      <td>0.07</td>\n",
              "    </tr>\n",
              "    <tr>\n",
              "      <th>PaymentMethod_Electronic check</th>\n",
              "      <td>0.38</td>\n",
              "      <td>1.46</td>\n",
              "      <td>0.07</td>\n",
              "      <td>0.24</td>\n",
              "      <td>0.52</td>\n",
              "      <td>1.27</td>\n",
              "      <td>1.69</td>\n",
              "      <td>5.20</td>\n",
              "      <td>&lt;0.005</td>\n",
              "      <td>22.29</td>\n",
              "    </tr>\n",
              "    <tr>\n",
              "      <th>PaymentMethod_Mailed check</th>\n",
              "      <td>0.52</td>\n",
              "      <td>1.68</td>\n",
              "      <td>0.09</td>\n",
              "      <td>0.35</td>\n",
              "      <td>0.69</td>\n",
              "      <td>1.42</td>\n",
              "      <td>1.99</td>\n",
              "      <td>5.96</td>\n",
              "      <td>&lt;0.005</td>\n",
              "      <td>28.57</td>\n",
              "    </tr>\n",
              "  </tbody>\n",
              "</table><br><div>\n",
              "<style scoped>\n",
              "    .dataframe tbody tr th:only-of-type {\n",
              "        vertical-align: middle;\n",
              "    }\n",
              "\n",
              "    .dataframe tbody tr th {\n",
              "        vertical-align: top;\n",
              "    }\n",
              "\n",
              "    .dataframe thead th {\n",
              "        text-align: right;\n",
              "    }\n",
              "</style>\n",
              "<table border=\"1\" class=\"dataframe\">\n",
              "  <tbody>\n",
              "    <tr>\n",
              "      <th>Concordance</th>\n",
              "      <td>0.93</td>\n",
              "    </tr>\n",
              "    <tr>\n",
              "      <th>Partial AIC</th>\n",
              "      <td>25415.41</td>\n",
              "    </tr>\n",
              "    <tr>\n",
              "      <th>log-likelihood ratio test</th>\n",
              "      <td>5928.67 on 19 df</td>\n",
              "    </tr>\n",
              "    <tr>\n",
              "      <th>-log2(p) of ll-ratio test</th>\n",
              "      <td>inf</td>\n",
              "    </tr>\n",
              "  </tbody>\n",
              "</table>\n",
              "</div>"
            ],
            "text/latex": [
              "\\begin{tabular}{lrrrrrrrrrr}\n",
              "\\toprule\n",
              "{} &  coef &  exp(coef) &  se(coef) &  coef lower 95\\% &  coef upper 95\\% &  exp(coef) lower 95\\% &  exp(coef) upper 95\\% &      z &    p &  -log2(p) \\\\\n",
              "covariate                             &       &            &           &                 &                 &                      &                      &        &      &           \\\\\n",
              "\\midrule\n",
              "SeniorCitizen                         &  0.03 &       1.03 &      0.06 &           -0.08 &            0.14 &                 0.93 &                 1.16 &   0.60 & 0.55 &      0.87 \\\\\n",
              "Partner                               & -0.19 &       0.82 &      0.06 &           -0.30 &           -0.09 &                 0.74 &                 0.92 &  -3.52 & 0.00 &     11.20 \\\\\n",
              "Dependents                            & -0.10 &       0.91 &      0.07 &           -0.23 &            0.04 &                 0.79 &                 1.04 &  -1.39 & 0.17 &      2.60 \\\\\n",
              "OnlineSecurity                        & -0.38 &       0.68 &      0.07 &           -0.51 &           -0.25 &                 0.60 &                 0.78 &  -5.65 & 0.00 &     25.89 \\\\\n",
              "OnlineBackup                          & -0.29 &       0.75 &      0.06 &           -0.40 &           -0.18 &                 0.67 &                 0.83 &  -5.22 & 0.00 &     22.41 \\\\\n",
              "DeviceProtection                      & -0.16 &       0.85 &      0.06 &           -0.27 &           -0.05 &                 0.76 &                 0.95 &  -2.85 & 0.00 &      7.85 \\\\\n",
              "TechSupport                           & -0.28 &       0.76 &      0.07 &           -0.41 &           -0.15 &                 0.67 &                 0.86 &  -4.19 & 0.00 &     15.15 \\\\\n",
              "StreamingTV                           & -0.27 &       0.77 &      0.06 &           -0.38 &           -0.15 &                 0.68 &                 0.86 &  -4.46 & 0.00 &     16.86 \\\\\n",
              "StreamingMovies                       & -0.26 &       0.77 &      0.06 &           -0.38 &           -0.14 &                 0.69 &                 0.87 &  -4.36 & 0.00 &     16.26 \\\\\n",
              "PaperlessBilling                      &  0.16 &       1.17 &      0.06 &            0.05 &            0.27 &                 1.05 &                 1.31 &   2.79 & 0.01 &      7.57 \\\\\n",
              "MonthlyCharges                        &  0.07 &       1.07 &      0.00 &            0.06 &            0.07 &                 1.06 &                 1.07 &  26.59 & 0.00 &    515.01 \\\\\n",
              "TotalCharges                          & -0.00 &       1.00 &      0.00 &           -0.00 &           -0.00 &                 1.00 &                 1.00 & -40.10 & 0.00 &       inf \\\\\n",
              "MultipleLines\\_No phone service        &  0.64 &       1.89 &      0.12 &            0.41 &            0.87 &                 1.51 &                 2.38 &   5.50 & 0.00 &     24.62 \\\\\n",
              "MultipleLines\\_Yes                     & -0.20 &       0.82 &      0.05 &           -0.30 &           -0.09 &                 0.74 &                 0.91 &  -3.68 & 0.00 &     12.09 \\\\\n",
              "Contract\\_One year                     & -1.40 &       0.25 &      0.10 &           -1.60 &           -1.20 &                 0.20 &                 0.30 & -13.78 & 0.00 &    141.13 \\\\\n",
              "Contract\\_Two year                     & -4.05 &       0.02 &      0.20 &           -4.43 &           -3.66 &                 0.01 &                 0.03 & -20.74 & 0.00 &    314.88 \\\\\n",
              "PaymentMethod\\_Credit card (automatic) & -0.01 &       0.99 &      0.09 &           -0.18 &            0.17 &                 0.83 &                 1.19 &  -0.06 & 0.95 &      0.07 \\\\\n",
              "PaymentMethod\\_Electronic check        &  0.38 &       1.46 &      0.07 &            0.24 &            0.52 &                 1.27 &                 1.69 &   5.20 & 0.00 &     22.29 \\\\\n",
              "PaymentMethod\\_Mailed check            &  0.52 &       1.68 &      0.09 &            0.35 &            0.69 &                 1.42 &                 1.99 &   5.96 & 0.00 &     28.57 \\\\\n",
              "\\bottomrule\n",
              "\\end{tabular}\n"
            ],
            "text/plain": [
              "<lifelines.CoxPHFitter: fitted with 7043 total observations, 5174 right-censored observations>\n",
              "             duration col = 'tenure'\n",
              "                event col = 'Churn'\n",
              "      baseline estimation = breslow\n",
              "   number of observations = 7043\n",
              "number of events observed = 1869\n",
              "   partial log-likelihood = -12688.70\n",
              "         time fit was run = 2021-12-31 04:16:49 UTC\n",
              "\n",
              "---\n",
              "                                        coef  exp(coef)   se(coef)   coef lower 95%   coef upper 95%  exp(coef) lower 95%  exp(coef) upper 95%\n",
              "covariate                                                                                                                                     \n",
              "SeniorCitizen                           0.03       1.03       0.06            -0.08             0.14                 0.93                 1.16\n",
              "Partner                                -0.19       0.82       0.06            -0.30            -0.09                 0.74                 0.92\n",
              "Dependents                             -0.10       0.91       0.07            -0.23             0.04                 0.79                 1.04\n",
              "OnlineSecurity                         -0.38       0.68       0.07            -0.51            -0.25                 0.60                 0.78\n",
              "OnlineBackup                           -0.29       0.75       0.06            -0.40            -0.18                 0.67                 0.83\n",
              "DeviceProtection                       -0.16       0.85       0.06            -0.27            -0.05                 0.76                 0.95\n",
              "TechSupport                            -0.28       0.76       0.07            -0.41            -0.15                 0.67                 0.86\n",
              "StreamingTV                            -0.27       0.77       0.06            -0.38            -0.15                 0.68                 0.86\n",
              "StreamingMovies                        -0.26       0.77       0.06            -0.38            -0.14                 0.69                 0.87\n",
              "PaperlessBilling                        0.16       1.17       0.06             0.05             0.27                 1.05                 1.31\n",
              "MonthlyCharges                          0.07       1.07       0.00             0.06             0.07                 1.06                 1.07\n",
              "TotalCharges                           -0.00       1.00       0.00            -0.00            -0.00                 1.00                 1.00\n",
              "MultipleLines_No phone service          0.64       1.89       0.12             0.41             0.87                 1.51                 2.38\n",
              "MultipleLines_Yes                      -0.20       0.82       0.05            -0.30            -0.09                 0.74                 0.91\n",
              "Contract_One year                      -1.40       0.25       0.10            -1.60            -1.20                 0.20                 0.30\n",
              "Contract_Two year                      -4.05       0.02       0.20            -4.43            -3.66                 0.01                 0.03\n",
              "PaymentMethod_Credit card (automatic)  -0.01       0.99       0.09            -0.18             0.17                 0.83                 1.19\n",
              "PaymentMethod_Electronic check          0.38       1.46       0.07             0.24             0.52                 1.27                 1.69\n",
              "PaymentMethod_Mailed check              0.52       1.68       0.09             0.35             0.69                 1.42                 1.99\n",
              "\n",
              "                                           z      p   -log2(p)\n",
              "covariate                                                     \n",
              "SeniorCitizen                           0.60   0.55       0.87\n",
              "Partner                                -3.52 <0.005      11.20\n",
              "Dependents                             -1.39   0.17       2.60\n",
              "OnlineSecurity                         -5.65 <0.005      25.89\n",
              "OnlineBackup                           -5.22 <0.005      22.41\n",
              "DeviceProtection                       -2.85 <0.005       7.85\n",
              "TechSupport                            -4.19 <0.005      15.15\n",
              "StreamingTV                            -4.46 <0.005      16.86\n",
              "StreamingMovies                        -4.36 <0.005      16.26\n",
              "PaperlessBilling                        2.79   0.01       7.57\n",
              "MonthlyCharges                         26.59 <0.005     515.01\n",
              "TotalCharges                          -40.10 <0.005        inf\n",
              "MultipleLines_No phone service          5.50 <0.005      24.62\n",
              "MultipleLines_Yes                      -3.68 <0.005      12.09\n",
              "Contract_One year                     -13.78 <0.005     141.13\n",
              "Contract_Two year                     -20.74 <0.005     314.88\n",
              "PaymentMethod_Credit card (automatic)  -0.06   0.95       0.07\n",
              "PaymentMethod_Electronic check          5.20 <0.005      22.29\n",
              "PaymentMethod_Mailed check              5.96 <0.005      28.57\n",
              "---\n",
              "Concordance = 0.93\n",
              "Partial AIC = 25415.41\n",
              "log-likelihood ratio test = 5928.67 on 19 df\n",
              "-log2(p) of ll-ratio test = inf"
            ]
          },
          "metadata": {},
          "output_type": "display_data"
        },
        {
          "name": "stdout",
          "output_type": "stream",
          "text": [
            "None\n"
          ]
        }
      ],
      "source": [
        "cph = lifelines.CoxPHFitter()\n",
        "cph.fit(churn, duration_col='tenure', event_col='Churn', show_progress=False)\n",
        "print(cph.print_summary())"
      ]
    },
    {
      "cell_type": "code",
      "execution_count": 13,
      "metadata": {
        "colab": {
          "base_uri": "https://localhost:8080/",
          "height": 430
        },
        "id": "01tRZlNywY6f",
        "outputId": "9fe3db88-de67-4319-f4ce-22ec724d37e7"
      },
      "outputs": [
        {
          "data": {
            "image/png": "[encoded data removed]",
            "text/plain": [
              "<Figure size 864x504 with 1 Axes>"
            ]
          },
          "metadata": {
            "needs_background": "light"
          },
          "output_type": "display_data"
        }
      ],
      "source": [
        "# plotting coefficients\n",
        "fig_coef, ax_coef = plt.subplots(figsize=(12,7))\n",
        "ax_coef.set_title('Survival Regression: Coefficients and Confident Intervals')\n",
        "cph.plot(ax=ax_coef);"
      ]
    },
    {
      "cell_type": "code",
      "execution_count": 14,
      "metadata": {
        "id": "zVEHqFhNyG49"
      },
      "outputs": [],
      "source": [
        "# function for creating Kaplan-Meier curve plots segmented\n",
        "# by categorical variables\n",
        "def plot_categorical_survival(feature, t='tenure', event='Churn', df=df, ax=None):\n",
        "    for cat in df[feature].unique():\n",
        "        idx = df[feature] == cat\n",
        "        kmf = lifelines.KaplanMeierFitter()\n",
        "        kmf.fit(df[idx][t], event_observed=df[idx][event], label=cat)\n",
        "        kmf.plot(ax=ax, label=cat)"
      ]
    },
    {
      "cell_type": "code",
      "execution_count": 15,
      "metadata": {
        "colab": {
          "base_uri": "https://localhost:8080/",
          "height": 458
        },
        "id": "E6wBQAUEyYyV",
        "outputId": "11371d7c-ef9e-4236-bac4-60709b7c7486"
      },
      "outputs": [
        {
          "data": {
            "image/png": "[encoded data removed]",
            "text/plain": [
              "<Figure size 864x504 with 1 Axes>"
            ]
          },
          "metadata": {
            "needs_background": "light"
          },
          "output_type": "display_data"
        }
      ],
      "source": [
        "fig_pmt, ax_pmt = plt.subplots(figsize=(12,7))\n",
        "plot_categorical_survival(feature='Contract', ax=ax_pmt)\n",
        "ax_pmt.set_title('Customer Churn by Contract Method')\n",
        "ax_pmt.set_xlabel('Customer Tenure (Months)')\n",
        "ax_pmt.set_ylabel('Customer Survival Chance (%)')\n",
        "plt.show()"
      ]
    },
    {
      "cell_type": "code",
      "execution_count": 16,
      "metadata": {
        "colab": {
          "base_uri": "https://localhost:8080/",
          "height": 458
        },
        "id": "vvKSLtzqzAA9",
        "outputId": "e1e65708-eb9e-4978-83dd-4a3118f8d9e3"
      },
      "outputs": [
        {
          "data": {
            "image/png": "[encoded data removed]",
            "text/plain": [
              "<Figure size 864x504 with 1 Axes>"
            ]
          },
          "metadata": {
            "needs_background": "light"
          },
          "output_type": "display_data"
        }
      ],
      "source": [
        "fig_pmt, ax_pmt = plt.subplots(figsize=(12,7))\n",
        "plot_categorical_survival(feature='InternetService', ax=ax_pmt)\n",
        "ax_pmt.set_title('Customer Churn by InternetService Method')\n",
        "ax_pmt.set_xlabel('Customer Tenure (Months)')\n",
        "ax_pmt.set_ylabel('Customer Survival Chance (%)')\n",
        "plt.show()"
      ]
    },
    {
      "cell_type": "code",
      "execution_count": 17,
      "metadata": {
        "colab": {
          "base_uri": "https://localhost:8080/"
        },
        "id": "dHltQBv0pZBH",
        "outputId": "992bee1e-486a-4cff-fc1c-72adf93fe216"
      },
      "outputs": [
        {
          "data": {
            "text/plain": [
              "array(['No', 'Yes', 'No internet service'], dtype=object)"
            ]
          },
          "execution_count": 17,
          "metadata": {},
          "output_type": "execute_result"
        }
      ],
      "source": [
        "df.OnlineSecurity.unique()"
      ]
    },
    {
      "cell_type": "code",
      "execution_count": 18,
      "metadata": {
        "colab": {
          "base_uri": "https://localhost:8080/",
          "height": 458
        },
        "id": "fQ9R61yzygT9",
        "outputId": "5abf3b47-9581-4d58-ed70-4457ac7fae2d"
      },
      "outputs": [
        {
          "data": {
            "image/png": "[encoded data removed]",
            "text/plain": [
              "<Figure size 864x504 with 1 Axes>"
            ]
          },
          "metadata": {
            "needs_background": "light"
          },
          "output_type": "display_data"
        }
      ],
      "source": [
        "fig_pmt, ax_pmt = plt.subplots(figsize=(12,7))\n",
        "plot_categorical_survival(feature='OnlineSecurity', ax=ax_pmt)\n",
        "ax_pmt.set_title('Customer Churn by OnlineSecurity Method')\n",
        "ax_pmt.set_xlabel('Customer Tenure (Months)')\n",
        "ax_pmt.set_ylabel('Customer Survival Chance (%)')\n",
        "plt.show()"
      ]
    },
    {
      "cell_type": "markdown",
      "metadata": {
        "id": "ZjkxUylpli22"
      },
      "source": [
        "#### ผลลัพธ์จากการนำปจจัยที่สำคัญมาเเบ่งกลุ่มเพื่อดูผลลัพธ์เทียบกันได้\n",
        "1. วิเคราะห์ตามประเภทของ Contract ได้แก่ กลุ่มลูกค้าที่ต่อสัญญาเเบบ Month-to-month, กลุ่มลูกค้าที่ต่อสัญญาเเบบ One year และกลุ่มลูกค้าที่ต่อสัญญาเเบบ Two year จากกราฟ จะเห็นว่ากลุ่มลูกค้าที่ต่อสัญญาเเบบ Month-to-month มีอัตราการ churn เยอะกว่าลูกค้ากลุ่มที่ต่อสัญญาเเบบ One year และTwo year โดยเมื่อระยะเวลาผ่านไป 70 กว่าเดือน ลูกค้าที่ย้ายค่ายมีทั้งหมดมากกว่า 80% จากลูกค้าทั้งหมด ในขณะที่กลุ่มลูกค้าที่ที่ต่อสัญญาเเบบ Two year นั้นมี churn rate ที่ต่ำมาก โดยเมื่อเวลาผ่านไปนั้น กลุ่มลูกค้าที่ย้ายค่ายต่ำกว่า 5%\n",
        "\n",
        "2. วิเคราะห์ตามประเภทของ Online Security ได้แก่ กลุ่มลูกค้าที่ใช้บริการ Online Security, กลุ่มลูกค้าที่ไม่ใช้บริการ Online Security และกลุ่มลูกค้าที่ไม่มีบริการอินเทอร์เน็ต จากกราฟ จะเห็นว่ากลุ่มลูกค้าไม่ใช้บริการ Online Security มีอัตราการ churn เยอะกว่ากลุ่มลูกค้าใช้บริการ Online Security และไม่มีบริการอินเทอร์เน็ต โดยเมื่อระยะเวลาผ่านไป 70 กว่าเดือน ลูกค้าที่ย้ายค่ายมีทั้งหมดมากกว่า 65% จากลูกค้าทั้งหมด ในขณะที่กลุ่มลูกค้าที่ไม่มีบริการอินเทอร์เน็ต นั้นมี churn rate ที่ต่ำมาก โดยเมื่อเวลาผ่านไปนั้น กลุ่มลูกค้าที่ย้ายค่ายต่ำกว่า 5%\n",
        "\n",
        "3. วิเคราะห์ตามประเภทของ internet service ได้แก่ กลุ่มลูกค้าที่ไม่รับ internet service, กลุ่มลูกค้าที่ติดตั้ง DSL และกลุ่มลูกค้าที่รับ Fiber optic จากกราฟ จะเห็นว่ากลุ่มลูกค้า Fiber optic มีอัตราการ churn เยอะกว่าลูกค้ากลุ่ม DSL และไม่ติดตั้งเลย โดยเมื่อระยะเวลาผ่านไป 70 กว่าเดือน ลูกค้าที่ย้ายค่ายมีทั้งหมดมากกว่า 60% จากลูกค้าทั้งหมด ในขณะที่กลุ่มลูกค้าที่ไม่ติดตั้ง internet service นั้นมี churn rate ที่ต่ำมาก โดยเมื่อเวลาผ่านไปนั้น กลุ่มลูกค้าที่ย้ายค่ายต่ำกว่า 10%\n",
        "\n",
        "\n"
      ]
    },
    {
      "cell_type": "code",
      "execution_count": 29,
      "metadata": {
        "id": "XVvGSKgbzFsl"
      },
      "outputs": [],
      "source": []
    }
  ],
  "metadata": {
    "colab": {
      "name": "นานเท่าไหร่กว่าลูกค้าจะเลิกใช้บริการด้วย Survival Analysis.ipynb",
      "provenance": []
    },
    "kernelspec": {
      "display_name": "Python 3",
      "name": "python3"
    },
    "language_info": {
      "codemirror_mode": {
        "name": "ipython",
        "version": 3
      },
      "file_extension": ".py",
      "mimetype": "text/x-python",
      "name": "python",
      "nbconvert_exporter": "python",
      "pygments_lexer": "ipython3",
      "version": "3.7.12"
    }
  },
  "nbformat": 4,
  "nbformat_minor": 0
}
